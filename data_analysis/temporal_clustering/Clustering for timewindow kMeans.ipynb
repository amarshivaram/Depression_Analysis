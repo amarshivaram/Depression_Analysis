{
 "cells": [
  {
   "cell_type": "code",
   "execution_count": 1,
   "metadata": {},
   "outputs": [],
   "source": [
    "import numpy as np\n",
    "import pandas as pd\n",
    "import matplotlib.pyplot as plt\n",
    "import tensorflow as tf\n",
    "import nltk\n",
    "import re\n",
    "import pickle\n",
    "import gc\n",
    "import sys\n",
    "import os\n",
    "from collections import OrderedDict \n"
   ]
  },
  {
   "cell_type": "code",
   "execution_count": 2,
   "metadata": {},
   "outputs": [],
   "source": [
    "depressed_dataset = pd.read_csv(\"D:\\Workspace\\OVGU\\SM_Depression\\src\\depTweetsOrderedByDateTimeWindowURLTokens.csv\")"
   ]
  },
  {
   "cell_type": "code",
   "execution_count": 3,
   "metadata": {},
   "outputs": [
    {
     "name": "stdout",
     "output_type": "stream",
     "text": [
      "<class 'pandas.core.frame.DataFrame'>\n",
      "RangeIndex: 61972 entries, 0 to 61971\n",
      "Data columns (total 15 columns):\n",
      " #   Column            Non-Null Count  Dtype  \n",
      "---  ------            --------------  -----  \n",
      " 0   accountname       61972 non-null  object \n",
      " 1   description       61483 non-null  object \n",
      " 2   favorite_count    61937 non-null  float64\n",
      " 3   location          51551 non-null  object \n",
      " 4   masked_user_id    61972 non-null  object \n",
      " 5   retweet_count     61968 non-null  object \n",
      " 6   timestamp         61972 non-null  object \n",
      " 7   tweets            61972 non-null  object \n",
      " 8   twittername       61972 non-null  object \n",
      " 9   user_type         61972 non-null  float64\n",
      " 10  format            61972 non-null  int64  \n",
      " 11  new_date          61972 non-null  object \n",
      " 12  time_window       61972 non-null  int64  \n",
      " 13  tweets_url_token  61972 non-null  object \n",
      " 14  cleanData         61728 non-null  object \n",
      "dtypes: float64(2), int64(2), object(11)\n",
      "memory usage: 7.1+ MB\n"
     ]
    }
   ],
   "source": [
    "depressed_dataset.info()"
   ]
  },
  {
   "cell_type": "code",
   "execution_count": 4,
   "metadata": {},
   "outputs": [
    {
     "name": "stdout",
     "output_type": "stream",
     "text": [
      "2.2.0\n"
     ]
    }
   ],
   "source": [
    "print(tf.__version__)"
   ]
  },
  {
   "cell_type": "code",
   "execution_count": 5,
   "metadata": {},
   "outputs": [
    {
     "data": {
      "text/html": [
       "<div>\n",
       "<style scoped>\n",
       "    .dataframe tbody tr th:only-of-type {\n",
       "        vertical-align: middle;\n",
       "    }\n",
       "\n",
       "    .dataframe tbody tr th {\n",
       "        vertical-align: top;\n",
       "    }\n",
       "\n",
       "    .dataframe thead th {\n",
       "        text-align: right;\n",
       "    }\n",
       "</style>\n",
       "<table border=\"1\" class=\"dataframe\">\n",
       "  <thead>\n",
       "    <tr style=\"text-align: right;\">\n",
       "      <th></th>\n",
       "      <th>accountname</th>\n",
       "      <th>description</th>\n",
       "      <th>favorite_count</th>\n",
       "      <th>location</th>\n",
       "      <th>masked_user_id</th>\n",
       "      <th>retweet_count</th>\n",
       "      <th>timestamp</th>\n",
       "      <th>tweets</th>\n",
       "      <th>twittername</th>\n",
       "      <th>user_type</th>\n",
       "      <th>format</th>\n",
       "      <th>new_date</th>\n",
       "      <th>time_window</th>\n",
       "      <th>tweets_url_token</th>\n",
       "      <th>cleanData</th>\n",
       "    </tr>\n",
       "  </thead>\n",
       "  <tbody>\n",
       "    <tr>\n",
       "      <th>0</th>\n",
       "      <td>Cmdr. Nasty Tinkerbell of the 4077th</td>\n",
       "      <td>NSFW \\r\\r\\r\\r\\nWoman \\r\\r\\r\\r\\nDisabled \\r\\r\\r...</td>\n",
       "      <td>0.0</td>\n",
       "      <td>Exploring the universe</td>\n",
       "      <td>depressed_user_11</td>\n",
       "      <td>0.0</td>\n",
       "      <td>24-06-2020 00:00</td>\n",
       "      <td>@Twitter it's about time.\\r\\r\\r\\r\\n\\r\\r\\r\\r\\nL...</td>\n",
       "      <td>CmdrTinkerBell</td>\n",
       "      <td>1.0</td>\n",
       "      <td>1</td>\n",
       "      <td>2020-06-24 00:00</td>\n",
       "      <td>1</td>\n",
       "      <td>@Twitter it's about time.\\r\\r\\r\\r\\n\\r\\r\\r\\r\\nL...</td>\n",
       "      <td>it's about time. Lol IT'S NOT FAIR [URL] [URL]</td>\n",
       "    </tr>\n",
       "    <tr>\n",
       "      <th>1</th>\n",
       "      <td>Cmdr. Nasty Tinkerbell of the 4077th</td>\n",
       "      <td>NSFW \\r\\r\\r\\r\\nWoman \\r\\r\\r\\r\\nDisabled \\r\\r\\r...</td>\n",
       "      <td>0.0</td>\n",
       "      <td>Exploring the universe</td>\n",
       "      <td>depressed_user_11</td>\n",
       "      <td>0.0</td>\n",
       "      <td>24-06-2020 00:02</td>\n",
       "      <td>@w_terrence @PearlCathey8 Like deplorable, lik...</td>\n",
       "      <td>CmdrTinkerBell</td>\n",
       "      <td>1.0</td>\n",
       "      <td>1</td>\n",
       "      <td>2020-06-24 00:02</td>\n",
       "      <td>1</td>\n",
       "      <td>@w_terrence @PearlCathey8 Like deplorable, lik...</td>\n",
       "      <td>Like deplorable, like donnie, have to use cont...</td>\n",
       "    </tr>\n",
       "    <tr>\n",
       "      <th>2</th>\n",
       "      <td>Cmdr. Nasty Tinkerbell of the 4077th</td>\n",
       "      <td>NSFW \\r\\r\\r\\r\\nWoman \\r\\r\\r\\r\\nDisabled \\r\\r\\r...</td>\n",
       "      <td>0.0</td>\n",
       "      <td>Exploring the universe</td>\n",
       "      <td>depressed_user_11</td>\n",
       "      <td>0.0</td>\n",
       "      <td>24-06-2020 00:05</td>\n",
       "      <td>@HarleyQuinnlif3 Dick always ruin things lol</td>\n",
       "      <td>CmdrTinkerBell</td>\n",
       "      <td>1.0</td>\n",
       "      <td>1</td>\n",
       "      <td>2020-06-24 00:05</td>\n",
       "      <td>1</td>\n",
       "      <td>@HarleyQuinnlif3 Dick always ruin things lol</td>\n",
       "      <td>Dick always ruin things lol</td>\n",
       "    </tr>\n",
       "    <tr>\n",
       "      <th>3</th>\n",
       "      <td>Cmdr. Nasty Tinkerbell of the 4077th</td>\n",
       "      <td>NSFW \\r\\r\\r\\r\\nWoman \\r\\r\\r\\r\\nDisabled \\r\\r\\r...</td>\n",
       "      <td>2.0</td>\n",
       "      <td>Exploring the universe</td>\n",
       "      <td>depressed_user_11</td>\n",
       "      <td>0.0</td>\n",
       "      <td>24-06-2020 00:13</td>\n",
       "      <td>After seeing pics of todays rally in Phoenix I...</td>\n",
       "      <td>CmdrTinkerBell</td>\n",
       "      <td>1.0</td>\n",
       "      <td>1</td>\n",
       "      <td>2020-06-24 00:13</td>\n",
       "      <td>1</td>\n",
       "      <td>After seeing pics of todays rally in Phoenix I...</td>\n",
       "      <td>After seeing pics of todays rally in Phoenix I...</td>\n",
       "    </tr>\n",
       "    <tr>\n",
       "      <th>4</th>\n",
       "      <td>Cmdr. Nasty Tinkerbell of the 4077th</td>\n",
       "      <td>NSFW \\r\\r\\r\\r\\nWoman \\r\\r\\r\\r\\nDisabled \\r\\r\\r...</td>\n",
       "      <td>2.0</td>\n",
       "      <td>Exploring the universe</td>\n",
       "      <td>depressed_user_11</td>\n",
       "      <td>0.0</td>\n",
       "      <td>24-06-2020 00:13</td>\n",
       "      <td>if I do get covid19 becuase I'm surrounded by ...</td>\n",
       "      <td>CmdrTinkerBell</td>\n",
       "      <td>1.0</td>\n",
       "      <td>1</td>\n",
       "      <td>2020-06-24 00:13</td>\n",
       "      <td>1</td>\n",
       "      <td>if I do get covid19 becuase I'm surrounded by ...</td>\n",
       "      <td>if I do get covid19 becuase I'm surrounded by ...</td>\n",
       "    </tr>\n",
       "  </tbody>\n",
       "</table>\n",
       "</div>"
      ],
      "text/plain": [
       "                            accountname  \\\n",
       "0  Cmdr. Nasty Tinkerbell of the 4077th   \n",
       "1  Cmdr. Nasty Tinkerbell of the 4077th   \n",
       "2  Cmdr. Nasty Tinkerbell of the 4077th   \n",
       "3  Cmdr. Nasty Tinkerbell of the 4077th   \n",
       "4  Cmdr. Nasty Tinkerbell of the 4077th   \n",
       "\n",
       "                                         description  favorite_count  \\\n",
       "0  NSFW \\r\\r\\r\\r\\nWoman \\r\\r\\r\\r\\nDisabled \\r\\r\\r...             0.0   \n",
       "1  NSFW \\r\\r\\r\\r\\nWoman \\r\\r\\r\\r\\nDisabled \\r\\r\\r...             0.0   \n",
       "2  NSFW \\r\\r\\r\\r\\nWoman \\r\\r\\r\\r\\nDisabled \\r\\r\\r...             0.0   \n",
       "3  NSFW \\r\\r\\r\\r\\nWoman \\r\\r\\r\\r\\nDisabled \\r\\r\\r...             2.0   \n",
       "4  NSFW \\r\\r\\r\\r\\nWoman \\r\\r\\r\\r\\nDisabled \\r\\r\\r...             2.0   \n",
       "\n",
       "                  location     masked_user_id retweet_count         timestamp  \\\n",
       "0  Exploring the universe   depressed_user_11           0.0  24-06-2020 00:00   \n",
       "1  Exploring the universe   depressed_user_11           0.0  24-06-2020 00:02   \n",
       "2  Exploring the universe   depressed_user_11           0.0  24-06-2020 00:05   \n",
       "3  Exploring the universe   depressed_user_11           0.0  24-06-2020 00:13   \n",
       "4  Exploring the universe   depressed_user_11           0.0  24-06-2020 00:13   \n",
       "\n",
       "                                              tweets     twittername  \\\n",
       "0  @Twitter it's about time.\\r\\r\\r\\r\\n\\r\\r\\r\\r\\nL...  CmdrTinkerBell   \n",
       "1  @w_terrence @PearlCathey8 Like deplorable, lik...  CmdrTinkerBell   \n",
       "2       @HarleyQuinnlif3 Dick always ruin things lol  CmdrTinkerBell   \n",
       "3  After seeing pics of todays rally in Phoenix I...  CmdrTinkerBell   \n",
       "4  if I do get covid19 becuase I'm surrounded by ...  CmdrTinkerBell   \n",
       "\n",
       "   user_type  format          new_date  time_window  \\\n",
       "0        1.0       1  2020-06-24 00:00            1   \n",
       "1        1.0       1  2020-06-24 00:02            1   \n",
       "2        1.0       1  2020-06-24 00:05            1   \n",
       "3        1.0       1  2020-06-24 00:13            1   \n",
       "4        1.0       1  2020-06-24 00:13            1   \n",
       "\n",
       "                                    tweets_url_token  \\\n",
       "0  @Twitter it's about time.\\r\\r\\r\\r\\n\\r\\r\\r\\r\\nL...   \n",
       "1  @w_terrence @PearlCathey8 Like deplorable, lik...   \n",
       "2       @HarleyQuinnlif3 Dick always ruin things lol   \n",
       "3  After seeing pics of todays rally in Phoenix I...   \n",
       "4  if I do get covid19 becuase I'm surrounded by ...   \n",
       "\n",
       "                                           cleanData  \n",
       "0     it's about time. Lol IT'S NOT FAIR [URL] [URL]  \n",
       "1  Like deplorable, like donnie, have to use cont...  \n",
       "2                        Dick always ruin things lol  \n",
       "3  After seeing pics of todays rally in Phoenix I...  \n",
       "4  if I do get covid19 becuase I'm surrounded by ...  "
      ]
     },
     "execution_count": 5,
     "metadata": {},
     "output_type": "execute_result"
    }
   ],
   "source": [
    "depressed_dataset.head()"
   ]
  },
  {
   "cell_type": "code",
   "execution_count": 6,
   "metadata": {},
   "outputs": [
    {
     "name": "stdout",
     "output_type": "stream",
     "text": [
      "accountname             0\n",
      "description           489\n",
      "favorite_count         35\n",
      "location            10421\n",
      "masked_user_id          0\n",
      "retweet_count           4\n",
      "timestamp               0\n",
      "tweets                  0\n",
      "twittername             0\n",
      "user_type               0\n",
      "format                  0\n",
      "new_date                0\n",
      "time_window             0\n",
      "tweets_url_token        0\n",
      "cleanData             244\n",
      "dtype: int64\n",
      "accountname         0\n",
      "description         0\n",
      "favorite_count      0\n",
      "location            0\n",
      "masked_user_id      0\n",
      "retweet_count       0\n",
      "timestamp           0\n",
      "tweets              0\n",
      "twittername         0\n",
      "user_type           0\n",
      "format              0\n",
      "new_date            0\n",
      "time_window         0\n",
      "tweets_url_token    0\n",
      "cleanData           0\n",
      "dtype: int64\n",
      "\n"
     ]
    }
   ],
   "source": [
    "print(depressed_dataset.isnull().sum())\n",
    "\n",
    "\n",
    "depressed_dataset = depressed_dataset.replace(np.nan, '', regex=True)\n",
    "\n",
    "print(depressed_dataset.isnull().sum())\n",
    "print(\"\")\n",
    "# print(depressed_dataset.info())"
   ]
  },
  {
   "cell_type": "code",
   "execution_count": 7,
   "metadata": {},
   "outputs": [],
   "source": [
    "tweet_text = depressed_dataset.loc[:,'cleanData']"
   ]
  },
  {
   "cell_type": "code",
   "execution_count": 8,
   "metadata": {},
   "outputs": [
    {
     "data": {
      "text/plain": [
       "0           it's about time. Lol IT'S NOT FAIR [URL] [URL]\n",
       "1        Like deplorable, like donnie, have to use cont...\n",
       "2                              Dick always ruin things lol\n",
       "3        After seeing pics of todays rally in Phoenix I...\n",
       "4        if I do get covid19 becuase I'm surrounded by ...\n",
       "                               ...                        \n",
       "61967    You need not to be afraid anymore. You are lov...\n",
       "61968    I did register but I still didn't get the link...\n",
       "61969               You have a beautiful name too! ð???â?�\n",
       "61970                                                 yes!\n",
       "61971                                 Can I get the link??\n",
       "Name: cleanData, Length: 61972, dtype: object"
      ]
     },
     "execution_count": 8,
     "metadata": {},
     "output_type": "execute_result"
    }
   ],
   "source": [
    "tweet_text"
   ]
  },
  {
   "cell_type": "code",
   "execution_count": 9,
   "metadata": {},
   "outputs": [],
   "source": [
    "def preprocessing(String): #default value is always true for stemming and stopwords\n",
    "#     print(String)\n",
    "#     print(\"\")\n",
    "    '''\n",
    "    This function is used for preprocessing\n",
    "    - Tokenization\n",
    "    - Stemming\n",
    "    - Stop Words\n",
    "        \n",
    "    '''\n",
    "    \n",
    "    influential_words = re.sub(r'[^a-zA-Z0-9_\\[\\]]', ' ', String)\n",
    "#     print(influential_words)\n",
    "#     tokens = nltk.word_tokenize(String)\n",
    "#     print(tokens)\n",
    "#     token = [word for word in tokens if word.isalpha()]\n",
    "#     print(token)\n",
    "#     influential_words = \" \".join(token)\n",
    "#     print(influential_words)\n",
    "    influential_words = influential_words.lower()\n",
    "#     print(influential_words)\n",
    "#     influential_words = influential_words.split()\n",
    "#     print(influential_words)\n",
    "#     stemwords_string = \" \".join(influential_words)\n",
    "#     print(stemwords_string)\n",
    "    return influential_words"
   ]
  },
  {
   "cell_type": "code",
   "execution_count": 10,
   "metadata": {},
   "outputs": [],
   "source": [
    "final_text = []\n",
    "for i in range(0,len(depressed_dataset.axes[0])):\n",
    "    final_text.append(str(preprocessing(tweet_text[i])))"
   ]
  },
  {
   "cell_type": "code",
   "execution_count": 11,
   "metadata": {},
   "outputs": [],
   "source": [
    "depressed_dataset['cleanData'] = final_text"
   ]
  },
  {
   "cell_type": "code",
   "execution_count": 12,
   "metadata": {},
   "outputs": [],
   "source": [
    "del final_text,tweet_text,i"
   ]
  },
  {
   "cell_type": "code",
   "execution_count": 13,
   "metadata": {},
   "outputs": [],
   "source": [
    "#clean special characters from cleanData row to apply BERT embeddings\n",
    "def preprocess(tweets):\n",
    "    tweets = tweets.replace(\"(<br/>)\", \"\")\n",
    "    tweets = tweets.replace('(<a).*(>).*(</a>)', '')\n",
    "    tweets = tweets.replace('(&amp)', '')\n",
    "    tweets = tweets.replace('(&gt)', '')\n",
    "    tweets = tweets.replace('(&lt)', '')\n",
    "    tweets = tweets.replace('(â€™)', '')\n",
    "    tweets = tweets.replace('(\\xa0)', ' ')\n",
    "    tweets = tweets.replace('(https)', ' ')\n",
    "    tweets = tweets.replace('(RT)', ' ')\n",
    "    tweets = tweets.replace('(ðÿ)', '  ')\n",
    "    tweets = tweets.replace('(\\n)', '  ')\n",
    "    return tweets"
   ]
  },
  {
   "cell_type": "code",
   "execution_count": 14,
   "metadata": {},
   "outputs": [],
   "source": [
    "depressed_dataset['cleanData'] = depressed_dataset['cleanData'].apply(preprocess).astype(str)\n"
   ]
  },
  {
   "cell_type": "code",
   "execution_count": 15,
   "metadata": {},
   "outputs": [],
   "source": [
    "depressed_dataset['encode_flag'] = 0"
   ]
  },
  {
   "cell_type": "code",
   "execution_count": 16,
   "metadata": {},
   "outputs": [
    {
     "data": {
      "text/plain": [
       "0    61972\n",
       "Name: encode_flag, dtype: int64"
      ]
     },
     "execution_count": 16,
     "metadata": {},
     "output_type": "execute_result"
    }
   ],
   "source": [
    "depressed_dataset['encode_flag'].value_counts()"
   ]
  },
  {
   "cell_type": "code",
   "execution_count": 17,
   "metadata": {},
   "outputs": [
    {
     "data": {
      "text/html": [
       "<div>\n",
       "<style scoped>\n",
       "    .dataframe tbody tr th:only-of-type {\n",
       "        vertical-align: middle;\n",
       "    }\n",
       "\n",
       "    .dataframe tbody tr th {\n",
       "        vertical-align: top;\n",
       "    }\n",
       "\n",
       "    .dataframe thead th {\n",
       "        text-align: right;\n",
       "    }\n",
       "</style>\n",
       "<table border=\"1\" class=\"dataframe\">\n",
       "  <thead>\n",
       "    <tr style=\"text-align: right;\">\n",
       "      <th></th>\n",
       "      <th>accountname</th>\n",
       "      <th>description</th>\n",
       "      <th>favorite_count</th>\n",
       "      <th>location</th>\n",
       "      <th>masked_user_id</th>\n",
       "      <th>retweet_count</th>\n",
       "      <th>timestamp</th>\n",
       "      <th>tweets</th>\n",
       "      <th>twittername</th>\n",
       "      <th>user_type</th>\n",
       "      <th>format</th>\n",
       "      <th>new_date</th>\n",
       "      <th>time_window</th>\n",
       "      <th>tweets_url_token</th>\n",
       "      <th>cleanData</th>\n",
       "      <th>encode_flag</th>\n",
       "    </tr>\n",
       "  </thead>\n",
       "  <tbody>\n",
       "    <tr>\n",
       "      <th>0</th>\n",
       "      <td>Cmdr. Nasty Tinkerbell of the 4077th</td>\n",
       "      <td>NSFW \\r\\r\\r\\r\\nWoman \\r\\r\\r\\r\\nDisabled \\r\\r\\r...</td>\n",
       "      <td>0</td>\n",
       "      <td>Exploring the universe</td>\n",
       "      <td>depressed_user_11</td>\n",
       "      <td>0.0</td>\n",
       "      <td>24-06-2020 00:00</td>\n",
       "      <td>@Twitter it's about time.\\r\\r\\r\\r\\n\\r\\r\\r\\r\\nL...</td>\n",
       "      <td>CmdrTinkerBell</td>\n",
       "      <td>1.0</td>\n",
       "      <td>1</td>\n",
       "      <td>2020-06-24 00:00</td>\n",
       "      <td>1</td>\n",
       "      <td>@Twitter it's about time.\\r\\r\\r\\r\\n\\r\\r\\r\\r\\nL...</td>\n",
       "      <td>it s about time  lol it s not fair [url] [url]</td>\n",
       "      <td>0</td>\n",
       "    </tr>\n",
       "    <tr>\n",
       "      <th>1</th>\n",
       "      <td>Cmdr. Nasty Tinkerbell of the 4077th</td>\n",
       "      <td>NSFW \\r\\r\\r\\r\\nWoman \\r\\r\\r\\r\\nDisabled \\r\\r\\r...</td>\n",
       "      <td>0</td>\n",
       "      <td>Exploring the universe</td>\n",
       "      <td>depressed_user_11</td>\n",
       "      <td>0.0</td>\n",
       "      <td>24-06-2020 00:02</td>\n",
       "      <td>@w_terrence @PearlCathey8 Like deplorable, lik...</td>\n",
       "      <td>CmdrTinkerBell</td>\n",
       "      <td>1.0</td>\n",
       "      <td>1</td>\n",
       "      <td>2020-06-24 00:02</td>\n",
       "      <td>1</td>\n",
       "      <td>@w_terrence @PearlCathey8 Like deplorable, lik...</td>\n",
       "      <td>like deplorable  like donnie  have to use cont...</td>\n",
       "      <td>0</td>\n",
       "    </tr>\n",
       "    <tr>\n",
       "      <th>2</th>\n",
       "      <td>Cmdr. Nasty Tinkerbell of the 4077th</td>\n",
       "      <td>NSFW \\r\\r\\r\\r\\nWoman \\r\\r\\r\\r\\nDisabled \\r\\r\\r...</td>\n",
       "      <td>0</td>\n",
       "      <td>Exploring the universe</td>\n",
       "      <td>depressed_user_11</td>\n",
       "      <td>0.0</td>\n",
       "      <td>24-06-2020 00:05</td>\n",
       "      <td>@HarleyQuinnlif3 Dick always ruin things lol</td>\n",
       "      <td>CmdrTinkerBell</td>\n",
       "      <td>1.0</td>\n",
       "      <td>1</td>\n",
       "      <td>2020-06-24 00:05</td>\n",
       "      <td>1</td>\n",
       "      <td>@HarleyQuinnlif3 Dick always ruin things lol</td>\n",
       "      <td>dick always ruin things lol</td>\n",
       "      <td>0</td>\n",
       "    </tr>\n",
       "    <tr>\n",
       "      <th>3</th>\n",
       "      <td>Cmdr. Nasty Tinkerbell of the 4077th</td>\n",
       "      <td>NSFW \\r\\r\\r\\r\\nWoman \\r\\r\\r\\r\\nDisabled \\r\\r\\r...</td>\n",
       "      <td>2</td>\n",
       "      <td>Exploring the universe</td>\n",
       "      <td>depressed_user_11</td>\n",
       "      <td>0.0</td>\n",
       "      <td>24-06-2020 00:13</td>\n",
       "      <td>After seeing pics of todays rally in Phoenix I...</td>\n",
       "      <td>CmdrTinkerBell</td>\n",
       "      <td>1.0</td>\n",
       "      <td>1</td>\n",
       "      <td>2020-06-24 00:13</td>\n",
       "      <td>1</td>\n",
       "      <td>After seeing pics of todays rally in Phoenix I...</td>\n",
       "      <td>after seeing pics of todays rally in phoenix i...</td>\n",
       "      <td>0</td>\n",
       "    </tr>\n",
       "    <tr>\n",
       "      <th>4</th>\n",
       "      <td>Cmdr. Nasty Tinkerbell of the 4077th</td>\n",
       "      <td>NSFW \\r\\r\\r\\r\\nWoman \\r\\r\\r\\r\\nDisabled \\r\\r\\r...</td>\n",
       "      <td>2</td>\n",
       "      <td>Exploring the universe</td>\n",
       "      <td>depressed_user_11</td>\n",
       "      <td>0.0</td>\n",
       "      <td>24-06-2020 00:13</td>\n",
       "      <td>if I do get covid19 becuase I'm surrounded by ...</td>\n",
       "      <td>CmdrTinkerBell</td>\n",
       "      <td>1.0</td>\n",
       "      <td>1</td>\n",
       "      <td>2020-06-24 00:13</td>\n",
       "      <td>1</td>\n",
       "      <td>if I do get covid19 becuase I'm surrounded by ...</td>\n",
       "      <td>if i do get covid19 becuase i m surrounded by ...</td>\n",
       "      <td>0</td>\n",
       "    </tr>\n",
       "  </tbody>\n",
       "</table>\n",
       "</div>"
      ],
      "text/plain": [
       "                            accountname  \\\n",
       "0  Cmdr. Nasty Tinkerbell of the 4077th   \n",
       "1  Cmdr. Nasty Tinkerbell of the 4077th   \n",
       "2  Cmdr. Nasty Tinkerbell of the 4077th   \n",
       "3  Cmdr. Nasty Tinkerbell of the 4077th   \n",
       "4  Cmdr. Nasty Tinkerbell of the 4077th   \n",
       "\n",
       "                                         description favorite_count  \\\n",
       "0  NSFW \\r\\r\\r\\r\\nWoman \\r\\r\\r\\r\\nDisabled \\r\\r\\r...              0   \n",
       "1  NSFW \\r\\r\\r\\r\\nWoman \\r\\r\\r\\r\\nDisabled \\r\\r\\r...              0   \n",
       "2  NSFW \\r\\r\\r\\r\\nWoman \\r\\r\\r\\r\\nDisabled \\r\\r\\r...              0   \n",
       "3  NSFW \\r\\r\\r\\r\\nWoman \\r\\r\\r\\r\\nDisabled \\r\\r\\r...              2   \n",
       "4  NSFW \\r\\r\\r\\r\\nWoman \\r\\r\\r\\r\\nDisabled \\r\\r\\r...              2   \n",
       "\n",
       "                  location     masked_user_id retweet_count         timestamp  \\\n",
       "0  Exploring the universe   depressed_user_11           0.0  24-06-2020 00:00   \n",
       "1  Exploring the universe   depressed_user_11           0.0  24-06-2020 00:02   \n",
       "2  Exploring the universe   depressed_user_11           0.0  24-06-2020 00:05   \n",
       "3  Exploring the universe   depressed_user_11           0.0  24-06-2020 00:13   \n",
       "4  Exploring the universe   depressed_user_11           0.0  24-06-2020 00:13   \n",
       "\n",
       "                                              tweets     twittername  \\\n",
       "0  @Twitter it's about time.\\r\\r\\r\\r\\n\\r\\r\\r\\r\\nL...  CmdrTinkerBell   \n",
       "1  @w_terrence @PearlCathey8 Like deplorable, lik...  CmdrTinkerBell   \n",
       "2       @HarleyQuinnlif3 Dick always ruin things lol  CmdrTinkerBell   \n",
       "3  After seeing pics of todays rally in Phoenix I...  CmdrTinkerBell   \n",
       "4  if I do get covid19 becuase I'm surrounded by ...  CmdrTinkerBell   \n",
       "\n",
       "   user_type  format          new_date  time_window  \\\n",
       "0        1.0       1  2020-06-24 00:00            1   \n",
       "1        1.0       1  2020-06-24 00:02            1   \n",
       "2        1.0       1  2020-06-24 00:05            1   \n",
       "3        1.0       1  2020-06-24 00:13            1   \n",
       "4        1.0       1  2020-06-24 00:13            1   \n",
       "\n",
       "                                    tweets_url_token  \\\n",
       "0  @Twitter it's about time.\\r\\r\\r\\r\\n\\r\\r\\r\\r\\nL...   \n",
       "1  @w_terrence @PearlCathey8 Like deplorable, lik...   \n",
       "2       @HarleyQuinnlif3 Dick always ruin things lol   \n",
       "3  After seeing pics of todays rally in Phoenix I...   \n",
       "4  if I do get covid19 becuase I'm surrounded by ...   \n",
       "\n",
       "                                           cleanData  encode_flag  \n",
       "0     it s about time  lol it s not fair [url] [url]            0  \n",
       "1  like deplorable  like donnie  have to use cont...            0  \n",
       "2                        dick always ruin things lol            0  \n",
       "3  after seeing pics of todays rally in phoenix i...            0  \n",
       "4  if i do get covid19 becuase i m surrounded by ...            0  "
      ]
     },
     "execution_count": 17,
     "metadata": {},
     "output_type": "execute_result"
    }
   ],
   "source": [
    "depressed_dataset.head()"
   ]
  },
  {
   "cell_type": "code",
   "execution_count": 18,
   "metadata": {},
   "outputs": [
    {
     "data": {
      "text/plain": [
       "40"
      ]
     },
     "execution_count": 18,
     "metadata": {},
     "output_type": "execute_result"
    }
   ],
   "source": [
    "gc.collect()"
   ]
  },
  {
   "cell_type": "code",
   "execution_count": 19,
   "metadata": {
    "scrolled": false
   },
   "outputs": [
    {
     "name": "stdout",
     "output_type": "stream",
     "text": [
      "depressed_dataset_1\n",
      "(700, 16)\n",
      "\n",
      "depressed_dataset_2\n",
      "(1093, 16)\n",
      "\n",
      "depressed_dataset_3\n",
      "(3223, 16)\n",
      "\n",
      "depressed_dataset_4\n",
      "(4868, 16)\n",
      "\n",
      "depressed_dataset_5\n",
      "(5463, 16)\n",
      "\n",
      "depressed_dataset_6\n",
      "(6878, 16)\n",
      "\n",
      "depressed_dataset_7\n",
      "(7786, 16)\n",
      "\n",
      "depressed_dataset_8\n",
      "(8278, 16)\n",
      "\n",
      "depressed_dataset_9\n",
      "(8394, 16)\n",
      "\n",
      "depressed_dataset_10\n",
      "(5696, 16)\n",
      "\n",
      "depressed_dataset_11\n",
      "(4408, 16)\n",
      "\n",
      "depressed_dataset_12\n",
      "(2729, 16)\n",
      "\n",
      "depressed_dataset_13\n",
      "(1569, 16)\n",
      "\n",
      "depressed_dataset_14\n",
      "(887, 16)\n",
      "\n"
     ]
    }
   ],
   "source": [
    "depressed_dataset_1 = depressed_dataset[depressed_dataset.time_window == 1]\n",
    "depressed_dataset_2 = depressed_dataset[depressed_dataset.time_window == 2]\n",
    "depressed_dataset_3 = depressed_dataset[depressed_dataset.time_window == 3]\n",
    "depressed_dataset_4 = depressed_dataset[depressed_dataset.time_window == 4]\n",
    "depressed_dataset_5 = depressed_dataset[depressed_dataset.time_window == 5]\n",
    "depressed_dataset_6 = depressed_dataset[depressed_dataset.time_window == 6]\n",
    "depressed_dataset_7 = depressed_dataset[depressed_dataset.time_window == 7]\n",
    "depressed_dataset_8 = depressed_dataset[depressed_dataset.time_window == 8]\n",
    "depressed_dataset_9 = depressed_dataset[depressed_dataset.time_window == 9]\n",
    "depressed_dataset_10 = depressed_dataset[depressed_dataset.time_window == 10]\n",
    "depressed_dataset_11 = depressed_dataset[depressed_dataset.time_window == 11]\n",
    "depressed_dataset_12 = depressed_dataset[depressed_dataset.time_window == 12]\n",
    "depressed_dataset_13 = depressed_dataset[depressed_dataset.time_window == 13]\n",
    "depressed_dataset_14 = depressed_dataset[depressed_dataset.time_window == 14]\n",
    "\n",
    "\n",
    "for i in range(1,15):\n",
    "    filename = \"depressed_dataset_\"+str(i)\n",
    "    print(filename)\n",
    "    print(getattr(sys.modules[__name__], f\"depressed_dataset_{i}\").shape)\n",
    "    print(\"\")"
   ]
  },
  {
   "cell_type": "markdown",
   "metadata": {},
   "source": [
    "**To check if all tweets are embedded and their corresponding embeddings are available - Time Window 1**"
   ]
  },
  {
   "cell_type": "code",
   "execution_count": 20,
   "metadata": {},
   "outputs": [],
   "source": [
    "\n",
    "\n",
    "depressed_data_embedfile_1 = open(\"D:\\Workspace\\OVGU\\SM_Depression\\scripts\\embeddings_sentences\\depressed_dataset_1_embedding.pkl\",\"rb\")\n",
    "\n",
    "depressed_data_embed_1 = pickle.load(depressed_data_embedfile_1)"
   ]
  },
  {
   "cell_type": "code",
   "execution_count": 21,
   "metadata": {},
   "outputs": [
    {
     "data": {
      "text/plain": [
       "684"
      ]
     },
     "execution_count": 21,
     "metadata": {},
     "output_type": "execute_result"
    }
   ],
   "source": [
    "len(depressed_data_embed_1.keys())"
   ]
  },
  {
   "cell_type": "code",
   "execution_count": 22,
   "metadata": {},
   "outputs": [],
   "source": [
    "depressed_data_embed_1 = OrderedDict(depressed_data_embed_1)"
   ]
  },
  {
   "cell_type": "code",
   "execution_count": 23,
   "metadata": {},
   "outputs": [],
   "source": [
    "depressed_data_embed_1_flag = {key:int(1) for key, value in depressed_data_embed_1.items()}"
   ]
  },
  {
   "cell_type": "code",
   "execution_count": 24,
   "metadata": {},
   "outputs": [
    {
     "data": {
      "text/plain": [
       "684"
      ]
     },
     "execution_count": 24,
     "metadata": {},
     "output_type": "execute_result"
    }
   ],
   "source": [
    "len(depressed_data_embed_1_flag.keys())"
   ]
  },
  {
   "cell_type": "code",
   "execution_count": 25,
   "metadata": {},
   "outputs": [
    {
     "name": "stderr",
     "output_type": "stream",
     "text": [
      "D:\\Softwares\\Anaconda\\lib\\site-packages\\ipykernel_launcher.py:1: SettingWithCopyWarning: \n",
      "A value is trying to be set on a copy of a slice from a DataFrame.\n",
      "Try using .loc[row_indexer,col_indexer] = value instead\n",
      "\n",
      "See the caveats in the documentation: https://pandas.pydata.org/pandas-docs/stable/user_guide/indexing.html#returning-a-view-versus-a-copy\n",
      "  \"\"\"Entry point for launching an IPython kernel.\n"
     ]
    }
   ],
   "source": [
    "depressed_dataset_1[\"encode_flag\"] = depressed_dataset_1[\"cleanData\"].apply(lambda x: depressed_data_embed_1_flag.get(x))\n"
   ]
  },
  {
   "cell_type": "code",
   "execution_count": 26,
   "metadata": {},
   "outputs": [
    {
     "data": {
      "text/plain": [
       "1    700\n",
       "Name: encode_flag, dtype: int64"
      ]
     },
     "execution_count": 26,
     "metadata": {},
     "output_type": "execute_result"
    }
   ],
   "source": [
    "depressed_dataset_1.encode_flag.value_counts()"
   ]
  },
  {
   "cell_type": "code",
   "execution_count": 27,
   "metadata": {},
   "outputs": [
    {
     "data": {
      "text/plain": [
       "684"
      ]
     },
     "execution_count": 27,
     "metadata": {},
     "output_type": "execute_result"
    }
   ],
   "source": [
    "depressed_dataset_1.cleanData.nunique()"
   ]
  },
  {
   "cell_type": "markdown",
   "metadata": {},
   "source": [
    "**Clustering on Time window 1 dataset**"
   ]
  },
  {
   "cell_type": "markdown",
   "metadata": {},
   "source": [
    "**Approach 1 - kMeans**"
   ]
  },
  {
   "cell_type": "code",
   "execution_count": 28,
   "metadata": {},
   "outputs": [
    {
     "name": "stderr",
     "output_type": "stream",
     "text": [
      "D:\\Softwares\\Anaconda\\lib\\site-packages\\sklearn\\utils\\deprecation.py:143: FutureWarning: The sklearn.metrics.classification module is  deprecated in version 0.22 and will be removed in version 0.24. The corresponding classes / functions should instead be imported from sklearn.metrics. Anything that cannot be imported from sklearn.metrics is now part of the private API.\n",
      "  warnings.warn(message, FutureWarning)\n"
     ]
    }
   ],
   "source": [
    "from sklearn.cluster import KMeans\n",
    "from yellowbrick.cluster import KElbowVisualizer"
   ]
  },
  {
   "cell_type": "code",
   "execution_count": 29,
   "metadata": {
    "scrolled": true
   },
   "outputs": [
    {
     "data": {
      "text/plain": [
       "684"
      ]
     },
     "execution_count": 29,
     "metadata": {},
     "output_type": "execute_result"
    }
   ],
   "source": [
    "len(list(depressed_data_embed_1.values()))"
   ]
  },
  {
   "cell_type": "code",
   "execution_count": 30,
   "metadata": {},
   "outputs": [],
   "source": [
    "depressed_embeddings_1 = np.array(list(depressed_data_embed_1.values()))"
   ]
  },
  {
   "cell_type": "code",
   "execution_count": 31,
   "metadata": {},
   "outputs": [
    {
     "name": "stderr",
     "output_type": "stream",
     "text": [
      "D:\\Softwares\\Anaconda\\lib\\site-packages\\sklearn\\cluster\\_kmeans.py:939: FutureWarning: 'n_jobs' was deprecated in version 0.23 and will be removed in 0.25.\n",
      "  \" removed in 0.25.\", FutureWarning)\n",
      "D:\\Softwares\\Anaconda\\lib\\site-packages\\sklearn\\cluster\\_kmeans.py:939: FutureWarning: 'n_jobs' was deprecated in version 0.23 and will be removed in 0.25.\n",
      "  \" removed in 0.25.\", FutureWarning)\n",
      "D:\\Softwares\\Anaconda\\lib\\site-packages\\sklearn\\cluster\\_kmeans.py:939: FutureWarning: 'n_jobs' was deprecated in version 0.23 and will be removed in 0.25.\n",
      "  \" removed in 0.25.\", FutureWarning)\n",
      "D:\\Softwares\\Anaconda\\lib\\site-packages\\sklearn\\cluster\\_kmeans.py:939: FutureWarning: 'n_jobs' was deprecated in version 0.23 and will be removed in 0.25.\n",
      "  \" removed in 0.25.\", FutureWarning)\n",
      "D:\\Softwares\\Anaconda\\lib\\site-packages\\sklearn\\cluster\\_kmeans.py:939: FutureWarning: 'n_jobs' was deprecated in version 0.23 and will be removed in 0.25.\n",
      "  \" removed in 0.25.\", FutureWarning)\n",
      "D:\\Softwares\\Anaconda\\lib\\site-packages\\sklearn\\cluster\\_kmeans.py:939: FutureWarning: 'n_jobs' was deprecated in version 0.23 and will be removed in 0.25.\n",
      "  \" removed in 0.25.\", FutureWarning)\n",
      "D:\\Softwares\\Anaconda\\lib\\site-packages\\sklearn\\cluster\\_kmeans.py:939: FutureWarning: 'n_jobs' was deprecated in version 0.23 and will be removed in 0.25.\n",
      "  \" removed in 0.25.\", FutureWarning)\n",
      "D:\\Softwares\\Anaconda\\lib\\site-packages\\sklearn\\cluster\\_kmeans.py:939: FutureWarning: 'n_jobs' was deprecated in version 0.23 and will be removed in 0.25.\n",
      "  \" removed in 0.25.\", FutureWarning)\n",
      "D:\\Softwares\\Anaconda\\lib\\site-packages\\sklearn\\cluster\\_kmeans.py:939: FutureWarning: 'n_jobs' was deprecated in version 0.23 and will be removed in 0.25.\n",
      "  \" removed in 0.25.\", FutureWarning)\n"
     ]
    },
    {
     "data": {
      "image/png": "[encoded data removed]",
      "text/plain": [
       "<Figure size 576x396 with 2 Axes>"
      ]
     },
     "metadata": {},
     "output_type": "display_data"
    },
    {
     "data": {
      "text/plain": [
       "<matplotlib.axes._subplots.AxesSubplot at 0x167f5ce79c8>"
      ]
     },
     "execution_count": 31,
     "metadata": {},
     "output_type": "execute_result"
    }
   ],
   "source": [
    "model = KMeans(init='k-means++', n_jobs=4)\n",
    "visualizer = KElbowVisualizer(model, k=(2,11))\n",
    "\n",
    "visualizer.fit(depressed_embeddings_1)    \n",
    "visualizer.show()  "
   ]
  },
  {
   "cell_type": "code",
   "execution_count": 57,
   "metadata": {},
   "outputs": [
    {
     "name": "stderr",
     "output_type": "stream",
     "text": [
      "D:\\Softwares\\Anaconda\\lib\\site-packages\\sklearn\\cluster\\_kmeans.py:939: FutureWarning: 'n_jobs' was deprecated in version 0.23 and will be removed in 0.25.\n",
      "  \" removed in 0.25.\", FutureWarning)\n"
     ]
    }
   ],
   "source": [
    "kmeans = KMeans(n_clusters=5,init='k-means++', n_jobs=4)\n",
    "kmeans = kmeans.fit(depressed_embeddings_1)"
   ]
  },
  {
   "cell_type": "code",
   "execution_count": 58,
   "metadata": {},
   "outputs": [
    {
     "data": {
      "text/plain": [
       "684"
      ]
     },
     "execution_count": 58,
     "metadata": {},
     "output_type": "execute_result"
    }
   ],
   "source": [
    "kmeans_labels = kmeans.labels_\n",
    "\n",
    "len(kmeans_labels)"
   ]
  },
  {
   "cell_type": "code",
   "execution_count": 59,
   "metadata": {},
   "outputs": [
    {
     "data": {
      "text/plain": [
       "0.3058028109907898"
      ]
     },
     "execution_count": 59,
     "metadata": {},
     "output_type": "execute_result"
    }
   ],
   "source": [
    "from sklearn.metrics import silhouette_score\n",
    "\n",
    "\n",
    "silhouette_score(depressed_embeddings_1, kmeans_labels)\n"
   ]
  },
  {
   "cell_type": "code",
   "execution_count": 121,
   "metadata": {},
   "outputs": [],
   "source": [
    "tweet_label_df = pd.DataFrame()\n",
    "tweet_label_df['cleanData'] = depressed_data_embed_1.keys()\n",
    "tweet_label_df['cluster_label'] = kmeans_labels"
   ]
  },
  {
   "cell_type": "code",
   "execution_count": 122,
   "metadata": {},
   "outputs": [
    {
     "data": {
      "text/html": [
       "<div>\n",
       "<style scoped>\n",
       "    .dataframe tbody tr th:only-of-type {\n",
       "        vertical-align: middle;\n",
       "    }\n",
       "\n",
       "    .dataframe tbody tr th {\n",
       "        vertical-align: top;\n",
       "    }\n",
       "\n",
       "    .dataframe thead th {\n",
       "        text-align: right;\n",
       "    }\n",
       "</style>\n",
       "<table border=\"1\" class=\"dataframe\">\n",
       "  <thead>\n",
       "    <tr style=\"text-align: right;\">\n",
       "      <th></th>\n",
       "      <th>cleanData</th>\n",
       "      <th>cluster_label</th>\n",
       "    </tr>\n",
       "  </thead>\n",
       "  <tbody>\n",
       "    <tr>\n",
       "      <th>0</th>\n",
       "      <td>it s about time  lol it s not fair [url] [url]</td>\n",
       "      <td>4</td>\n",
       "    </tr>\n",
       "    <tr>\n",
       "      <th>1</th>\n",
       "      <td>like deplorable  like donnie  have to use cont...</td>\n",
       "      <td>3</td>\n",
       "    </tr>\n",
       "    <tr>\n",
       "      <th>2</th>\n",
       "      <td>dick always ruin things lol</td>\n",
       "      <td>3</td>\n",
       "    </tr>\n",
       "    <tr>\n",
       "      <th>3</th>\n",
       "      <td>after seeing pics of todays rally in phoenix i...</td>\n",
       "      <td>4</td>\n",
       "    </tr>\n",
       "    <tr>\n",
       "      <th>4</th>\n",
       "      <td>if i do get covid19 becuase i m surrounded by ...</td>\n",
       "      <td>4</td>\n",
       "    </tr>\n",
       "  </tbody>\n",
       "</table>\n",
       "</div>"
      ],
      "text/plain": [
       "                                           cleanData  cluster_label\n",
       "0     it s about time  lol it s not fair [url] [url]              4\n",
       "1  like deplorable  like donnie  have to use cont...              3\n",
       "2                        dick always ruin things lol              3\n",
       "3  after seeing pics of todays rally in phoenix i...              4\n",
       "4  if i do get covid19 becuase i m surrounded by ...              4"
      ]
     },
     "execution_count": 122,
     "metadata": {},
     "output_type": "execute_result"
    }
   ],
   "source": [
    "tweet_label_df.head()"
   ]
  },
  {
   "cell_type": "code",
   "execution_count": 123,
   "metadata": {},
   "outputs": [],
   "source": [
    "depressed_dataset_with_labels_1 = pd.merge(depressed_dataset_1, tweet_label_df, on='cleanData')"
   ]
  },
  {
   "cell_type": "code",
   "execution_count": 124,
   "metadata": {},
   "outputs": [
    {
     "data": {
      "text/html": [
       "<div>\n",
       "<style scoped>\n",
       "    .dataframe tbody tr th:only-of-type {\n",
       "        vertical-align: middle;\n",
       "    }\n",
       "\n",
       "    .dataframe tbody tr th {\n",
       "        vertical-align: top;\n",
       "    }\n",
       "\n",
       "    .dataframe thead th {\n",
       "        text-align: right;\n",
       "    }\n",
       "</style>\n",
       "<table border=\"1\" class=\"dataframe\">\n",
       "  <thead>\n",
       "    <tr style=\"text-align: right;\">\n",
       "      <th></th>\n",
       "      <th>accountname</th>\n",
       "      <th>description</th>\n",
       "      <th>favorite_count</th>\n",
       "      <th>location</th>\n",
       "      <th>masked_user_id</th>\n",
       "      <th>retweet_count</th>\n",
       "      <th>timestamp</th>\n",
       "      <th>tweets</th>\n",
       "      <th>twittername</th>\n",
       "      <th>user_type</th>\n",
       "      <th>format</th>\n",
       "      <th>new_date</th>\n",
       "      <th>time_window</th>\n",
       "      <th>tweets_url_token</th>\n",
       "      <th>cleanData</th>\n",
       "      <th>encode_flag</th>\n",
       "      <th>cluster_label</th>\n",
       "    </tr>\n",
       "  </thead>\n",
       "  <tbody>\n",
       "    <tr>\n",
       "      <th>0</th>\n",
       "      <td>Cmdr. Nasty Tinkerbell of the 4077th</td>\n",
       "      <td>NSFW \\r\\r\\r\\r\\nWoman \\r\\r\\r\\r\\nDisabled \\r\\r\\r...</td>\n",
       "      <td>0</td>\n",
       "      <td>Exploring the universe</td>\n",
       "      <td>depressed_user_11</td>\n",
       "      <td>0.0</td>\n",
       "      <td>24-06-2020 00:00</td>\n",
       "      <td>@Twitter it's about time.\\r\\r\\r\\r\\n\\r\\r\\r\\r\\nL...</td>\n",
       "      <td>CmdrTinkerBell</td>\n",
       "      <td>1.0</td>\n",
       "      <td>1</td>\n",
       "      <td>2020-06-24 00:00</td>\n",
       "      <td>1</td>\n",
       "      <td>@Twitter it's about time.\\r\\r\\r\\r\\n\\r\\r\\r\\r\\nL...</td>\n",
       "      <td>it s about time  lol it s not fair [url] [url]</td>\n",
       "      <td>1</td>\n",
       "      <td>4</td>\n",
       "    </tr>\n",
       "    <tr>\n",
       "      <th>1</th>\n",
       "      <td>Cmdr. Nasty Tinkerbell of the 4077th</td>\n",
       "      <td>NSFW \\r\\r\\r\\r\\nWoman \\r\\r\\r\\r\\nDisabled \\r\\r\\r...</td>\n",
       "      <td>0</td>\n",
       "      <td>Exploring the universe</td>\n",
       "      <td>depressed_user_11</td>\n",
       "      <td>0.0</td>\n",
       "      <td>24-06-2020 00:02</td>\n",
       "      <td>@w_terrence @PearlCathey8 Like deplorable, lik...</td>\n",
       "      <td>CmdrTinkerBell</td>\n",
       "      <td>1.0</td>\n",
       "      <td>1</td>\n",
       "      <td>2020-06-24 00:02</td>\n",
       "      <td>1</td>\n",
       "      <td>@w_terrence @PearlCathey8 Like deplorable, lik...</td>\n",
       "      <td>like deplorable  like donnie  have to use cont...</td>\n",
       "      <td>1</td>\n",
       "      <td>3</td>\n",
       "    </tr>\n",
       "    <tr>\n",
       "      <th>2</th>\n",
       "      <td>Cmdr. Nasty Tinkerbell of the 4077th</td>\n",
       "      <td>NSFW \\r\\r\\r\\r\\nWoman \\r\\r\\r\\r\\nDisabled \\r\\r\\r...</td>\n",
       "      <td>0</td>\n",
       "      <td>Exploring the universe</td>\n",
       "      <td>depressed_user_11</td>\n",
       "      <td>0.0</td>\n",
       "      <td>24-06-2020 00:05</td>\n",
       "      <td>@HarleyQuinnlif3 Dick always ruin things lol</td>\n",
       "      <td>CmdrTinkerBell</td>\n",
       "      <td>1.0</td>\n",
       "      <td>1</td>\n",
       "      <td>2020-06-24 00:05</td>\n",
       "      <td>1</td>\n",
       "      <td>@HarleyQuinnlif3 Dick always ruin things lol</td>\n",
       "      <td>dick always ruin things lol</td>\n",
       "      <td>1</td>\n",
       "      <td>3</td>\n",
       "    </tr>\n",
       "    <tr>\n",
       "      <th>3</th>\n",
       "      <td>Cmdr. Nasty Tinkerbell of the 4077th</td>\n",
       "      <td>NSFW \\r\\r\\r\\r\\nWoman \\r\\r\\r\\r\\nDisabled \\r\\r\\r...</td>\n",
       "      <td>2</td>\n",
       "      <td>Exploring the universe</td>\n",
       "      <td>depressed_user_11</td>\n",
       "      <td>0.0</td>\n",
       "      <td>24-06-2020 00:13</td>\n",
       "      <td>After seeing pics of todays rally in Phoenix I...</td>\n",
       "      <td>CmdrTinkerBell</td>\n",
       "      <td>1.0</td>\n",
       "      <td>1</td>\n",
       "      <td>2020-06-24 00:13</td>\n",
       "      <td>1</td>\n",
       "      <td>After seeing pics of todays rally in Phoenix I...</td>\n",
       "      <td>after seeing pics of todays rally in phoenix i...</td>\n",
       "      <td>1</td>\n",
       "      <td>4</td>\n",
       "    </tr>\n",
       "    <tr>\n",
       "      <th>4</th>\n",
       "      <td>Cmdr. Nasty Tinkerbell of the 4077th</td>\n",
       "      <td>NSFW \\r\\r\\r\\r\\nWoman \\r\\r\\r\\r\\nDisabled \\r\\r\\r...</td>\n",
       "      <td>2</td>\n",
       "      <td>Exploring the universe</td>\n",
       "      <td>depressed_user_11</td>\n",
       "      <td>0.0</td>\n",
       "      <td>24-06-2020 00:13</td>\n",
       "      <td>if I do get covid19 becuase I'm surrounded by ...</td>\n",
       "      <td>CmdrTinkerBell</td>\n",
       "      <td>1.0</td>\n",
       "      <td>1</td>\n",
       "      <td>2020-06-24 00:13</td>\n",
       "      <td>1</td>\n",
       "      <td>if I do get covid19 becuase I'm surrounded by ...</td>\n",
       "      <td>if i do get covid19 becuase i m surrounded by ...</td>\n",
       "      <td>1</td>\n",
       "      <td>4</td>\n",
       "    </tr>\n",
       "  </tbody>\n",
       "</table>\n",
       "</div>"
      ],
      "text/plain": [
       "                            accountname  \\\n",
       "0  Cmdr. Nasty Tinkerbell of the 4077th   \n",
       "1  Cmdr. Nasty Tinkerbell of the 4077th   \n",
       "2  Cmdr. Nasty Tinkerbell of the 4077th   \n",
       "3  Cmdr. Nasty Tinkerbell of the 4077th   \n",
       "4  Cmdr. Nasty Tinkerbell of the 4077th   \n",
       "\n",
       "                                         description favorite_count  \\\n",
       "0  NSFW \\r\\r\\r\\r\\nWoman \\r\\r\\r\\r\\nDisabled \\r\\r\\r...              0   \n",
       "1  NSFW \\r\\r\\r\\r\\nWoman \\r\\r\\r\\r\\nDisabled \\r\\r\\r...              0   \n",
       "2  NSFW \\r\\r\\r\\r\\nWoman \\r\\r\\r\\r\\nDisabled \\r\\r\\r...              0   \n",
       "3  NSFW \\r\\r\\r\\r\\nWoman \\r\\r\\r\\r\\nDisabled \\r\\r\\r...              2   \n",
       "4  NSFW \\r\\r\\r\\r\\nWoman \\r\\r\\r\\r\\nDisabled \\r\\r\\r...              2   \n",
       "\n",
       "                  location     masked_user_id retweet_count         timestamp  \\\n",
       "0  Exploring the universe   depressed_user_11           0.0  24-06-2020 00:00   \n",
       "1  Exploring the universe   depressed_user_11           0.0  24-06-2020 00:02   \n",
       "2  Exploring the universe   depressed_user_11           0.0  24-06-2020 00:05   \n",
       "3  Exploring the universe   depressed_user_11           0.0  24-06-2020 00:13   \n",
       "4  Exploring the universe   depressed_user_11           0.0  24-06-2020 00:13   \n",
       "\n",
       "                                              tweets     twittername  \\\n",
       "0  @Twitter it's about time.\\r\\r\\r\\r\\n\\r\\r\\r\\r\\nL...  CmdrTinkerBell   \n",
       "1  @w_terrence @PearlCathey8 Like deplorable, lik...  CmdrTinkerBell   \n",
       "2       @HarleyQuinnlif3 Dick always ruin things lol  CmdrTinkerBell   \n",
       "3  After seeing pics of todays rally in Phoenix I...  CmdrTinkerBell   \n",
       "4  if I do get covid19 becuase I'm surrounded by ...  CmdrTinkerBell   \n",
       "\n",
       "   user_type  format          new_date  time_window  \\\n",
       "0        1.0       1  2020-06-24 00:00            1   \n",
       "1        1.0       1  2020-06-24 00:02            1   \n",
       "2        1.0       1  2020-06-24 00:05            1   \n",
       "3        1.0       1  2020-06-24 00:13            1   \n",
       "4        1.0       1  2020-06-24 00:13            1   \n",
       "\n",
       "                                    tweets_url_token  \\\n",
       "0  @Twitter it's about time.\\r\\r\\r\\r\\n\\r\\r\\r\\r\\nL...   \n",
       "1  @w_terrence @PearlCathey8 Like deplorable, lik...   \n",
       "2       @HarleyQuinnlif3 Dick always ruin things lol   \n",
       "3  After seeing pics of todays rally in Phoenix I...   \n",
       "4  if I do get covid19 becuase I'm surrounded by ...   \n",
       "\n",
       "                                           cleanData  encode_flag  \\\n",
       "0     it s about time  lol it s not fair [url] [url]            1   \n",
       "1  like deplorable  like donnie  have to use cont...            1   \n",
       "2                        dick always ruin things lol            1   \n",
       "3  after seeing pics of todays rally in phoenix i...            1   \n",
       "4  if i do get covid19 becuase i m surrounded by ...            1   \n",
       "\n",
       "   cluster_label  \n",
       "0              4  \n",
       "1              3  \n",
       "2              3  \n",
       "3              4  \n",
       "4              4  "
      ]
     },
     "execution_count": 124,
     "metadata": {},
     "output_type": "execute_result"
    }
   ],
   "source": [
    "depressed_dataset_with_labels_1.head()"
   ]
  },
  {
   "cell_type": "code",
   "execution_count": 126,
   "metadata": {},
   "outputs": [
    {
     "data": {
      "text/plain": [
       "Index(['accountname', 'description', 'favorite_count', 'location',\n",
       "       'masked_user_id', 'retweet_count', 'timestamp', 'tweets', 'twittername',\n",
       "       'user_type', 'format', 'new_date', 'time_window', 'tweets_url_token',\n",
       "       'cleanData', 'encode_flag', 'cluster_label'],\n",
       "      dtype='object')"
      ]
     },
     "execution_count": 126,
     "metadata": {},
     "output_type": "execute_result"
    }
   ],
   "source": [
    "depressed_dataset_with_labels_1.columns"
   ]
  },
  {
   "cell_type": "code",
   "execution_count": 128,
   "metadata": {},
   "outputs": [],
   "source": [
    "writeColumns = ['masked_user_id','new_date', 'time_window','cleanData','cluster_label']"
   ]
  },
  {
   "cell_type": "code",
   "execution_count": 129,
   "metadata": {},
   "outputs": [],
   "source": [
    "output_filename = \"depTweets_window_1_kmeans_withLabel.csv\""
   ]
  },
  {
   "cell_type": "code",
   "execution_count": 131,
   "metadata": {},
   "outputs": [],
   "source": [
    "depressed_dataset_with_labels_1.to_csv(os.path.join(r\"D:\\Workspace\\OVGU\\SM_Depression\\src\\time_window\\kmeans_cluster\", output_filename),encoding=\"utf-8\",columns = writeColumns,index=False, date_format='%Y-%m-%d %H:%M')"
   ]
  },
  {
   "cell_type": "code",
   "execution_count": 132,
   "metadata": {},
   "outputs": [
    {
     "data": {
      "text/plain": [
       "3    377\n",
       "4    151\n",
       "0     89\n",
       "1     63\n",
       "2     20\n",
       "Name: cluster_label, dtype: int64"
      ]
     },
     "execution_count": 132,
     "metadata": {},
     "output_type": "execute_result"
    }
   ],
   "source": [
    "depressed_dataset_with_labels_1.cluster_label.value_counts()"
   ]
  },
  {
   "cell_type": "markdown",
   "metadata": {},
   "source": [
    "**To check if all tweets are embedded and their corresponding embeddings are available - Time Window 2**"
   ]
  },
  {
   "cell_type": "code",
   "execution_count": 137,
   "metadata": {},
   "outputs": [],
   "source": [
    "\n",
    "\n",
    "depressed_data_embedfile_2 = open(\"D:\\Workspace\\OVGU\\SM_Depression\\scripts\\embeddings_sentences\\depressed_dataset_2_embedding.pkl\",\"rb\")\n",
    "\n",
    "depressed_data_embedfile_2 = pickle.load(depressed_data_embedfile_2)"
   ]
  },
  {
   "cell_type": "code",
   "execution_count": 138,
   "metadata": {},
   "outputs": [
    {
     "data": {
      "text/plain": [
       "1019"
      ]
     },
     "execution_count": 138,
     "metadata": {},
     "output_type": "execute_result"
    }
   ],
   "source": [
    "len(depressed_data_embedfile_2.keys())"
   ]
  },
  {
   "cell_type": "code",
   "execution_count": 139,
   "metadata": {},
   "outputs": [],
   "source": [
    "depressed_data_embedfile_2 = OrderedDict(depressed_data_embedfile_2)"
   ]
  },
  {
   "cell_type": "code",
   "execution_count": 144,
   "metadata": {},
   "outputs": [],
   "source": [
    "depressed_data_embed_2_flag = {key:int(2) for key, value in depressed_data_embedfile_2.items()}"
   ]
  },
  {
   "cell_type": "code",
   "execution_count": 145,
   "metadata": {},
   "outputs": [
    {
     "data": {
      "text/plain": [
       "1019"
      ]
     },
     "execution_count": 145,
     "metadata": {},
     "output_type": "execute_result"
    }
   ],
   "source": [
    "len(depressed_data_embed_2_flag.keys())"
   ]
  },
  {
   "cell_type": "code",
   "execution_count": 146,
   "metadata": {},
   "outputs": [
    {
     "name": "stderr",
     "output_type": "stream",
     "text": [
      "D:\\Softwares\\Anaconda\\lib\\site-packages\\ipykernel_launcher.py:1: SettingWithCopyWarning: \n",
      "A value is trying to be set on a copy of a slice from a DataFrame.\n",
      "Try using .loc[row_indexer,col_indexer] = value instead\n",
      "\n",
      "See the caveats in the documentation: https://pandas.pydata.org/pandas-docs/stable/user_guide/indexing.html#returning-a-view-versus-a-copy\n",
      "  \"\"\"Entry point for launching an IPython kernel.\n"
     ]
    }
   ],
   "source": [
    "depressed_dataset_2[\"encode_flag\"] = depressed_dataset_2[\"cleanData\"].apply(lambda x: depressed_data_embed_2_flag.get(x))\n"
   ]
  },
  {
   "cell_type": "code",
   "execution_count": 147,
   "metadata": {},
   "outputs": [
    {
     "data": {
      "text/plain": [
       "2    1093\n",
       "Name: encode_flag, dtype: int64"
      ]
     },
     "execution_count": 147,
     "metadata": {},
     "output_type": "execute_result"
    }
   ],
   "source": [
    "depressed_dataset_2.encode_flag.value_counts()"
   ]
  },
  {
   "cell_type": "code",
   "execution_count": 148,
   "metadata": {},
   "outputs": [
    {
     "data": {
      "text/plain": [
       "1019"
      ]
     },
     "execution_count": 148,
     "metadata": {},
     "output_type": "execute_result"
    }
   ],
   "source": [
    "depressed_dataset_2.cleanData.nunique()"
   ]
  },
  {
   "cell_type": "markdown",
   "metadata": {},
   "source": [
    "**Clustering on Time window 2 dataset**"
   ]
  },
  {
   "cell_type": "markdown",
   "metadata": {},
   "source": [
    "**Approach 1 - kMeans**"
   ]
  },
  {
   "cell_type": "code",
   "execution_count": 149,
   "metadata": {},
   "outputs": [],
   "source": [
    "from sklearn.cluster import KMeans\n",
    "from yellowbrick.cluster import KElbowVisualizer"
   ]
  },
  {
   "cell_type": "code",
   "execution_count": 150,
   "metadata": {
    "scrolled": true
   },
   "outputs": [
    {
     "data": {
      "text/plain": [
       "1019"
      ]
     },
     "execution_count": 150,
     "metadata": {},
     "output_type": "execute_result"
    }
   ],
   "source": [
    "len(list(depressed_data_embedfile_2.values()))"
   ]
  },
  {
   "cell_type": "code",
   "execution_count": 151,
   "metadata": {},
   "outputs": [],
   "source": [
    "depressed_embeddings_2 = np.array(list(depressed_data_embedfile_2.values()))"
   ]
  },
  {
   "cell_type": "code",
   "execution_count": 152,
   "metadata": {},
   "outputs": [
    {
     "name": "stderr",
     "output_type": "stream",
     "text": [
      "D:\\Softwares\\Anaconda\\lib\\site-packages\\sklearn\\cluster\\_kmeans.py:939: FutureWarning: 'n_jobs' was deprecated in version 0.23 and will be removed in 0.25.\n",
      "  \" removed in 0.25.\", FutureWarning)\n",
      "D:\\Softwares\\Anaconda\\lib\\site-packages\\sklearn\\cluster\\_kmeans.py:939: FutureWarning: 'n_jobs' was deprecated in version 0.23 and will be removed in 0.25.\n",
      "  \" removed in 0.25.\", FutureWarning)\n",
      "D:\\Softwares\\Anaconda\\lib\\site-packages\\sklearn\\cluster\\_kmeans.py:939: FutureWarning: 'n_jobs' was deprecated in version 0.23 and will be removed in 0.25.\n",
      "  \" removed in 0.25.\", FutureWarning)\n",
      "D:\\Softwares\\Anaconda\\lib\\site-packages\\sklearn\\cluster\\_kmeans.py:939: FutureWarning: 'n_jobs' was deprecated in version 0.23 and will be removed in 0.25.\n",
      "  \" removed in 0.25.\", FutureWarning)\n",
      "D:\\Softwares\\Anaconda\\lib\\site-packages\\sklearn\\cluster\\_kmeans.py:939: FutureWarning: 'n_jobs' was deprecated in version 0.23 and will be removed in 0.25.\n",
      "  \" removed in 0.25.\", FutureWarning)\n",
      "D:\\Softwares\\Anaconda\\lib\\site-packages\\sklearn\\cluster\\_kmeans.py:939: FutureWarning: 'n_jobs' was deprecated in version 0.23 and will be removed in 0.25.\n",
      "  \" removed in 0.25.\", FutureWarning)\n",
      "D:\\Softwares\\Anaconda\\lib\\site-packages\\sklearn\\cluster\\_kmeans.py:939: FutureWarning: 'n_jobs' was deprecated in version 0.23 and will be removed in 0.25.\n",
      "  \" removed in 0.25.\", FutureWarning)\n",
      "D:\\Softwares\\Anaconda\\lib\\site-packages\\sklearn\\cluster\\_kmeans.py:939: FutureWarning: 'n_jobs' was deprecated in version 0.23 and will be removed in 0.25.\n",
      "  \" removed in 0.25.\", FutureWarning)\n",
      "D:\\Softwares\\Anaconda\\lib\\site-packages\\sklearn\\cluster\\_kmeans.py:939: FutureWarning: 'n_jobs' was deprecated in version 0.23 and will be removed in 0.25.\n",
      "  \" removed in 0.25.\", FutureWarning)\n"
     ]
    },
    {
     "data": {
      "image/png": "[encoded data removed]",
      "text/plain": [
       "<Figure size 576x396 with 2 Axes>"
      ]
     },
     "metadata": {},
     "output_type": "display_data"
    },
    {
     "data": {
      "text/plain": [
       "<matplotlib.axes._subplots.AxesSubplot at 0x15eb1427ac8>"
      ]
     },
     "execution_count": 152,
     "metadata": {},
     "output_type": "execute_result"
    }
   ],
   "source": [
    "model = KMeans(init='k-means++', n_jobs=4)\n",
    "visualizer = KElbowVisualizer(model, k=(2,11))\n",
    "\n",
    "visualizer.fit(depressed_embeddings_2)    \n",
    "visualizer.show()  "
   ]
  },
  {
   "cell_type": "code",
   "execution_count": 153,
   "metadata": {},
   "outputs": [
    {
     "name": "stderr",
     "output_type": "stream",
     "text": [
      "D:\\Softwares\\Anaconda\\lib\\site-packages\\sklearn\\cluster\\_kmeans.py:939: FutureWarning: 'n_jobs' was deprecated in version 0.23 and will be removed in 0.25.\n",
      "  \" removed in 0.25.\", FutureWarning)\n"
     ]
    }
   ],
   "source": [
    "kmeans = KMeans(n_clusters=5,init='k-means++', n_jobs=4)\n",
    "kmeans = kmeans.fit(depressed_embeddings_2)"
   ]
  },
  {
   "cell_type": "code",
   "execution_count": 154,
   "metadata": {},
   "outputs": [
    {
     "data": {
      "text/plain": [
       "1019"
      ]
     },
     "execution_count": 154,
     "metadata": {},
     "output_type": "execute_result"
    }
   ],
   "source": [
    "kmeans_labels = kmeans.labels_\n",
    "\n",
    "len(kmeans_labels)"
   ]
  },
  {
   "cell_type": "code",
   "execution_count": 155,
   "metadata": {},
   "outputs": [],
   "source": [
    "tweet_label_df = pd.DataFrame()\n",
    "tweet_label_df['cleanData'] = depressed_data_embedfile_2.keys()\n",
    "tweet_label_df['cluster_label'] = kmeans_labels"
   ]
  },
  {
   "cell_type": "code",
   "execution_count": 156,
   "metadata": {},
   "outputs": [
    {
     "data": {
      "text/html": [
       "<div>\n",
       "<style scoped>\n",
       "    .dataframe tbody tr th:only-of-type {\n",
       "        vertical-align: middle;\n",
       "    }\n",
       "\n",
       "    .dataframe tbody tr th {\n",
       "        vertical-align: top;\n",
       "    }\n",
       "\n",
       "    .dataframe thead th {\n",
       "        text-align: right;\n",
       "    }\n",
       "</style>\n",
       "<table border=\"1\" class=\"dataframe\">\n",
       "  <thead>\n",
       "    <tr style=\"text-align: right;\">\n",
       "      <th></th>\n",
       "      <th>cleanData</th>\n",
       "      <th>cluster_label</th>\n",
       "    </tr>\n",
       "  </thead>\n",
       "  <tbody>\n",
       "    <tr>\n",
       "      <th>0</th>\n",
       "      <td>i love u bby and i fully support u  i hope ur ...</td>\n",
       "      <td>2</td>\n",
       "    </tr>\n",
       "    <tr>\n",
       "      <th>1</th>\n",
       "      <td>that white man should be arrested  all black l...</td>\n",
       "      <td>0</td>\n",
       "    </tr>\n",
       "    <tr>\n",
       "      <th>2</th>\n",
       "      <td>obviously how many times has trump declared ba...</td>\n",
       "      <td>1</td>\n",
       "    </tr>\n",
       "    <tr>\n",
       "      <th>3</th>\n",
       "      <td>so does this mean that you did in fact know ab...</td>\n",
       "      <td>2</td>\n",
       "    </tr>\n",
       "    <tr>\n",
       "      <th>4</th>\n",
       "      <td>chickennugget</td>\n",
       "      <td>0</td>\n",
       "    </tr>\n",
       "  </tbody>\n",
       "</table>\n",
       "</div>"
      ],
      "text/plain": [
       "                                           cleanData  cluster_label\n",
       "0  i love u bby and i fully support u  i hope ur ...              2\n",
       "1  that white man should be arrested  all black l...              0\n",
       "2  obviously how many times has trump declared ba...              1\n",
       "3  so does this mean that you did in fact know ab...              2\n",
       "4                                      chickennugget              0"
      ]
     },
     "execution_count": 156,
     "metadata": {},
     "output_type": "execute_result"
    }
   ],
   "source": [
    "tweet_label_df.head()"
   ]
  },
  {
   "cell_type": "code",
   "execution_count": 157,
   "metadata": {},
   "outputs": [],
   "source": [
    "depressed_dataset_with_labels_2 = pd.merge(depressed_dataset_2, tweet_label_df, on='cleanData')"
   ]
  },
  {
   "cell_type": "code",
   "execution_count": 158,
   "metadata": {},
   "outputs": [
    {
     "data": {
      "text/html": [
       "<div>\n",
       "<style scoped>\n",
       "    .dataframe tbody tr th:only-of-type {\n",
       "        vertical-align: middle;\n",
       "    }\n",
       "\n",
       "    .dataframe tbody tr th {\n",
       "        vertical-align: top;\n",
       "    }\n",
       "\n",
       "    .dataframe thead th {\n",
       "        text-align: right;\n",
       "    }\n",
       "</style>\n",
       "<table border=\"1\" class=\"dataframe\">\n",
       "  <thead>\n",
       "    <tr style=\"text-align: right;\">\n",
       "      <th></th>\n",
       "      <th>accountname</th>\n",
       "      <th>description</th>\n",
       "      <th>favorite_count</th>\n",
       "      <th>location</th>\n",
       "      <th>masked_user_id</th>\n",
       "      <th>retweet_count</th>\n",
       "      <th>timestamp</th>\n",
       "      <th>tweets</th>\n",
       "      <th>twittername</th>\n",
       "      <th>user_type</th>\n",
       "      <th>format</th>\n",
       "      <th>new_date</th>\n",
       "      <th>time_window</th>\n",
       "      <th>tweets_url_token</th>\n",
       "      <th>cleanData</th>\n",
       "      <th>encode_flag</th>\n",
       "      <th>cluster_label</th>\n",
       "    </tr>\n",
       "  </thead>\n",
       "  <tbody>\n",
       "    <tr>\n",
       "      <th>0</th>\n",
       "      <td>suki supremacy â˜�ï¸�âœ¨</td>\n",
       "      <td>space ghost // late nights in the middle of ju...</td>\n",
       "      <td>1</td>\n",
       "      <td>under the moon</td>\n",
       "      <td>depressed_user_81</td>\n",
       "      <td>0.0</td>\n",
       "      <td>01-07-2020 00:15</td>\n",
       "      <td>@hesrem i love u bby and i fully support u! i ...</td>\n",
       "      <td>sweetenersage</td>\n",
       "      <td>1.0</td>\n",
       "      <td>1</td>\n",
       "      <td>2020-07-01 00:15</td>\n",
       "      <td>2</td>\n",
       "      <td>@hesrem i love u bby and i fully support u! i ...</td>\n",
       "      <td>i love u bby and i fully support u  i hope ur ...</td>\n",
       "      <td>2</td>\n",
       "      <td>2</td>\n",
       "    </tr>\n",
       "    <tr>\n",
       "      <th>1</th>\n",
       "      <td>Â©ï¸�denise dalphondÂ©ï¸�</td>\n",
       "      <td>anarchy is not violent. it is the absence of s...</td>\n",
       "      <td>0</td>\n",
       "      <td>Ypsilanti, MI</td>\n",
       "      <td>depressed_user_14</td>\n",
       "      <td>0.0</td>\n",
       "      <td>01-07-2020 00:24</td>\n",
       "      <td>That white man should be arrested. All Black L...</td>\n",
       "      <td>Dalphond</td>\n",
       "      <td>1.0</td>\n",
       "      <td>1</td>\n",
       "      <td>2020-07-01 00:24</td>\n",
       "      <td>2</td>\n",
       "      <td>That white man should be arrested. All Black L...</td>\n",
       "      <td>that white man should be arrested  all black l...</td>\n",
       "      <td>2</td>\n",
       "      <td>0</td>\n",
       "    </tr>\n",
       "    <tr>\n",
       "      <th>2</th>\n",
       "      <td>Cmdr. Nasty Tinkerbell of the 4077th</td>\n",
       "      <td>NSFW \\r\\r\\r\\r\\nWoman \\r\\r\\r\\r\\nDisabled \\r\\r\\r...</td>\n",
       "      <td>3</td>\n",
       "      <td>Exploring the universe</td>\n",
       "      <td>depressed_user_11</td>\n",
       "      <td>1.0</td>\n",
       "      <td>01-07-2020 01:38</td>\n",
       "      <td>@508gloryFelix Obviously how many times has Tr...</td>\n",
       "      <td>CmdrTinkerBell</td>\n",
       "      <td>1.0</td>\n",
       "      <td>1</td>\n",
       "      <td>2020-07-01 01:38</td>\n",
       "      <td>2</td>\n",
       "      <td>@508gloryFelix Obviously how many times has Tr...</td>\n",
       "      <td>obviously how many times has trump declared ba...</td>\n",
       "      <td>2</td>\n",
       "      <td>1</td>\n",
       "    </tr>\n",
       "    <tr>\n",
       "      <th>3</th>\n",
       "      <td>Cmdr. Nasty Tinkerbell of the 4077th</td>\n",
       "      <td>NSFW \\r\\r\\r\\r\\nWoman \\r\\r\\r\\r\\nDisabled \\r\\r\\r...</td>\n",
       "      <td>0</td>\n",
       "      <td>Exploring the universe</td>\n",
       "      <td>depressed_user_11</td>\n",
       "      <td>0.0</td>\n",
       "      <td>01-07-2020 01:42</td>\n",
       "      <td>@BrianKarem @PressSec @realDonaldTrump So does...</td>\n",
       "      <td>CmdrTinkerBell</td>\n",
       "      <td>1.0</td>\n",
       "      <td>1</td>\n",
       "      <td>2020-07-01 01:42</td>\n",
       "      <td>2</td>\n",
       "      <td>@BrianKarem @PressSec @realDonaldTrump So does...</td>\n",
       "      <td>so does this mean that you did in fact know ab...</td>\n",
       "      <td>2</td>\n",
       "      <td>2</td>\n",
       "    </tr>\n",
       "    <tr>\n",
       "      <th>4</th>\n",
       "      <td>suki supremacy â˜�ï¸�âœ¨</td>\n",
       "      <td>space ghost // late nights in the middle of ju...</td>\n",
       "      <td>1</td>\n",
       "      <td>under the moon</td>\n",
       "      <td>depressed_user_81</td>\n",
       "      <td>0.0</td>\n",
       "      <td>01-07-2020 02:00</td>\n",
       "      <td>@hannah_ruthie CHICKENNUGGET</td>\n",
       "      <td>sweetenersage</td>\n",
       "      <td>1.0</td>\n",
       "      <td>1</td>\n",
       "      <td>2020-07-01 02:00</td>\n",
       "      <td>2</td>\n",
       "      <td>@hannah_ruthie CHICKENNUGGET</td>\n",
       "      <td>chickennugget</td>\n",
       "      <td>2</td>\n",
       "      <td>0</td>\n",
       "    </tr>\n",
       "  </tbody>\n",
       "</table>\n",
       "</div>"
      ],
      "text/plain": [
       "                            accountname  \\\n",
       "0              suki supremacy â˜�ï¸�âœ¨   \n",
       "1             Â©ï¸�denise dalphondÂ©ï¸�   \n",
       "2  Cmdr. Nasty Tinkerbell of the 4077th   \n",
       "3  Cmdr. Nasty Tinkerbell of the 4077th   \n",
       "4              suki supremacy â˜�ï¸�âœ¨   \n",
       "\n",
       "                                         description favorite_count  \\\n",
       "0  space ghost // late nights in the middle of ju...              1   \n",
       "1  anarchy is not violent. it is the absence of s...              0   \n",
       "2  NSFW \\r\\r\\r\\r\\nWoman \\r\\r\\r\\r\\nDisabled \\r\\r\\r...              3   \n",
       "3  NSFW \\r\\r\\r\\r\\nWoman \\r\\r\\r\\r\\nDisabled \\r\\r\\r...              0   \n",
       "4  space ghost // late nights in the middle of ju...              1   \n",
       "\n",
       "                  location     masked_user_id retweet_count         timestamp  \\\n",
       "0          under the moon   depressed_user_81           0.0  01-07-2020 00:15   \n",
       "1            Ypsilanti, MI  depressed_user_14           0.0  01-07-2020 00:24   \n",
       "2  Exploring the universe   depressed_user_11           1.0  01-07-2020 01:38   \n",
       "3  Exploring the universe   depressed_user_11           0.0  01-07-2020 01:42   \n",
       "4          under the moon   depressed_user_81           0.0  01-07-2020 02:00   \n",
       "\n",
       "                                              tweets     twittername  \\\n",
       "0  @hesrem i love u bby and i fully support u! i ...   sweetenersage   \n",
       "1  That white man should be arrested. All Black L...        Dalphond   \n",
       "2  @508gloryFelix Obviously how many times has Tr...  CmdrTinkerBell   \n",
       "3  @BrianKarem @PressSec @realDonaldTrump So does...  CmdrTinkerBell   \n",
       "4                       @hannah_ruthie CHICKENNUGGET   sweetenersage   \n",
       "\n",
       "   user_type  format          new_date  time_window  \\\n",
       "0        1.0       1  2020-07-01 00:15            2   \n",
       "1        1.0       1  2020-07-01 00:24            2   \n",
       "2        1.0       1  2020-07-01 01:38            2   \n",
       "3        1.0       1  2020-07-01 01:42            2   \n",
       "4        1.0       1  2020-07-01 02:00            2   \n",
       "\n",
       "                                    tweets_url_token  \\\n",
       "0  @hesrem i love u bby and i fully support u! i ...   \n",
       "1  That white man should be arrested. All Black L...   \n",
       "2  @508gloryFelix Obviously how many times has Tr...   \n",
       "3  @BrianKarem @PressSec @realDonaldTrump So does...   \n",
       "4                       @hannah_ruthie CHICKENNUGGET   \n",
       "\n",
       "                                           cleanData  encode_flag  \\\n",
       "0  i love u bby and i fully support u  i hope ur ...            2   \n",
       "1  that white man should be arrested  all black l...            2   \n",
       "2  obviously how many times has trump declared ba...            2   \n",
       "3  so does this mean that you did in fact know ab...            2   \n",
       "4                                      chickennugget            2   \n",
       "\n",
       "   cluster_label  \n",
       "0              2  \n",
       "1              0  \n",
       "2              1  \n",
       "3              2  \n",
       "4              0  "
      ]
     },
     "execution_count": 158,
     "metadata": {},
     "output_type": "execute_result"
    }
   ],
   "source": [
    "depressed_dataset_with_labels_2.head()"
   ]
  },
  {
   "cell_type": "code",
   "execution_count": 160,
   "metadata": {},
   "outputs": [
    {
     "data": {
      "text/plain": [
       "Index(['accountname', 'description', 'favorite_count', 'location',\n",
       "       'masked_user_id', 'retweet_count', 'timestamp', 'tweets', 'twittername',\n",
       "       'user_type', 'format', 'new_date', 'time_window', 'tweets_url_token',\n",
       "       'cleanData', 'encode_flag', 'cluster_label'],\n",
       "      dtype='object')"
      ]
     },
     "execution_count": 160,
     "metadata": {},
     "output_type": "execute_result"
    }
   ],
   "source": [
    "depressed_dataset_with_labels_2.columns"
   ]
  },
  {
   "cell_type": "code",
   "execution_count": 161,
   "metadata": {},
   "outputs": [],
   "source": [
    "writeColumns = ['masked_user_id','new_date', 'time_window','cleanData','cluster_label']"
   ]
  },
  {
   "cell_type": "code",
   "execution_count": 163,
   "metadata": {},
   "outputs": [],
   "source": [
    "output_filename = \"depTweets_window_2_kmeans_withLabel.csv\""
   ]
  },
  {
   "cell_type": "code",
   "execution_count": 164,
   "metadata": {},
   "outputs": [],
   "source": [
    "depressed_dataset_with_labels_2.to_csv(os.path.join(r\"D:\\Workspace\\OVGU\\SM_Depression\\src\\time_window\\kmeans_cluster\", output_filename),encoding=\"utf-8\",columns = writeColumns,index=False, date_format='%Y-%m-%d %H:%M')"
   ]
  },
  {
   "cell_type": "code",
   "execution_count": 165,
   "metadata": {},
   "outputs": [
    {
     "data": {
      "text/plain": [
       "0    666\n",
       "3    162\n",
       "2    146\n",
       "1     93\n",
       "4     26\n",
       "Name: cluster_label, dtype: int64"
      ]
     },
     "execution_count": 165,
     "metadata": {},
     "output_type": "execute_result"
    }
   ],
   "source": [
    "depressed_dataset_with_labels_2.cluster_label.value_counts()"
   ]
  },
  {
   "cell_type": "code",
   "execution_count": 166,
   "metadata": {},
   "outputs": [],
   "source": [
    "del depressed_data_embed_2_flag,depressed_data_embedfile_2,depressed_dataset_with_labels_2,depressed_embeddings_2"
   ]
  },
  {
   "cell_type": "code",
   "execution_count": null,
   "metadata": {},
   "outputs": [],
   "source": []
  },
  {
   "cell_type": "markdown",
   "metadata": {},
   "source": [
    "**To check if all tweets are embedded and their corresponding embeddings are available - Time Window 3**"
   ]
  },
  {
   "cell_type": "code",
   "execution_count": 167,
   "metadata": {},
   "outputs": [],
   "source": [
    "\n",
    "\n",
    "depressed_data_embedfile = open(\"D:\\Workspace\\OVGU\\SM_Depression\\scripts\\embeddings_sentences\\depressed_dataset_3_embedding.pkl\",\"rb\")\n",
    "\n",
    "depressed_data_embedfile = pickle.load(depressed_data_embedfile)"
   ]
  },
  {
   "cell_type": "code",
   "execution_count": 168,
   "metadata": {},
   "outputs": [
    {
     "data": {
      "text/plain": [
       "2977"
      ]
     },
     "execution_count": 168,
     "metadata": {},
     "output_type": "execute_result"
    }
   ],
   "source": [
    "len(depressed_data_embedfile.keys())"
   ]
  },
  {
   "cell_type": "code",
   "execution_count": 169,
   "metadata": {},
   "outputs": [],
   "source": [
    "depressed_data_embedfile = OrderedDict(depressed_data_embedfile)"
   ]
  },
  {
   "cell_type": "code",
   "execution_count": 170,
   "metadata": {},
   "outputs": [],
   "source": [
    "depressed_data_embed_flag = {key:int(2) for key, value in depressed_data_embedfile.items()}"
   ]
  },
  {
   "cell_type": "code",
   "execution_count": 171,
   "metadata": {},
   "outputs": [
    {
     "data": {
      "text/plain": [
       "2977"
      ]
     },
     "execution_count": 171,
     "metadata": {},
     "output_type": "execute_result"
    }
   ],
   "source": [
    "len(depressed_data_embed_flag.keys())"
   ]
  },
  {
   "cell_type": "code",
   "execution_count": 172,
   "metadata": {},
   "outputs": [
    {
     "data": {
      "text/plain": [
       "3223"
      ]
     },
     "execution_count": 172,
     "metadata": {},
     "output_type": "execute_result"
    }
   ],
   "source": [
    "len(depressed_dataset_3)"
   ]
  },
  {
   "cell_type": "code",
   "execution_count": 173,
   "metadata": {},
   "outputs": [
    {
     "name": "stderr",
     "output_type": "stream",
     "text": [
      "D:\\Softwares\\Anaconda\\lib\\site-packages\\ipykernel_launcher.py:1: SettingWithCopyWarning: \n",
      "A value is trying to be set on a copy of a slice from a DataFrame.\n",
      "Try using .loc[row_indexer,col_indexer] = value instead\n",
      "\n",
      "See the caveats in the documentation: https://pandas.pydata.org/pandas-docs/stable/user_guide/indexing.html#returning-a-view-versus-a-copy\n",
      "  \"\"\"Entry point for launching an IPython kernel.\n"
     ]
    }
   ],
   "source": [
    "depressed_dataset_3[\"encode_flag\"] = depressed_dataset_3[\"cleanData\"].apply(lambda x: depressed_data_embed_flag.get(x))\n"
   ]
  },
  {
   "cell_type": "code",
   "execution_count": 174,
   "metadata": {},
   "outputs": [
    {
     "data": {
      "text/plain": [
       "2    3223\n",
       "Name: encode_flag, dtype: int64"
      ]
     },
     "execution_count": 174,
     "metadata": {},
     "output_type": "execute_result"
    }
   ],
   "source": [
    "depressed_dataset_3.encode_flag.value_counts()"
   ]
  },
  {
   "cell_type": "code",
   "execution_count": 175,
   "metadata": {},
   "outputs": [
    {
     "data": {
      "text/plain": [
       "2977"
      ]
     },
     "execution_count": 175,
     "metadata": {},
     "output_type": "execute_result"
    }
   ],
   "source": [
    "depressed_dataset_3.cleanData.nunique()"
   ]
  },
  {
   "cell_type": "markdown",
   "metadata": {},
   "source": [
    "**Clustering on Time window 3 dataset**"
   ]
  },
  {
   "cell_type": "markdown",
   "metadata": {},
   "source": [
    "**Approach 1 - kMeans**"
   ]
  },
  {
   "cell_type": "code",
   "execution_count": 176,
   "metadata": {},
   "outputs": [],
   "source": [
    "from sklearn.cluster import KMeans\n",
    "from yellowbrick.cluster import KElbowVisualizer"
   ]
  },
  {
   "cell_type": "code",
   "execution_count": 177,
   "metadata": {
    "scrolled": true
   },
   "outputs": [
    {
     "data": {
      "text/plain": [
       "2977"
      ]
     },
     "execution_count": 177,
     "metadata": {},
     "output_type": "execute_result"
    }
   ],
   "source": [
    "len(list(depressed_data_embedfile.values()))"
   ]
  },
  {
   "cell_type": "code",
   "execution_count": 178,
   "metadata": {},
   "outputs": [],
   "source": [
    "depressed_embeddings = np.array(list(depressed_data_embedfile.values()))"
   ]
  },
  {
   "cell_type": "code",
   "execution_count": 179,
   "metadata": {},
   "outputs": [
    {
     "name": "stderr",
     "output_type": "stream",
     "text": [
      "D:\\Softwares\\Anaconda\\lib\\site-packages\\sklearn\\cluster\\_kmeans.py:939: FutureWarning: 'n_jobs' was deprecated in version 0.23 and will be removed in 0.25.\n",
      "  \" removed in 0.25.\", FutureWarning)\n",
      "D:\\Softwares\\Anaconda\\lib\\site-packages\\sklearn\\cluster\\_kmeans.py:939: FutureWarning: 'n_jobs' was deprecated in version 0.23 and will be removed in 0.25.\n",
      "  \" removed in 0.25.\", FutureWarning)\n",
      "D:\\Softwares\\Anaconda\\lib\\site-packages\\sklearn\\cluster\\_kmeans.py:939: FutureWarning: 'n_jobs' was deprecated in version 0.23 and will be removed in 0.25.\n",
      "  \" removed in 0.25.\", FutureWarning)\n",
      "D:\\Softwares\\Anaconda\\lib\\site-packages\\sklearn\\cluster\\_kmeans.py:939: FutureWarning: 'n_jobs' was deprecated in version 0.23 and will be removed in 0.25.\n",
      "  \" removed in 0.25.\", FutureWarning)\n",
      "D:\\Softwares\\Anaconda\\lib\\site-packages\\sklearn\\cluster\\_kmeans.py:939: FutureWarning: 'n_jobs' was deprecated in version 0.23 and will be removed in 0.25.\n",
      "  \" removed in 0.25.\", FutureWarning)\n",
      "D:\\Softwares\\Anaconda\\lib\\site-packages\\sklearn\\cluster\\_kmeans.py:939: FutureWarning: 'n_jobs' was deprecated in version 0.23 and will be removed in 0.25.\n",
      "  \" removed in 0.25.\", FutureWarning)\n",
      "D:\\Softwares\\Anaconda\\lib\\site-packages\\sklearn\\cluster\\_kmeans.py:939: FutureWarning: 'n_jobs' was deprecated in version 0.23 and will be removed in 0.25.\n",
      "  \" removed in 0.25.\", FutureWarning)\n",
      "D:\\Softwares\\Anaconda\\lib\\site-packages\\sklearn\\cluster\\_kmeans.py:939: FutureWarning: 'n_jobs' was deprecated in version 0.23 and will be removed in 0.25.\n",
      "  \" removed in 0.25.\", FutureWarning)\n",
      "D:\\Softwares\\Anaconda\\lib\\site-packages\\sklearn\\cluster\\_kmeans.py:939: FutureWarning: 'n_jobs' was deprecated in version 0.23 and will be removed in 0.25.\n",
      "  \" removed in 0.25.\", FutureWarning)\n"
     ]
    },
    {
     "data": {
      "image/png": "[encoded data removed]",
      "text/plain": [
       "<Figure size 576x396 with 2 Axes>"
      ]
     },
     "metadata": {},
     "output_type": "display_data"
    },
    {
     "data": {
      "text/plain": [
       "<matplotlib.axes._subplots.AxesSubplot at 0x15eb432fe48>"
      ]
     },
     "execution_count": 179,
     "metadata": {},
     "output_type": "execute_result"
    }
   ],
   "source": [
    "model = KMeans(init='k-means++', n_jobs=4)\n",
    "visualizer = KElbowVisualizer(model, k=(2,11))\n",
    "\n",
    "visualizer.fit(depressed_embeddings)    \n",
    "visualizer.show()  "
   ]
  },
  {
   "cell_type": "code",
   "execution_count": 180,
   "metadata": {},
   "outputs": [
    {
     "name": "stderr",
     "output_type": "stream",
     "text": [
      "D:\\Softwares\\Anaconda\\lib\\site-packages\\sklearn\\cluster\\_kmeans.py:939: FutureWarning: 'n_jobs' was deprecated in version 0.23 and will be removed in 0.25.\n",
      "  \" removed in 0.25.\", FutureWarning)\n"
     ]
    }
   ],
   "source": [
    "kmeans = KMeans(n_clusters=5,init='k-means++', n_jobs=4)\n",
    "kmeans = kmeans.fit(depressed_embeddings)"
   ]
  },
  {
   "cell_type": "code",
   "execution_count": 181,
   "metadata": {},
   "outputs": [
    {
     "data": {
      "text/plain": [
       "2977"
      ]
     },
     "execution_count": 181,
     "metadata": {},
     "output_type": "execute_result"
    }
   ],
   "source": [
    "kmeans_labels = kmeans.labels_\n",
    "\n",
    "len(kmeans_labels)"
   ]
  },
  {
   "cell_type": "code",
   "execution_count": 182,
   "metadata": {},
   "outputs": [],
   "source": [
    "tweet_label_df = pd.DataFrame()\n",
    "tweet_label_df['cleanData'] = depressed_data_embedfile.keys()\n",
    "tweet_label_df['cluster_label'] = kmeans_labels"
   ]
  },
  {
   "cell_type": "code",
   "execution_count": 183,
   "metadata": {},
   "outputs": [
    {
     "data": {
      "text/html": [
       "<div>\n",
       "<style scoped>\n",
       "    .dataframe tbody tr th:only-of-type {\n",
       "        vertical-align: middle;\n",
       "    }\n",
       "\n",
       "    .dataframe tbody tr th {\n",
       "        vertical-align: top;\n",
       "    }\n",
       "\n",
       "    .dataframe thead th {\n",
       "        text-align: right;\n",
       "    }\n",
       "</style>\n",
       "<table border=\"1\" class=\"dataframe\">\n",
       "  <thead>\n",
       "    <tr style=\"text-align: right;\">\n",
       "      <th></th>\n",
       "      <th>cleanData</th>\n",
       "      <th>cluster_label</th>\n",
       "    </tr>\n",
       "  </thead>\n",
       "  <tbody>\n",
       "    <tr>\n",
       "      <th>0</th>\n",
       "      <td>meh i m sad</td>\n",
       "      <td>1</td>\n",
       "    </tr>\n",
       "    <tr>\n",
       "      <th>1</th>\n",
       "      <td>idk if i m more triggered than i am jealous an...</td>\n",
       "      <td>1</td>\n",
       "    </tr>\n",
       "    <tr>\n",
       "      <th>2</th>\n",
       "      <td>please give me my relapse honeymoon phase back...</td>\n",
       "      <td>2</td>\n",
       "    </tr>\n",
       "    <tr>\n",
       "      <th>3</th>\n",
       "      <td>prayers for the family on this difficult day</td>\n",
       "      <td>2</td>\n",
       "    </tr>\n",
       "    <tr>\n",
       "      <th>4</th>\n",
       "      <td>tuna t sub     it   s been the same  20 for th...</td>\n",
       "      <td>3</td>\n",
       "    </tr>\n",
       "  </tbody>\n",
       "</table>\n",
       "</div>"
      ],
      "text/plain": [
       "                                           cleanData  cluster_label\n",
       "0                                        meh i m sad              1\n",
       "1  idk if i m more triggered than i am jealous an...              1\n",
       "2  please give me my relapse honeymoon phase back...              2\n",
       "3   prayers for the family on this difficult day                  2\n",
       "4  tuna t sub     it   s been the same  20 for th...              3"
      ]
     },
     "execution_count": 183,
     "metadata": {},
     "output_type": "execute_result"
    }
   ],
   "source": [
    "tweet_label_df.head()"
   ]
  },
  {
   "cell_type": "code",
   "execution_count": 184,
   "metadata": {},
   "outputs": [
    {
     "data": {
      "text/plain": [
       "3    1749\n",
       "2     539\n",
       "0     319\n",
       "1     289\n",
       "4      81\n",
       "Name: cluster_label, dtype: int64"
      ]
     },
     "execution_count": 184,
     "metadata": {},
     "output_type": "execute_result"
    }
   ],
   "source": [
    "tweet_label_df.cluster_label.value_counts()"
   ]
  },
  {
   "cell_type": "code",
   "execution_count": 185,
   "metadata": {},
   "outputs": [],
   "source": [
    "depressed_dataset_with_labels_3 = pd.merge(depressed_dataset_3, tweet_label_df, on='cleanData')"
   ]
  },
  {
   "cell_type": "code",
   "execution_count": 186,
   "metadata": {},
   "outputs": [
    {
     "data": {
      "text/html": [
       "<div>\n",
       "<style scoped>\n",
       "    .dataframe tbody tr th:only-of-type {\n",
       "        vertical-align: middle;\n",
       "    }\n",
       "\n",
       "    .dataframe tbody tr th {\n",
       "        vertical-align: top;\n",
       "    }\n",
       "\n",
       "    .dataframe thead th {\n",
       "        text-align: right;\n",
       "    }\n",
       "</style>\n",
       "<table border=\"1\" class=\"dataframe\">\n",
       "  <thead>\n",
       "    <tr style=\"text-align: right;\">\n",
       "      <th></th>\n",
       "      <th>accountname</th>\n",
       "      <th>description</th>\n",
       "      <th>favorite_count</th>\n",
       "      <th>location</th>\n",
       "      <th>masked_user_id</th>\n",
       "      <th>retweet_count</th>\n",
       "      <th>timestamp</th>\n",
       "      <th>tweets</th>\n",
       "      <th>twittername</th>\n",
       "      <th>user_type</th>\n",
       "      <th>format</th>\n",
       "      <th>new_date</th>\n",
       "      <th>time_window</th>\n",
       "      <th>tweets_url_token</th>\n",
       "      <th>cleanData</th>\n",
       "      <th>encode_flag</th>\n",
       "      <th>cluster_label</th>\n",
       "    </tr>\n",
       "  </thead>\n",
       "  <tbody>\n",
       "    <tr>\n",
       "      <th>0</th>\n",
       "      <td>daisy.</td>\n",
       "      <td>ð�˜�ð�˜„: ð�—²ð�—± ð�˜�ð�˜„ð�˜� ð�—¿ð�—®ð�—»ð�...</td>\n",
       "      <td>1</td>\n",
       "      <td>23 ã€¡ she/her ã€¡ eng/spa</td>\n",
       "      <td>depressed_user_24</td>\n",
       "      <td>0.0</td>\n",
       "      <td>7/8/2020 0:00</td>\n",
       "      <td>meh i'm sad</td>\n",
       "      <td>fluxkcals</td>\n",
       "      <td>1.0</td>\n",
       "      <td>2</td>\n",
       "      <td>2020-07-08 00:00</td>\n",
       "      <td>3</td>\n",
       "      <td>meh i'm sad</td>\n",
       "      <td>meh i m sad</td>\n",
       "      <td>2</td>\n",
       "      <td>1</td>\n",
       "    </tr>\n",
       "    <tr>\n",
       "      <th>1</th>\n",
       "      <td>daisy.</td>\n",
       "      <td>ð�˜�ð�˜„: ð�—²ð�—± ð�˜�ð�˜„ð�˜� ð�—¿ð�—®ð�—»ð�...</td>\n",
       "      <td>5</td>\n",
       "      <td>23 ã€¡ she/her ã€¡ eng/spa</td>\n",
       "      <td>depressed_user_24</td>\n",
       "      <td>0.0</td>\n",
       "      <td>7/8/2020 0:00</td>\n",
       "      <td>idk if i'm more triggered than i am jealous an...</td>\n",
       "      <td>fluxkcals</td>\n",
       "      <td>1.0</td>\n",
       "      <td>2</td>\n",
       "      <td>2020-07-08 00:00</td>\n",
       "      <td>3</td>\n",
       "      <td>idk if i'm more triggered than i am jealous an...</td>\n",
       "      <td>idk if i m more triggered than i am jealous an...</td>\n",
       "      <td>2</td>\n",
       "      <td>1</td>\n",
       "    </tr>\n",
       "    <tr>\n",
       "      <th>2</th>\n",
       "      <td>daisy.</td>\n",
       "      <td>ð�˜�ð�˜„: ð�—²ð�—± ð�˜�ð�˜„ð�˜� ð�—¿ð�—®ð�—»ð�...</td>\n",
       "      <td>13</td>\n",
       "      <td>23 ã€¡ she/her ã€¡ eng/spa</td>\n",
       "      <td>depressed_user_24</td>\n",
       "      <td>0.0</td>\n",
       "      <td>7/8/2020 0:02</td>\n",
       "      <td>please give me my relapse honeymoon phase back...</td>\n",
       "      <td>fluxkcals</td>\n",
       "      <td>1.0</td>\n",
       "      <td>2</td>\n",
       "      <td>2020-07-08 00:02</td>\n",
       "      <td>3</td>\n",
       "      <td>please give me my relapse honeymoon phase back...</td>\n",
       "      <td>please give me my relapse honeymoon phase back...</td>\n",
       "      <td>2</td>\n",
       "      <td>2</td>\n",
       "    </tr>\n",
       "    <tr>\n",
       "      <th>3</th>\n",
       "      <td>T</td>\n",
       "      <td>Wellness has never been so fun!</td>\n",
       "      <td>0</td>\n",
       "      <td>Addison, TX</td>\n",
       "      <td>depressed_user_80</td>\n",
       "      <td>0.0</td>\n",
       "      <td>08-07-2020 00:05</td>\n",
       "      <td>@FOX4 Prayers for the family on this difficult...</td>\n",
       "      <td>studio8addison</td>\n",
       "      <td>1.0</td>\n",
       "      <td>1</td>\n",
       "      <td>2020-07-08 00:05</td>\n",
       "      <td>3</td>\n",
       "      <td>@FOX4 Prayers for the family on this difficult...</td>\n",
       "      <td>prayers for the family on this difficult day</td>\n",
       "      <td>2</td>\n",
       "      <td>2</td>\n",
       "    </tr>\n",
       "    <tr>\n",
       "      <th>4</th>\n",
       "      <td>jessaðŸ§ƒ</td>\n",
       "      <td>mentally ill</td>\n",
       "      <td>2</td>\n",
       "      <td>she/her 20</td>\n",
       "      <td>depressed_user_13</td>\n",
       "      <td>0.0</td>\n",
       "      <td>08-07-2020 00:05</td>\n",
       "      <td>TUNA T SUB ... itâ€™s been the same $20  for t...</td>\n",
       "      <td>constantnothing</td>\n",
       "      <td>1.0</td>\n",
       "      <td>1</td>\n",
       "      <td>2020-07-08 00:05</td>\n",
       "      <td>3</td>\n",
       "      <td>TUNA T SUB ... itâ€™s been the same $20  for t...</td>\n",
       "      <td>tuna t sub     it   s been the same  20 for th...</td>\n",
       "      <td>2</td>\n",
       "      <td>3</td>\n",
       "    </tr>\n",
       "  </tbody>\n",
       "</table>\n",
       "</div>"
      ],
      "text/plain": [
       "  accountname                                        description  \\\n",
       "0      daisy.  ð�˜�ð�˜„: ð�—²ð�—± ð�˜�ð�˜„ð�˜� ð�—¿ð�—®ð�—»ð�...   \n",
       "1      daisy.  ð�˜�ð�˜„: ð�—²ð�—± ð�˜�ð�˜„ð�˜� ð�—¿ð�—®ð�—»ð�...   \n",
       "2      daisy.  ð�˜�ð�˜„: ð�—²ð�—± ð�˜�ð�˜„ð�˜� ð�—¿ð�—®ð�—»ð�...   \n",
       "3           T                    Wellness has never been so fun!   \n",
       "4   jessaðŸ§ƒ                                       mentally ill   \n",
       "\n",
       "  favorite_count                    location     masked_user_id retweet_count  \\\n",
       "0              1  23 ã€¡ she/her ã€¡ eng/spa  depressed_user_24           0.0   \n",
       "1              5  23 ã€¡ she/her ã€¡ eng/spa  depressed_user_24           0.0   \n",
       "2             13  23 ã€¡ she/her ã€¡ eng/spa  depressed_user_24           0.0   \n",
       "3              0                 Addison, TX  depressed_user_80           0.0   \n",
       "4              2                  she/her 20  depressed_user_13           0.0   \n",
       "\n",
       "          timestamp                                             tweets  \\\n",
       "0     7/8/2020 0:00                                        meh i'm sad   \n",
       "1     7/8/2020 0:00  idk if i'm more triggered than i am jealous an...   \n",
       "2     7/8/2020 0:02  please give me my relapse honeymoon phase back...   \n",
       "3  08-07-2020 00:05  @FOX4 Prayers for the family on this difficult...   \n",
       "4  08-07-2020 00:05  TUNA T SUB ... itâ€™s been the same $20  for t...   \n",
       "\n",
       "       twittername  user_type  format          new_date  time_window  \\\n",
       "0        fluxkcals        1.0       2  2020-07-08 00:00            3   \n",
       "1        fluxkcals        1.0       2  2020-07-08 00:00            3   \n",
       "2        fluxkcals        1.0       2  2020-07-08 00:02            3   \n",
       "3   studio8addison        1.0       1  2020-07-08 00:05            3   \n",
       "4  constantnothing        1.0       1  2020-07-08 00:05            3   \n",
       "\n",
       "                                    tweets_url_token  \\\n",
       "0                                        meh i'm sad   \n",
       "1  idk if i'm more triggered than i am jealous an...   \n",
       "2  please give me my relapse honeymoon phase back...   \n",
       "3  @FOX4 Prayers for the family on this difficult...   \n",
       "4  TUNA T SUB ... itâ€™s been the same $20  for t...   \n",
       "\n",
       "                                           cleanData  encode_flag  \\\n",
       "0                                        meh i m sad            2   \n",
       "1  idk if i m more triggered than i am jealous an...            2   \n",
       "2  please give me my relapse honeymoon phase back...            2   \n",
       "3   prayers for the family on this difficult day                2   \n",
       "4  tuna t sub     it   s been the same  20 for th...            2   \n",
       "\n",
       "   cluster_label  \n",
       "0              1  \n",
       "1              1  \n",
       "2              2  \n",
       "3              2  \n",
       "4              3  "
      ]
     },
     "execution_count": 186,
     "metadata": {},
     "output_type": "execute_result"
    }
   ],
   "source": [
    "depressed_dataset_with_labels_3.head()"
   ]
  },
  {
   "cell_type": "code",
   "execution_count": 187,
   "metadata": {},
   "outputs": [
    {
     "data": {
      "text/plain": [
       "Index(['accountname', 'description', 'favorite_count', 'location',\n",
       "       'masked_user_id', 'retweet_count', 'timestamp', 'tweets', 'twittername',\n",
       "       'user_type', 'format', 'new_date', 'time_window', 'tweets_url_token',\n",
       "       'cleanData', 'encode_flag', 'cluster_label'],\n",
       "      dtype='object')"
      ]
     },
     "execution_count": 187,
     "metadata": {},
     "output_type": "execute_result"
    }
   ],
   "source": [
    "depressed_dataset_with_labels_3.columns"
   ]
  },
  {
   "cell_type": "code",
   "execution_count": 188,
   "metadata": {},
   "outputs": [],
   "source": [
    "writeColumns = ['masked_user_id','new_date', 'time_window','cleanData','cluster_label']"
   ]
  },
  {
   "cell_type": "code",
   "execution_count": 189,
   "metadata": {},
   "outputs": [],
   "source": [
    "output_filename = \"depTweets_window_3_kmeans_withLabel.csv\""
   ]
  },
  {
   "cell_type": "code",
   "execution_count": 190,
   "metadata": {},
   "outputs": [],
   "source": [
    "depressed_dataset_with_labels_3.to_csv(os.path.join(r\"D:\\Workspace\\OVGU\\SM_Depression\\src\\time_window\\kmeans_cluster\", output_filename),encoding=\"utf-8\",columns = writeColumns,index=False, date_format='%Y-%m-%d %H:%M')"
   ]
  },
  {
   "cell_type": "code",
   "execution_count": 191,
   "metadata": {},
   "outputs": [
    {
     "data": {
      "text/plain": [
       "3    1992\n",
       "2     541\n",
       "0     319\n",
       "1     290\n",
       "4      81\n",
       "Name: cluster_label, dtype: int64"
      ]
     },
     "execution_count": 191,
     "metadata": {},
     "output_type": "execute_result"
    }
   ],
   "source": [
    "depressed_dataset_with_labels_3.cluster_label.value_counts()"
   ]
  },
  {
   "cell_type": "code",
   "execution_count": 192,
   "metadata": {},
   "outputs": [],
   "source": [
    "del depressed_data_embed_flag,depressed_data_embedfile,depressed_dataset_with_labels_3,depressed_embeddings"
   ]
  },
  {
   "cell_type": "code",
   "execution_count": null,
   "metadata": {},
   "outputs": [],
   "source": []
  },
  {
   "cell_type": "markdown",
   "metadata": {},
   "source": [
    "**To check if all tweets are embedded and their corresponding embeddings are available - Time Window 4**"
   ]
  },
  {
   "cell_type": "code",
   "execution_count": 193,
   "metadata": {},
   "outputs": [],
   "source": [
    "\n",
    "\n",
    "depressed_data_embedfile = open(\"D:\\Workspace\\OVGU\\SM_Depression\\scripts\\embeddings_sentences\\depressed_dataset_4_embedding.pkl\",\"rb\")\n",
    "\n",
    "depressed_data_embedfile = pickle.load(depressed_data_embedfile)\n",
    "\n",
    "embed_value = 4"
   ]
  },
  {
   "cell_type": "code",
   "execution_count": 194,
   "metadata": {},
   "outputs": [
    {
     "data": {
      "text/plain": [
       "4442"
      ]
     },
     "execution_count": 194,
     "metadata": {},
     "output_type": "execute_result"
    }
   ],
   "source": [
    "len(depressed_data_embedfile.keys())"
   ]
  },
  {
   "cell_type": "code",
   "execution_count": 195,
   "metadata": {},
   "outputs": [],
   "source": [
    "depressed_data_embedfile = OrderedDict(depressed_data_embedfile)"
   ]
  },
  {
   "cell_type": "code",
   "execution_count": 196,
   "metadata": {},
   "outputs": [],
   "source": [
    "depressed_data_embed_flag = {key:int(embed_value) for key, value in depressed_data_embedfile.items()}"
   ]
  },
  {
   "cell_type": "code",
   "execution_count": 197,
   "metadata": {},
   "outputs": [
    {
     "data": {
      "text/plain": [
       "4442"
      ]
     },
     "execution_count": 197,
     "metadata": {},
     "output_type": "execute_result"
    }
   ],
   "source": [
    "len(depressed_data_embed_flag.keys())"
   ]
  },
  {
   "cell_type": "code",
   "execution_count": 198,
   "metadata": {},
   "outputs": [
    {
     "data": {
      "text/plain": [
       "4868"
      ]
     },
     "execution_count": 198,
     "metadata": {},
     "output_type": "execute_result"
    }
   ],
   "source": [
    "len(depressed_dataset_4)"
   ]
  },
  {
   "cell_type": "code",
   "execution_count": 199,
   "metadata": {},
   "outputs": [
    {
     "name": "stderr",
     "output_type": "stream",
     "text": [
      "D:\\Softwares\\Anaconda\\lib\\site-packages\\ipykernel_launcher.py:1: SettingWithCopyWarning: \n",
      "A value is trying to be set on a copy of a slice from a DataFrame.\n",
      "Try using .loc[row_indexer,col_indexer] = value instead\n",
      "\n",
      "See the caveats in the documentation: https://pandas.pydata.org/pandas-docs/stable/user_guide/indexing.html#returning-a-view-versus-a-copy\n",
      "  \"\"\"Entry point for launching an IPython kernel.\n"
     ]
    }
   ],
   "source": [
    "depressed_dataset_4[\"encode_flag\"] = depressed_dataset_4[\"cleanData\"].apply(lambda x: depressed_data_embed_flag.get(x))\n"
   ]
  },
  {
   "cell_type": "code",
   "execution_count": 200,
   "metadata": {},
   "outputs": [
    {
     "data": {
      "text/plain": [
       "4    4868\n",
       "Name: encode_flag, dtype: int64"
      ]
     },
     "execution_count": 200,
     "metadata": {},
     "output_type": "execute_result"
    }
   ],
   "source": [
    "depressed_dataset_4.encode_flag.value_counts()"
   ]
  },
  {
   "cell_type": "code",
   "execution_count": 201,
   "metadata": {},
   "outputs": [
    {
     "data": {
      "text/plain": [
       "4442"
      ]
     },
     "execution_count": 201,
     "metadata": {},
     "output_type": "execute_result"
    }
   ],
   "source": [
    "depressed_dataset_4.cleanData.nunique()"
   ]
  },
  {
   "cell_type": "markdown",
   "metadata": {},
   "source": [
    "**Clustering on Time window 3 dataset**"
   ]
  },
  {
   "cell_type": "markdown",
   "metadata": {},
   "source": [
    "**Approach 1 - kMeans**"
   ]
  },
  {
   "cell_type": "code",
   "execution_count": 202,
   "metadata": {},
   "outputs": [],
   "source": [
    "from sklearn.cluster import KMeans\n",
    "from yellowbrick.cluster import KElbowVisualizer"
   ]
  },
  {
   "cell_type": "code",
   "execution_count": 203,
   "metadata": {
    "scrolled": true
   },
   "outputs": [
    {
     "data": {
      "text/plain": [
       "4442"
      ]
     },
     "execution_count": 203,
     "metadata": {},
     "output_type": "execute_result"
    }
   ],
   "source": [
    "len(list(depressed_data_embedfile.values()))"
   ]
  },
  {
   "cell_type": "code",
   "execution_count": 204,
   "metadata": {},
   "outputs": [],
   "source": [
    "depressed_embeddings = np.array(list(depressed_data_embedfile.values()))"
   ]
  },
  {
   "cell_type": "code",
   "execution_count": 205,
   "metadata": {},
   "outputs": [
    {
     "name": "stderr",
     "output_type": "stream",
     "text": [
      "D:\\Softwares\\Anaconda\\lib\\site-packages\\sklearn\\cluster\\_kmeans.py:939: FutureWarning: 'n_jobs' was deprecated in version 0.23 and will be removed in 0.25.\n",
      "  \" removed in 0.25.\", FutureWarning)\n",
      "D:\\Softwares\\Anaconda\\lib\\site-packages\\sklearn\\cluster\\_kmeans.py:939: FutureWarning: 'n_jobs' was deprecated in version 0.23 and will be removed in 0.25.\n",
      "  \" removed in 0.25.\", FutureWarning)\n",
      "D:\\Softwares\\Anaconda\\lib\\site-packages\\sklearn\\cluster\\_kmeans.py:939: FutureWarning: 'n_jobs' was deprecated in version 0.23 and will be removed in 0.25.\n",
      "  \" removed in 0.25.\", FutureWarning)\n",
      "D:\\Softwares\\Anaconda\\lib\\site-packages\\sklearn\\cluster\\_kmeans.py:939: FutureWarning: 'n_jobs' was deprecated in version 0.23 and will be removed in 0.25.\n",
      "  \" removed in 0.25.\", FutureWarning)\n",
      "D:\\Softwares\\Anaconda\\lib\\site-packages\\sklearn\\cluster\\_kmeans.py:939: FutureWarning: 'n_jobs' was deprecated in version 0.23 and will be removed in 0.25.\n",
      "  \" removed in 0.25.\", FutureWarning)\n",
      "D:\\Softwares\\Anaconda\\lib\\site-packages\\sklearn\\cluster\\_kmeans.py:939: FutureWarning: 'n_jobs' was deprecated in version 0.23 and will be removed in 0.25.\n",
      "  \" removed in 0.25.\", FutureWarning)\n",
      "D:\\Softwares\\Anaconda\\lib\\site-packages\\sklearn\\cluster\\_kmeans.py:939: FutureWarning: 'n_jobs' was deprecated in version 0.23 and will be removed in 0.25.\n",
      "  \" removed in 0.25.\", FutureWarning)\n",
      "D:\\Softwares\\Anaconda\\lib\\site-packages\\sklearn\\cluster\\_kmeans.py:939: FutureWarning: 'n_jobs' was deprecated in version 0.23 and will be removed in 0.25.\n",
      "  \" removed in 0.25.\", FutureWarning)\n",
      "D:\\Softwares\\Anaconda\\lib\\site-packages\\sklearn\\cluster\\_kmeans.py:939: FutureWarning: 'n_jobs' was deprecated in version 0.23 and will be removed in 0.25.\n",
      "  \" removed in 0.25.\", FutureWarning)\n"
     ]
    },
    {
     "data": {
      "image/png": "[encoded data removed]",
      "text/plain": [
       "<Figure size 576x396 with 2 Axes>"
      ]
     },
     "metadata": {},
     "output_type": "display_data"
    },
    {
     "data": {
      "text/plain": [
       "<matplotlib.axes._subplots.AxesSubplot at 0x15eb43a4188>"
      ]
     },
     "execution_count": 205,
     "metadata": {},
     "output_type": "execute_result"
    }
   ],
   "source": [
    "model = KMeans(init='k-means++', n_jobs=4)\n",
    "visualizer = KElbowVisualizer(model, k=(2,11))\n",
    "\n",
    "visualizer.fit(depressed_embeddings)    \n",
    "visualizer.show()  "
   ]
  },
  {
   "cell_type": "code",
   "execution_count": 206,
   "metadata": {},
   "outputs": [
    {
     "name": "stderr",
     "output_type": "stream",
     "text": [
      "D:\\Softwares\\Anaconda\\lib\\site-packages\\sklearn\\cluster\\_kmeans.py:939: FutureWarning: 'n_jobs' was deprecated in version 0.23 and will be removed in 0.25.\n",
      "  \" removed in 0.25.\", FutureWarning)\n"
     ]
    }
   ],
   "source": [
    "kmeans = KMeans(n_clusters=5,init='k-means++', n_jobs=4)\n",
    "kmeans = kmeans.fit(depressed_embeddings)"
   ]
  },
  {
   "cell_type": "code",
   "execution_count": 207,
   "metadata": {},
   "outputs": [
    {
     "data": {
      "text/plain": [
       "4442"
      ]
     },
     "execution_count": 207,
     "metadata": {},
     "output_type": "execute_result"
    }
   ],
   "source": [
    "kmeans_labels = kmeans.labels_\n",
    "\n",
    "len(kmeans_labels)"
   ]
  },
  {
   "cell_type": "code",
   "execution_count": 208,
   "metadata": {},
   "outputs": [],
   "source": [
    "tweet_label_df = pd.DataFrame()\n",
    "tweet_label_df['cleanData'] = depressed_data_embedfile.keys()\n",
    "tweet_label_df['cluster_label'] = kmeans_labels"
   ]
  },
  {
   "cell_type": "code",
   "execution_count": 209,
   "metadata": {},
   "outputs": [
    {
     "data": {
      "text/html": [
       "<div>\n",
       "<style scoped>\n",
       "    .dataframe tbody tr th:only-of-type {\n",
       "        vertical-align: middle;\n",
       "    }\n",
       "\n",
       "    .dataframe tbody tr th {\n",
       "        vertical-align: top;\n",
       "    }\n",
       "\n",
       "    .dataframe thead th {\n",
       "        text-align: right;\n",
       "    }\n",
       "</style>\n",
       "<table border=\"1\" class=\"dataframe\">\n",
       "  <thead>\n",
       "    <tr style=\"text-align: right;\">\n",
       "      <th></th>\n",
       "      <th>cleanData</th>\n",
       "      <th>cluster_label</th>\n",
       "    </tr>\n",
       "  </thead>\n",
       "  <tbody>\n",
       "    <tr>\n",
       "      <th>0</th>\n",
       "      <td>yes  who knew  [url]</td>\n",
       "      <td>2</td>\n",
       "    </tr>\n",
       "    <tr>\n",
       "      <th>1</th>\n",
       "      <td>exactly  and it s so frustrating because even ...</td>\n",
       "      <td>1</td>\n",
       "    </tr>\n",
       "    <tr>\n",
       "      <th>2</th>\n",
       "      <td>when men try to explain why you shouldn   t ha...</td>\n",
       "      <td>0</td>\n",
       "    </tr>\n",
       "    <tr>\n",
       "      <th>3</th>\n",
       "      <td>some of y   all are some fckn weirdos    quit ...</td>\n",
       "      <td>0</td>\n",
       "    </tr>\n",
       "    <tr>\n",
       "      <th>4</th>\n",
       "      <td>i   m ill  not sick</td>\n",
       "      <td>2</td>\n",
       "    </tr>\n",
       "  </tbody>\n",
       "</table>\n",
       "</div>"
      ],
      "text/plain": [
       "                                           cleanData  cluster_label\n",
       "0                               yes  who knew  [url]              2\n",
       "1  exactly  and it s so frustrating because even ...              1\n",
       "2  when men try to explain why you shouldn   t ha...              0\n",
       "3  some of y   all are some fckn weirdos    quit ...              0\n",
       "4                               i   m ill  not sick               2"
      ]
     },
     "execution_count": 209,
     "metadata": {},
     "output_type": "execute_result"
    }
   ],
   "source": [
    "tweet_label_df.head()"
   ]
  },
  {
   "cell_type": "code",
   "execution_count": 210,
   "metadata": {},
   "outputs": [
    {
     "data": {
      "text/plain": [
       "2    2426\n",
       "0     851\n",
       "4     589\n",
       "3     447\n",
       "1     129\n",
       "Name: cluster_label, dtype: int64"
      ]
     },
     "execution_count": 210,
     "metadata": {},
     "output_type": "execute_result"
    }
   ],
   "source": [
    "tweet_label_df.cluster_label.value_counts()"
   ]
  },
  {
   "cell_type": "code",
   "execution_count": 211,
   "metadata": {},
   "outputs": [],
   "source": [
    "depressed_dataset_with_labels_4 = pd.merge(depressed_dataset_4, tweet_label_df, on='cleanData')"
   ]
  },
  {
   "cell_type": "code",
   "execution_count": 212,
   "metadata": {},
   "outputs": [
    {
     "data": {
      "text/html": [
       "<div>\n",
       "<style scoped>\n",
       "    .dataframe tbody tr th:only-of-type {\n",
       "        vertical-align: middle;\n",
       "    }\n",
       "\n",
       "    .dataframe tbody tr th {\n",
       "        vertical-align: top;\n",
       "    }\n",
       "\n",
       "    .dataframe thead th {\n",
       "        text-align: right;\n",
       "    }\n",
       "</style>\n",
       "<table border=\"1\" class=\"dataframe\">\n",
       "  <thead>\n",
       "    <tr style=\"text-align: right;\">\n",
       "      <th></th>\n",
       "      <th>accountname</th>\n",
       "      <th>description</th>\n",
       "      <th>favorite_count</th>\n",
       "      <th>location</th>\n",
       "      <th>masked_user_id</th>\n",
       "      <th>retweet_count</th>\n",
       "      <th>timestamp</th>\n",
       "      <th>tweets</th>\n",
       "      <th>twittername</th>\n",
       "      <th>user_type</th>\n",
       "      <th>format</th>\n",
       "      <th>new_date</th>\n",
       "      <th>time_window</th>\n",
       "      <th>tweets_url_token</th>\n",
       "      <th>cleanData</th>\n",
       "      <th>encode_flag</th>\n",
       "      <th>cluster_label</th>\n",
       "    </tr>\n",
       "  </thead>\n",
       "  <tbody>\n",
       "    <tr>\n",
       "      <th>0</th>\n",
       "      <td>Zanna Shirmana</td>\n",
       "      <td>Oh! Hi! I'm a HIP (hearing-impaired person) wh...</td>\n",
       "      <td>1</td>\n",
       "      <td>United States</td>\n",
       "      <td>depressed_user_99</td>\n",
       "      <td>0.0</td>\n",
       "      <td>7/15/2020 0:00</td>\n",
       "      <td>@kathryninman9 Yes. Who knew?\\r\\r\\r\\n\\r\\r\\r\\nh...</td>\n",
       "      <td>ZannaShirmana</td>\n",
       "      <td>1.0</td>\n",
       "      <td>2</td>\n",
       "      <td>2020-07-15 00:00</td>\n",
       "      <td>4</td>\n",
       "      <td>@kathryninman9 Yes. Who knew?\\r\\r\\r\\n\\r\\r\\r\\n[...</td>\n",
       "      <td>yes  who knew  [url]</td>\n",
       "      <td>4</td>\n",
       "      <td>2</td>\n",
       "    </tr>\n",
       "    <tr>\n",
       "      <th>1</th>\n",
       "      <td>daisy.</td>\n",
       "      <td>ð�˜�ð�˜„: ð�—²ð�—± ð�˜�ð�˜„ð�˜� ð�—¿ð�—®ð�—»ð�...</td>\n",
       "      <td>1</td>\n",
       "      <td>23 ã€¡ she/her ã€¡ eng/spa</td>\n",
       "      <td>depressed_user_24</td>\n",
       "      <td>0.0</td>\n",
       "      <td>7/15/2020 0:00</td>\n",
       "      <td>@limbsfall exactly. and it's so frustrating be...</td>\n",
       "      <td>fluxkcals</td>\n",
       "      <td>1.0</td>\n",
       "      <td>2</td>\n",
       "      <td>2020-07-15 00:00</td>\n",
       "      <td>4</td>\n",
       "      <td>@limbsfall exactly. and it's so frustrating be...</td>\n",
       "      <td>exactly  and it s so frustrating because even ...</td>\n",
       "      <td>4</td>\n",
       "      <td>1</td>\n",
       "    </tr>\n",
       "    <tr>\n",
       "      <th>2</th>\n",
       "      <td>Kaia â˜€ï¸�</td>\n",
       "      <td>Black Lives Matter</td>\n",
       "      <td>1</td>\n",
       "      <td>I travel too much for this</td>\n",
       "      <td>depressed_user_39</td>\n",
       "      <td>0.0</td>\n",
       "      <td>7/15/2020 0:01</td>\n",
       "      <td>When men try to explain why you shouldnâ€™t ha...</td>\n",
       "      <td>KaiaVictoria</td>\n",
       "      <td>1.0</td>\n",
       "      <td>2</td>\n",
       "      <td>2020-07-15 00:01</td>\n",
       "      <td>4</td>\n",
       "      <td>When men try to explain why you shouldnâ€™t ha...</td>\n",
       "      <td>when men try to explain why you shouldn   t ha...</td>\n",
       "      <td>4</td>\n",
       "      <td>0</td>\n",
       "    </tr>\n",
       "    <tr>\n",
       "      <th>3</th>\n",
       "      <td>ð�??ð�??ð�?¡ ê?¥</td>\n",
       "      <td>ð�??ð�?? ð�?? ð�??ð�??ð�??ð�?? ð�??ð�??ð�??ð�?...</td>\n",
       "      <td>18</td>\n",
       "      <td></td>\n",
       "      <td>depressed_user_45</td>\n",
       "      <td>0.0</td>\n",
       "      <td>7/15/2020 0:02</td>\n",
       "      <td>Some of yâ??all are some fckn weirdos... QUIT ...</td>\n",
       "      <td>lexaabadie</td>\n",
       "      <td>1.0</td>\n",
       "      <td>2</td>\n",
       "      <td>2020-07-15 00:02</td>\n",
       "      <td>4</td>\n",
       "      <td>Some of yâ??all are some fckn weirdos... QUIT ...</td>\n",
       "      <td>some of y   all are some fckn weirdos    quit ...</td>\n",
       "      <td>4</td>\n",
       "      <td>0</td>\n",
       "    </tr>\n",
       "    <tr>\n",
       "      <th>4</th>\n",
       "      <td>Â©ï¸�denise dalphondÂ©ï¸�</td>\n",
       "      <td>anarchy is not violent. it is the absence of s...</td>\n",
       "      <td>1</td>\n",
       "      <td>Ypsilanti, MI</td>\n",
       "      <td>depressed_user_14</td>\n",
       "      <td>0.0</td>\n",
       "      <td>15-07-2020 00:10</td>\n",
       "      <td>@YoungMoneySite @LilTunechi Iâ€™m ill, not sick.</td>\n",
       "      <td>Dalphond</td>\n",
       "      <td>1.0</td>\n",
       "      <td>1</td>\n",
       "      <td>2020-07-15 00:10</td>\n",
       "      <td>4</td>\n",
       "      <td>@YoungMoneySite @LilTunechi Iâ€™m ill, not sick.</td>\n",
       "      <td>i   m ill  not sick</td>\n",
       "      <td>4</td>\n",
       "      <td>2</td>\n",
       "    </tr>\n",
       "  </tbody>\n",
       "</table>\n",
       "</div>"
      ],
      "text/plain": [
       "                 accountname  \\\n",
       "0             Zanna Shirmana   \n",
       "1                     daisy.   \n",
       "2                Kaia â˜€ï¸�   \n",
       "3           ð�??ð�??ð�?¡ ê?¥   \n",
       "4  Â©ï¸�denise dalphondÂ©ï¸�   \n",
       "\n",
       "                                         description favorite_count  \\\n",
       "0  Oh! Hi! I'm a HIP (hearing-impaired person) wh...              1   \n",
       "1  ð�˜�ð�˜„: ð�—²ð�—± ð�˜�ð�˜„ð�˜� ð�—¿ð�—®ð�—»ð�...              1   \n",
       "2                                 Black Lives Matter              1   \n",
       "3  ð�??ð�?? ð�?? ð�??ð�??ð�??ð�?? ð�??ð�??ð�??ð�?...             18   \n",
       "4  anarchy is not violent. it is the absence of s...              1   \n",
       "\n",
       "                     location     masked_user_id retweet_count  \\\n",
       "0               United States  depressed_user_99           0.0   \n",
       "1  23 ã€¡ she/her ã€¡ eng/spa  depressed_user_24           0.0   \n",
       "2  I travel too much for this  depressed_user_39           0.0   \n",
       "3                              depressed_user_45           0.0   \n",
       "4               Ypsilanti, MI  depressed_user_14           0.0   \n",
       "\n",
       "          timestamp                                             tweets  \\\n",
       "0    7/15/2020 0:00  @kathryninman9 Yes. Who knew?\\r\\r\\r\\n\\r\\r\\r\\nh...   \n",
       "1    7/15/2020 0:00  @limbsfall exactly. and it's so frustrating be...   \n",
       "2    7/15/2020 0:01  When men try to explain why you shouldnâ€™t ha...   \n",
       "3    7/15/2020 0:02  Some of yâ??all are some fckn weirdos... QUIT ...   \n",
       "4  15-07-2020 00:10   @YoungMoneySite @LilTunechi Iâ€™m ill, not sick.   \n",
       "\n",
       "     twittername  user_type  format          new_date  time_window  \\\n",
       "0  ZannaShirmana        1.0       2  2020-07-15 00:00            4   \n",
       "1      fluxkcals        1.0       2  2020-07-15 00:00            4   \n",
       "2   KaiaVictoria        1.0       2  2020-07-15 00:01            4   \n",
       "3     lexaabadie        1.0       2  2020-07-15 00:02            4   \n",
       "4       Dalphond        1.0       1  2020-07-15 00:10            4   \n",
       "\n",
       "                                    tweets_url_token  \\\n",
       "0  @kathryninman9 Yes. Who knew?\\r\\r\\r\\n\\r\\r\\r\\n[...   \n",
       "1  @limbsfall exactly. and it's so frustrating be...   \n",
       "2  When men try to explain why you shouldnâ€™t ha...   \n",
       "3  Some of yâ??all are some fckn weirdos... QUIT ...   \n",
       "4   @YoungMoneySite @LilTunechi Iâ€™m ill, not sick.   \n",
       "\n",
       "                                           cleanData  encode_flag  \\\n",
       "0                               yes  who knew  [url]            4   \n",
       "1  exactly  and it s so frustrating because even ...            4   \n",
       "2  when men try to explain why you shouldn   t ha...            4   \n",
       "3  some of y   all are some fckn weirdos    quit ...            4   \n",
       "4                               i   m ill  not sick             4   \n",
       "\n",
       "   cluster_label  \n",
       "0              2  \n",
       "1              1  \n",
       "2              0  \n",
       "3              0  \n",
       "4              2  "
      ]
     },
     "execution_count": 212,
     "metadata": {},
     "output_type": "execute_result"
    }
   ],
   "source": [
    "depressed_dataset_with_labels_4.head()"
   ]
  },
  {
   "cell_type": "code",
   "execution_count": 213,
   "metadata": {},
   "outputs": [
    {
     "data": {
      "text/plain": [
       "Index(['accountname', 'description', 'favorite_count', 'location',\n",
       "       'masked_user_id', 'retweet_count', 'timestamp', 'tweets', 'twittername',\n",
       "       'user_type', 'format', 'new_date', 'time_window', 'tweets_url_token',\n",
       "       'cleanData', 'encode_flag', 'cluster_label'],\n",
       "      dtype='object')"
      ]
     },
     "execution_count": 213,
     "metadata": {},
     "output_type": "execute_result"
    }
   ],
   "source": [
    "depressed_dataset_with_labels_4.columns"
   ]
  },
  {
   "cell_type": "code",
   "execution_count": 214,
   "metadata": {},
   "outputs": [],
   "source": [
    "writeColumns = ['masked_user_id','new_date', 'time_window','cleanData','cluster_label']"
   ]
  },
  {
   "cell_type": "code",
   "execution_count": 215,
   "metadata": {},
   "outputs": [],
   "source": [
    "output_filename = \"depTweets_window_4_kmeans_withLabel.csv\""
   ]
  },
  {
   "cell_type": "code",
   "execution_count": 216,
   "metadata": {},
   "outputs": [],
   "source": [
    "depressed_dataset_with_labels_4.to_csv(os.path.join(r\"D:\\Workspace\\OVGU\\SM_Depression\\src\\time_window\\kmeans_cluster\", output_filename),encoding=\"utf-8\",columns = writeColumns,index=False, date_format='%Y-%m-%d %H:%M')"
   ]
  },
  {
   "cell_type": "code",
   "execution_count": 217,
   "metadata": {},
   "outputs": [
    {
     "data": {
      "text/plain": [
       "2    2812\n",
       "0     855\n",
       "4     623\n",
       "3     448\n",
       "1     130\n",
       "Name: cluster_label, dtype: int64"
      ]
     },
     "execution_count": 217,
     "metadata": {},
     "output_type": "execute_result"
    }
   ],
   "source": [
    "depressed_dataset_with_labels_4.cluster_label.value_counts()"
   ]
  },
  {
   "cell_type": "code",
   "execution_count": 218,
   "metadata": {},
   "outputs": [],
   "source": [
    "del depressed_data_embed_flag,depressed_data_embedfile,depressed_dataset_with_labels_4,depressed_embeddings"
   ]
  },
  {
   "cell_type": "code",
   "execution_count": null,
   "metadata": {},
   "outputs": [],
   "source": []
  },
  {
   "cell_type": "markdown",
   "metadata": {},
   "source": [
    "**To check if all tweets are embedded and their corresponding embeddings are available - Time Window 5**"
   ]
  },
  {
   "cell_type": "code",
   "execution_count": 219,
   "metadata": {},
   "outputs": [],
   "source": [
    "\n",
    "\n",
    "depressed_data_embedfile = open(\"D:\\Workspace\\OVGU\\SM_Depression\\scripts\\embeddings_sentences\\depressed_dataset_5_embedding.pkl\",\"rb\")\n",
    "\n",
    "depressed_data_embedfile = pickle.load(depressed_data_embedfile)\n",
    "\n",
    "embed_value = 5"
   ]
  },
  {
   "cell_type": "code",
   "execution_count": 220,
   "metadata": {},
   "outputs": [
    {
     "data": {
      "text/plain": [
       "5060"
      ]
     },
     "execution_count": 220,
     "metadata": {},
     "output_type": "execute_result"
    }
   ],
   "source": [
    "len(depressed_data_embedfile.keys())"
   ]
  },
  {
   "cell_type": "code",
   "execution_count": 221,
   "metadata": {},
   "outputs": [],
   "source": [
    "depressed_data_embedfile = OrderedDict(depressed_data_embedfile)"
   ]
  },
  {
   "cell_type": "code",
   "execution_count": 222,
   "metadata": {},
   "outputs": [],
   "source": [
    "depressed_data_embed_flag = {key:int(embed_value) for key, value in depressed_data_embedfile.items()}"
   ]
  },
  {
   "cell_type": "code",
   "execution_count": 223,
   "metadata": {},
   "outputs": [
    {
     "data": {
      "text/plain": [
       "5060"
      ]
     },
     "execution_count": 223,
     "metadata": {},
     "output_type": "execute_result"
    }
   ],
   "source": [
    "len(depressed_data_embed_flag.keys())"
   ]
  },
  {
   "cell_type": "code",
   "execution_count": 224,
   "metadata": {},
   "outputs": [
    {
     "data": {
      "text/plain": [
       "5463"
      ]
     },
     "execution_count": 224,
     "metadata": {},
     "output_type": "execute_result"
    }
   ],
   "source": [
    "len(depressed_dataset_5)"
   ]
  },
  {
   "cell_type": "code",
   "execution_count": 225,
   "metadata": {},
   "outputs": [
    {
     "name": "stderr",
     "output_type": "stream",
     "text": [
      "D:\\Softwares\\Anaconda\\lib\\site-packages\\ipykernel_launcher.py:1: SettingWithCopyWarning: \n",
      "A value is trying to be set on a copy of a slice from a DataFrame.\n",
      "Try using .loc[row_indexer,col_indexer] = value instead\n",
      "\n",
      "See the caveats in the documentation: https://pandas.pydata.org/pandas-docs/stable/user_guide/indexing.html#returning-a-view-versus-a-copy\n",
      "  \"\"\"Entry point for launching an IPython kernel.\n"
     ]
    }
   ],
   "source": [
    "depressed_dataset_5[\"encode_flag\"] = depressed_dataset_5[\"cleanData\"].apply(lambda x: depressed_data_embed_flag.get(x))\n"
   ]
  },
  {
   "cell_type": "code",
   "execution_count": 226,
   "metadata": {},
   "outputs": [
    {
     "data": {
      "text/plain": [
       "5    5463\n",
       "Name: encode_flag, dtype: int64"
      ]
     },
     "execution_count": 226,
     "metadata": {},
     "output_type": "execute_result"
    }
   ],
   "source": [
    "depressed_dataset_5.encode_flag.value_counts()"
   ]
  },
  {
   "cell_type": "code",
   "execution_count": 227,
   "metadata": {},
   "outputs": [
    {
     "data": {
      "text/plain": [
       "5060"
      ]
     },
     "execution_count": 227,
     "metadata": {},
     "output_type": "execute_result"
    }
   ],
   "source": [
    "depressed_dataset_5.cleanData.nunique()"
   ]
  },
  {
   "cell_type": "markdown",
   "metadata": {},
   "source": [
    "**Clustering on Time window 5 dataset**"
   ]
  },
  {
   "cell_type": "markdown",
   "metadata": {},
   "source": [
    "**Approach 1 - kMeans**"
   ]
  },
  {
   "cell_type": "code",
   "execution_count": 228,
   "metadata": {},
   "outputs": [],
   "source": [
    "from sklearn.cluster import KMeans\n",
    "from yellowbrick.cluster import KElbowVisualizer"
   ]
  },
  {
   "cell_type": "code",
   "execution_count": 229,
   "metadata": {
    "scrolled": true
   },
   "outputs": [
    {
     "data": {
      "text/plain": [
       "5060"
      ]
     },
     "execution_count": 229,
     "metadata": {},
     "output_type": "execute_result"
    }
   ],
   "source": [
    "len(list(depressed_data_embedfile.values()))"
   ]
  },
  {
   "cell_type": "code",
   "execution_count": 230,
   "metadata": {},
   "outputs": [],
   "source": [
    "depressed_embeddings = np.array(list(depressed_data_embedfile.values()))"
   ]
  },
  {
   "cell_type": "code",
   "execution_count": 231,
   "metadata": {},
   "outputs": [
    {
     "name": "stderr",
     "output_type": "stream",
     "text": [
      "D:\\Softwares\\Anaconda\\lib\\site-packages\\sklearn\\cluster\\_kmeans.py:939: FutureWarning: 'n_jobs' was deprecated in version 0.23 and will be removed in 0.25.\n",
      "  \" removed in 0.25.\", FutureWarning)\n",
      "D:\\Softwares\\Anaconda\\lib\\site-packages\\sklearn\\cluster\\_kmeans.py:939: FutureWarning: 'n_jobs' was deprecated in version 0.23 and will be removed in 0.25.\n",
      "  \" removed in 0.25.\", FutureWarning)\n",
      "D:\\Softwares\\Anaconda\\lib\\site-packages\\sklearn\\cluster\\_kmeans.py:939: FutureWarning: 'n_jobs' was deprecated in version 0.23 and will be removed in 0.25.\n",
      "  \" removed in 0.25.\", FutureWarning)\n",
      "D:\\Softwares\\Anaconda\\lib\\site-packages\\sklearn\\cluster\\_kmeans.py:939: FutureWarning: 'n_jobs' was deprecated in version 0.23 and will be removed in 0.25.\n",
      "  \" removed in 0.25.\", FutureWarning)\n",
      "D:\\Softwares\\Anaconda\\lib\\site-packages\\sklearn\\cluster\\_kmeans.py:939: FutureWarning: 'n_jobs' was deprecated in version 0.23 and will be removed in 0.25.\n",
      "  \" removed in 0.25.\", FutureWarning)\n",
      "D:\\Softwares\\Anaconda\\lib\\site-packages\\sklearn\\cluster\\_kmeans.py:939: FutureWarning: 'n_jobs' was deprecated in version 0.23 and will be removed in 0.25.\n",
      "  \" removed in 0.25.\", FutureWarning)\n",
      "D:\\Softwares\\Anaconda\\lib\\site-packages\\sklearn\\cluster\\_kmeans.py:939: FutureWarning: 'n_jobs' was deprecated in version 0.23 and will be removed in 0.25.\n",
      "  \" removed in 0.25.\", FutureWarning)\n",
      "D:\\Softwares\\Anaconda\\lib\\site-packages\\sklearn\\cluster\\_kmeans.py:939: FutureWarning: 'n_jobs' was deprecated in version 0.23 and will be removed in 0.25.\n",
      "  \" removed in 0.25.\", FutureWarning)\n",
      "D:\\Softwares\\Anaconda\\lib\\site-packages\\sklearn\\cluster\\_kmeans.py:939: FutureWarning: 'n_jobs' was deprecated in version 0.23 and will be removed in 0.25.\n",
      "  \" removed in 0.25.\", FutureWarning)\n"
     ]
    },
    {
     "data": {
      "image/png": "[encoded data removed]",
      "text/plain": [
       "<Figure size 576x396 with 2 Axes>"
      ]
     },
     "metadata": {},
     "output_type": "display_data"
    },
    {
     "data": {
      "text/plain": [
       "<matplotlib.axes._subplots.AxesSubplot at 0x15eb3fb14c8>"
      ]
     },
     "execution_count": 231,
     "metadata": {},
     "output_type": "execute_result"
    }
   ],
   "source": [
    "model = KMeans(init='k-means++', n_jobs=4)\n",
    "visualizer = KElbowVisualizer(model, k=(2,11))\n",
    "\n",
    "visualizer.fit(depressed_embeddings)    \n",
    "visualizer.show()  "
   ]
  },
  {
   "cell_type": "code",
   "execution_count": 232,
   "metadata": {},
   "outputs": [
    {
     "name": "stderr",
     "output_type": "stream",
     "text": [
      "D:\\Softwares\\Anaconda\\lib\\site-packages\\sklearn\\cluster\\_kmeans.py:939: FutureWarning: 'n_jobs' was deprecated in version 0.23 and will be removed in 0.25.\n",
      "  \" removed in 0.25.\", FutureWarning)\n"
     ]
    }
   ],
   "source": [
    "kmeans = KMeans(n_clusters=5,init='k-means++', n_jobs=4)\n",
    "kmeans = kmeans.fit(depressed_embeddings)"
   ]
  },
  {
   "cell_type": "code",
   "execution_count": 233,
   "metadata": {},
   "outputs": [
    {
     "data": {
      "text/plain": [
       "5060"
      ]
     },
     "execution_count": 233,
     "metadata": {},
     "output_type": "execute_result"
    }
   ],
   "source": [
    "kmeans_labels = kmeans.labels_\n",
    "\n",
    "len(kmeans_labels)"
   ]
  },
  {
   "cell_type": "code",
   "execution_count": 234,
   "metadata": {},
   "outputs": [],
   "source": [
    "tweet_label_df = pd.DataFrame()\n",
    "tweet_label_df['cleanData'] = depressed_data_embedfile.keys()\n",
    "tweet_label_df['cluster_label'] = kmeans_labels"
   ]
  },
  {
   "cell_type": "code",
   "execution_count": 235,
   "metadata": {},
   "outputs": [
    {
     "data": {
      "text/html": [
       "<div>\n",
       "<style scoped>\n",
       "    .dataframe tbody tr th:only-of-type {\n",
       "        vertical-align: middle;\n",
       "    }\n",
       "\n",
       "    .dataframe tbody tr th {\n",
       "        vertical-align: top;\n",
       "    }\n",
       "\n",
       "    .dataframe thead th {\n",
       "        text-align: right;\n",
       "    }\n",
       "</style>\n",
       "<table border=\"1\" class=\"dataframe\">\n",
       "  <thead>\n",
       "    <tr style=\"text-align: right;\">\n",
       "      <th></th>\n",
       "      <th>cleanData</th>\n",
       "      <th>cluster_label</th>\n",
       "    </tr>\n",
       "  </thead>\n",
       "  <tbody>\n",
       "    <tr>\n",
       "      <th>0</th>\n",
       "      <td>what are you getting  i only have 1 and can   ...</td>\n",
       "      <td>0</td>\n",
       "    </tr>\n",
       "    <tr>\n",
       "      <th>1</th>\n",
       "      <td>guys i just wanna know what you all follow my ...</td>\n",
       "      <td>1</td>\n",
       "    </tr>\n",
       "    <tr>\n",
       "      <th>2</th>\n",
       "      <td>oh wow that   s recent  hope you continue to h...</td>\n",
       "      <td>1</td>\n",
       "    </tr>\n",
       "    <tr>\n",
       "      <th>3</th>\n",
       "      <td>what would y   all do  [url]</td>\n",
       "      <td>1</td>\n",
       "    </tr>\n",
       "    <tr>\n",
       "      <th>4</th>\n",
       "      <td>aren t we all</td>\n",
       "      <td>1</td>\n",
       "    </tr>\n",
       "  </tbody>\n",
       "</table>\n",
       "</div>"
      ],
      "text/plain": [
       "                                           cleanData  cluster_label\n",
       "0  what are you getting  i only have 1 and can   ...              0\n",
       "1  guys i just wanna know what you all follow my ...              1\n",
       "2  oh wow that   s recent  hope you continue to h...              1\n",
       "3                       what would y   all do  [url]              1\n",
       "4                                     aren t we all               1"
      ]
     },
     "execution_count": 235,
     "metadata": {},
     "output_type": "execute_result"
    }
   ],
   "source": [
    "tweet_label_df.head()"
   ]
  },
  {
   "cell_type": "code",
   "execution_count": 236,
   "metadata": {},
   "outputs": [
    {
     "data": {
      "text/plain": [
       "1    2973\n",
       "0     960\n",
       "2     583\n",
       "4     443\n",
       "3     101\n",
       "Name: cluster_label, dtype: int64"
      ]
     },
     "execution_count": 236,
     "metadata": {},
     "output_type": "execute_result"
    }
   ],
   "source": [
    "tweet_label_df.cluster_label.value_counts()"
   ]
  },
  {
   "cell_type": "code",
   "execution_count": 237,
   "metadata": {},
   "outputs": [],
   "source": [
    "depressed_dataset_with_labels_5 = pd.merge(depressed_dataset_5, tweet_label_df, on='cleanData')"
   ]
  },
  {
   "cell_type": "code",
   "execution_count": 238,
   "metadata": {},
   "outputs": [
    {
     "data": {
      "text/html": [
       "<div>\n",
       "<style scoped>\n",
       "    .dataframe tbody tr th:only-of-type {\n",
       "        vertical-align: middle;\n",
       "    }\n",
       "\n",
       "    .dataframe tbody tr th {\n",
       "        vertical-align: top;\n",
       "    }\n",
       "\n",
       "    .dataframe thead th {\n",
       "        text-align: right;\n",
       "    }\n",
       "</style>\n",
       "<table border=\"1\" class=\"dataframe\">\n",
       "  <thead>\n",
       "    <tr style=\"text-align: right;\">\n",
       "      <th></th>\n",
       "      <th>accountname</th>\n",
       "      <th>description</th>\n",
       "      <th>favorite_count</th>\n",
       "      <th>location</th>\n",
       "      <th>masked_user_id</th>\n",
       "      <th>retweet_count</th>\n",
       "      <th>timestamp</th>\n",
       "      <th>tweets</th>\n",
       "      <th>twittername</th>\n",
       "      <th>user_type</th>\n",
       "      <th>format</th>\n",
       "      <th>new_date</th>\n",
       "      <th>time_window</th>\n",
       "      <th>tweets_url_token</th>\n",
       "      <th>cleanData</th>\n",
       "      <th>encode_flag</th>\n",
       "      <th>cluster_label</th>\n",
       "    </tr>\n",
       "  </thead>\n",
       "  <tbody>\n",
       "    <tr>\n",
       "      <th>0</th>\n",
       "      <td>Maybe the Mayans were right... 2021 wya?</td>\n",
       "      <td>30. 1st Gen ðŸŽ“ Grad. Survivor, surviving, wi...</td>\n",
       "      <td>0</td>\n",
       "      <td>Dallas Metro - Tejas</td>\n",
       "      <td>depressed_user_9</td>\n",
       "      <td>0.0</td>\n",
       "      <td>7/22/2020 0:06</td>\n",
       "      <td>@MelloRello3 What are you getting? I only have...</td>\n",
       "      <td>cajuntexan214</td>\n",
       "      <td>1.0</td>\n",
       "      <td>2</td>\n",
       "      <td>2020-07-22 00:06</td>\n",
       "      <td>5</td>\n",
       "      <td>@MelloRello3 What are you getting? I only have...</td>\n",
       "      <td>what are you getting  i only have 1 and can   ...</td>\n",
       "      <td>5</td>\n",
       "      <td>0</td>\n",
       "    </tr>\n",
       "    <tr>\n",
       "      <th>1</th>\n",
       "      <td>??pap?lrux??</td>\n",
       "      <td>18 yrs || Female || ????  || Huge Furry ll Mas...</td>\n",
       "      <td>2</td>\n",
       "      <td></td>\n",
       "      <td>depressed_user_28</td>\n",
       "      <td>0.0</td>\n",
       "      <td>7/22/2020 0:12</td>\n",
       "      <td>Guys I just wanna know what you all follow my ...</td>\n",
       "      <td>heavymetalpapi</td>\n",
       "      <td>1.0</td>\n",
       "      <td>2</td>\n",
       "      <td>2020-07-22 00:12</td>\n",
       "      <td>5</td>\n",
       "      <td>Guys I just wanna know what you all follow my ...</td>\n",
       "      <td>guys i just wanna know what you all follow my ...</td>\n",
       "      <td>5</td>\n",
       "      <td>1</td>\n",
       "    </tr>\n",
       "    <tr>\n",
       "      <th>2</th>\n",
       "      <td>Maybe the Mayans were right... 2021 wya?</td>\n",
       "      <td>30. 1st Gen ðŸŽ“ Grad. Survivor, surviving, wi...</td>\n",
       "      <td>1</td>\n",
       "      <td>Dallas Metro - Tejas</td>\n",
       "      <td>depressed_user_9</td>\n",
       "      <td>0.0</td>\n",
       "      <td>7/22/2020 0:16</td>\n",
       "      <td>@SamarB14 @AbrahamAlexnder @keonmonte Oh wow t...</td>\n",
       "      <td>cajuntexan214</td>\n",
       "      <td>1.0</td>\n",
       "      <td>2</td>\n",
       "      <td>2020-07-22 00:16</td>\n",
       "      <td>5</td>\n",
       "      <td>@SamarB14 @AbrahamAlexnder @keonmonte Oh wow t...</td>\n",
       "      <td>oh wow that   s recent  hope you continue to h...</td>\n",
       "      <td>5</td>\n",
       "      <td>1</td>\n",
       "    </tr>\n",
       "    <tr>\n",
       "      <th>3</th>\n",
       "      <td>Maybe the Mayans were right... 2021 wya?</td>\n",
       "      <td>30. 1st Gen ðŸŽ“ Grad. Survivor, surviving, wi...</td>\n",
       "      <td>0</td>\n",
       "      <td>Dallas Metro - Tejas</td>\n",
       "      <td>depressed_user_9</td>\n",
       "      <td>0.0</td>\n",
       "      <td>7/22/2020 0:17</td>\n",
       "      <td>What would yâ€™all do? https://t.co/4PNtSa3oun</td>\n",
       "      <td>cajuntexan214</td>\n",
       "      <td>1.0</td>\n",
       "      <td>2</td>\n",
       "      <td>2020-07-22 00:17</td>\n",
       "      <td>5</td>\n",
       "      <td>What would yâ€™all do? [URL]</td>\n",
       "      <td>what would y   all do  [url]</td>\n",
       "      <td>5</td>\n",
       "      <td>1</td>\n",
       "    </tr>\n",
       "    <tr>\n",
       "      <th>4</th>\n",
       "      <td>Goblin HB is eating pie.</td>\n",
       "      <td>Connor | 19 | Indigenous Latine | Queer Transm...</td>\n",
       "      <td>0</td>\n",
       "      <td>Any Pronouns ??Fem Pronouns??</td>\n",
       "      <td>depressed_user_27</td>\n",
       "      <td>0</td>\n",
       "      <td>7/22/2020 0:19</td>\n",
       "      <td>@MikkytheHamster Aren't we all?</td>\n",
       "      <td>goblin_screech</td>\n",
       "      <td>1.0</td>\n",
       "      <td>2</td>\n",
       "      <td>2020-07-22 00:19</td>\n",
       "      <td>5</td>\n",
       "      <td>@MikkytheHamster Aren't we all?</td>\n",
       "      <td>aren t we all</td>\n",
       "      <td>5</td>\n",
       "      <td>1</td>\n",
       "    </tr>\n",
       "  </tbody>\n",
       "</table>\n",
       "</div>"
      ],
      "text/plain": [
       "                                accountname  \\\n",
       "0  Maybe the Mayans were right... 2021 wya?   \n",
       "1                              ??pap?lrux??   \n",
       "2  Maybe the Mayans were right... 2021 wya?   \n",
       "3  Maybe the Mayans were right... 2021 wya?   \n",
       "4                  Goblin HB is eating pie.   \n",
       "\n",
       "                                         description favorite_count  \\\n",
       "0  30. 1st Gen ðŸŽ“ Grad. Survivor, surviving, wi...              0   \n",
       "1  18 yrs || Female || ????  || Huge Furry ll Mas...              2   \n",
       "2  30. 1st Gen ðŸŽ“ Grad. Survivor, surviving, wi...              1   \n",
       "3  30. 1st Gen ðŸŽ“ Grad. Survivor, surviving, wi...              0   \n",
       "4  Connor | 19 | Indigenous Latine | Queer Transm...              0   \n",
       "\n",
       "                        location     masked_user_id retweet_count  \\\n",
       "0           Dallas Metro - Tejas   depressed_user_9           0.0   \n",
       "1                                 depressed_user_28           0.0   \n",
       "2           Dallas Metro - Tejas   depressed_user_9           0.0   \n",
       "3           Dallas Metro - Tejas   depressed_user_9           0.0   \n",
       "4  Any Pronouns ??Fem Pronouns??  depressed_user_27             0   \n",
       "\n",
       "        timestamp                                             tweets  \\\n",
       "0  7/22/2020 0:06  @MelloRello3 What are you getting? I only have...   \n",
       "1  7/22/2020 0:12  Guys I just wanna know what you all follow my ...   \n",
       "2  7/22/2020 0:16  @SamarB14 @AbrahamAlexnder @keonmonte Oh wow t...   \n",
       "3  7/22/2020 0:17     What would yâ€™all do? https://t.co/4PNtSa3oun   \n",
       "4  7/22/2020 0:19                    @MikkytheHamster Aren't we all?   \n",
       "\n",
       "      twittername  user_type  format          new_date  time_window  \\\n",
       "0   cajuntexan214        1.0       2  2020-07-22 00:06            5   \n",
       "1  heavymetalpapi        1.0       2  2020-07-22 00:12            5   \n",
       "2   cajuntexan214        1.0       2  2020-07-22 00:16            5   \n",
       "3   cajuntexan214        1.0       2  2020-07-22 00:17            5   \n",
       "4  goblin_screech        1.0       2  2020-07-22 00:19            5   \n",
       "\n",
       "                                    tweets_url_token  \\\n",
       "0  @MelloRello3 What are you getting? I only have...   \n",
       "1  Guys I just wanna know what you all follow my ...   \n",
       "2  @SamarB14 @AbrahamAlexnder @keonmonte Oh wow t...   \n",
       "3                       What would yâ€™all do? [URL]   \n",
       "4                    @MikkytheHamster Aren't we all?   \n",
       "\n",
       "                                           cleanData  encode_flag  \\\n",
       "0  what are you getting  i only have 1 and can   ...            5   \n",
       "1  guys i just wanna know what you all follow my ...            5   \n",
       "2  oh wow that   s recent  hope you continue to h...            5   \n",
       "3                       what would y   all do  [url]            5   \n",
       "4                                     aren t we all             5   \n",
       "\n",
       "   cluster_label  \n",
       "0              0  \n",
       "1              1  \n",
       "2              1  \n",
       "3              1  \n",
       "4              1  "
      ]
     },
     "execution_count": 238,
     "metadata": {},
     "output_type": "execute_result"
    }
   ],
   "source": [
    "depressed_dataset_with_labels_5.head()"
   ]
  },
  {
   "cell_type": "code",
   "execution_count": 239,
   "metadata": {},
   "outputs": [
    {
     "data": {
      "text/plain": [
       "Index(['accountname', 'description', 'favorite_count', 'location',\n",
       "       'masked_user_id', 'retweet_count', 'timestamp', 'tweets', 'twittername',\n",
       "       'user_type', 'format', 'new_date', 'time_window', 'tweets_url_token',\n",
       "       'cleanData', 'encode_flag', 'cluster_label'],\n",
       "      dtype='object')"
      ]
     },
     "execution_count": 239,
     "metadata": {},
     "output_type": "execute_result"
    }
   ],
   "source": [
    "depressed_dataset_with_labels_5.columns"
   ]
  },
  {
   "cell_type": "code",
   "execution_count": 240,
   "metadata": {},
   "outputs": [],
   "source": [
    "writeColumns = ['masked_user_id','new_date', 'time_window','cleanData','cluster_label']"
   ]
  },
  {
   "cell_type": "code",
   "execution_count": 241,
   "metadata": {},
   "outputs": [],
   "source": [
    "output_filename = \"depTweets_window_5_kmeans_withLabel.csv\""
   ]
  },
  {
   "cell_type": "code",
   "execution_count": 242,
   "metadata": {},
   "outputs": [],
   "source": [
    "depressed_dataset_with_labels_5.to_csv(os.path.join(r\"D:\\Workspace\\OVGU\\SM_Depression\\src\\time_window\\kmeans_cluster\", output_filename),encoding=\"utf-8\",columns = writeColumns,index=False, date_format='%Y-%m-%d %H:%M')"
   ]
  },
  {
   "cell_type": "code",
   "execution_count": 243,
   "metadata": {},
   "outputs": [
    {
     "data": {
      "text/plain": [
       "1    3344\n",
       "0     963\n",
       "2     612\n",
       "4     443\n",
       "3     101\n",
       "Name: cluster_label, dtype: int64"
      ]
     },
     "execution_count": 243,
     "metadata": {},
     "output_type": "execute_result"
    }
   ],
   "source": [
    "depressed_dataset_with_labels_5.cluster_label.value_counts()"
   ]
  },
  {
   "cell_type": "code",
   "execution_count": 244,
   "metadata": {},
   "outputs": [],
   "source": [
    "del depressed_data_embed_flag,depressed_data_embedfile,depressed_dataset_with_labels_5,depressed_embeddings"
   ]
  },
  {
   "cell_type": "code",
   "execution_count": null,
   "metadata": {},
   "outputs": [],
   "source": []
  },
  {
   "cell_type": "markdown",
   "metadata": {},
   "source": [
    "**To check if all tweets are embedded and their corresponding embeddings are available - Time Window 6**"
   ]
  },
  {
   "cell_type": "code",
   "execution_count": 245,
   "metadata": {},
   "outputs": [],
   "source": [
    "\n",
    "\n",
    "depressed_data_embedfile = open(\"D:\\Workspace\\OVGU\\SM_Depression\\scripts\\embeddings_sentences\\depressed_dataset_6_embedding.pkl\",\"rb\")\n",
    "\n",
    "depressed_data_embedfile = pickle.load(depressed_data_embedfile)\n",
    "\n",
    "embed_value = 6"
   ]
  },
  {
   "cell_type": "code",
   "execution_count": 246,
   "metadata": {},
   "outputs": [
    {
     "data": {
      "text/plain": [
       "6382"
      ]
     },
     "execution_count": 246,
     "metadata": {},
     "output_type": "execute_result"
    }
   ],
   "source": [
    "len(depressed_data_embedfile.keys())"
   ]
  },
  {
   "cell_type": "code",
   "execution_count": 247,
   "metadata": {},
   "outputs": [],
   "source": [
    "depressed_data_embedfile = OrderedDict(depressed_data_embedfile)"
   ]
  },
  {
   "cell_type": "code",
   "execution_count": 248,
   "metadata": {},
   "outputs": [],
   "source": [
    "depressed_data_embed_flag = {key:int(embed_value) for key, value in depressed_data_embedfile.items()}"
   ]
  },
  {
   "cell_type": "code",
   "execution_count": 249,
   "metadata": {},
   "outputs": [
    {
     "data": {
      "text/plain": [
       "6382"
      ]
     },
     "execution_count": 249,
     "metadata": {},
     "output_type": "execute_result"
    }
   ],
   "source": [
    "len(depressed_data_embed_flag.keys())"
   ]
  },
  {
   "cell_type": "code",
   "execution_count": 250,
   "metadata": {},
   "outputs": [
    {
     "data": {
      "text/plain": [
       "6878"
      ]
     },
     "execution_count": 250,
     "metadata": {},
     "output_type": "execute_result"
    }
   ],
   "source": [
    "len(depressed_dataset_6)"
   ]
  },
  {
   "cell_type": "code",
   "execution_count": 251,
   "metadata": {},
   "outputs": [
    {
     "name": "stderr",
     "output_type": "stream",
     "text": [
      "D:\\Softwares\\Anaconda\\lib\\site-packages\\ipykernel_launcher.py:1: SettingWithCopyWarning: \n",
      "A value is trying to be set on a copy of a slice from a DataFrame.\n",
      "Try using .loc[row_indexer,col_indexer] = value instead\n",
      "\n",
      "See the caveats in the documentation: https://pandas.pydata.org/pandas-docs/stable/user_guide/indexing.html#returning-a-view-versus-a-copy\n",
      "  \"\"\"Entry point for launching an IPython kernel.\n"
     ]
    }
   ],
   "source": [
    "depressed_dataset_6[\"encode_flag\"] = depressed_dataset_6[\"cleanData\"].apply(lambda x: depressed_data_embed_flag.get(x))\n"
   ]
  },
  {
   "cell_type": "code",
   "execution_count": 252,
   "metadata": {},
   "outputs": [
    {
     "data": {
      "text/plain": [
       "6    6878\n",
       "Name: encode_flag, dtype: int64"
      ]
     },
     "execution_count": 252,
     "metadata": {},
     "output_type": "execute_result"
    }
   ],
   "source": [
    "depressed_dataset_6.encode_flag.value_counts()"
   ]
  },
  {
   "cell_type": "code",
   "execution_count": 253,
   "metadata": {},
   "outputs": [
    {
     "data": {
      "text/plain": [
       "6382"
      ]
     },
     "execution_count": 253,
     "metadata": {},
     "output_type": "execute_result"
    }
   ],
   "source": [
    "depressed_dataset_6.cleanData.nunique()"
   ]
  },
  {
   "cell_type": "markdown",
   "metadata": {},
   "source": [
    "**Clustering on Time window 6 dataset**"
   ]
  },
  {
   "cell_type": "markdown",
   "metadata": {},
   "source": [
    "**Approach 1 - kMeans**"
   ]
  },
  {
   "cell_type": "code",
   "execution_count": 254,
   "metadata": {},
   "outputs": [],
   "source": [
    "from sklearn.cluster import KMeans\n",
    "from yellowbrick.cluster import KElbowVisualizer"
   ]
  },
  {
   "cell_type": "code",
   "execution_count": 255,
   "metadata": {
    "scrolled": true
   },
   "outputs": [
    {
     "data": {
      "text/plain": [
       "6382"
      ]
     },
     "execution_count": 255,
     "metadata": {},
     "output_type": "execute_result"
    }
   ],
   "source": [
    "len(list(depressed_data_embedfile.values()))"
   ]
  },
  {
   "cell_type": "code",
   "execution_count": 256,
   "metadata": {},
   "outputs": [],
   "source": [
    "depressed_embeddings = np.array(list(depressed_data_embedfile.values()))"
   ]
  },
  {
   "cell_type": "code",
   "execution_count": 257,
   "metadata": {},
   "outputs": [
    {
     "name": "stderr",
     "output_type": "stream",
     "text": [
      "D:\\Softwares\\Anaconda\\lib\\site-packages\\sklearn\\cluster\\_kmeans.py:939: FutureWarning: 'n_jobs' was deprecated in version 0.23 and will be removed in 0.25.\n",
      "  \" removed in 0.25.\", FutureWarning)\n",
      "D:\\Softwares\\Anaconda\\lib\\site-packages\\sklearn\\cluster\\_kmeans.py:939: FutureWarning: 'n_jobs' was deprecated in version 0.23 and will be removed in 0.25.\n",
      "  \" removed in 0.25.\", FutureWarning)\n",
      "D:\\Softwares\\Anaconda\\lib\\site-packages\\sklearn\\cluster\\_kmeans.py:939: FutureWarning: 'n_jobs' was deprecated in version 0.23 and will be removed in 0.25.\n",
      "  \" removed in 0.25.\", FutureWarning)\n",
      "D:\\Softwares\\Anaconda\\lib\\site-packages\\sklearn\\cluster\\_kmeans.py:939: FutureWarning: 'n_jobs' was deprecated in version 0.23 and will be removed in 0.25.\n",
      "  \" removed in 0.25.\", FutureWarning)\n",
      "D:\\Softwares\\Anaconda\\lib\\site-packages\\sklearn\\cluster\\_kmeans.py:939: FutureWarning: 'n_jobs' was deprecated in version 0.23 and will be removed in 0.25.\n",
      "  \" removed in 0.25.\", FutureWarning)\n",
      "D:\\Softwares\\Anaconda\\lib\\site-packages\\sklearn\\cluster\\_kmeans.py:939: FutureWarning: 'n_jobs' was deprecated in version 0.23 and will be removed in 0.25.\n",
      "  \" removed in 0.25.\", FutureWarning)\n",
      "D:\\Softwares\\Anaconda\\lib\\site-packages\\sklearn\\cluster\\_kmeans.py:939: FutureWarning: 'n_jobs' was deprecated in version 0.23 and will be removed in 0.25.\n",
      "  \" removed in 0.25.\", FutureWarning)\n",
      "D:\\Softwares\\Anaconda\\lib\\site-packages\\sklearn\\cluster\\_kmeans.py:939: FutureWarning: 'n_jobs' was deprecated in version 0.23 and will be removed in 0.25.\n",
      "  \" removed in 0.25.\", FutureWarning)\n",
      "D:\\Softwares\\Anaconda\\lib\\site-packages\\sklearn\\cluster\\_kmeans.py:939: FutureWarning: 'n_jobs' was deprecated in version 0.23 and will be removed in 0.25.\n",
      "  \" removed in 0.25.\", FutureWarning)\n"
     ]
    },
    {
     "data": {
      "image/png": "[encoded data removed]",
      "text/plain": [
       "<Figure size 576x396 with 2 Axes>"
      ]
     },
     "metadata": {},
     "output_type": "display_data"
    },
    {
     "data": {
      "text/plain": [
       "<matplotlib.axes._subplots.AxesSubplot at 0x15eb42e0188>"
      ]
     },
     "execution_count": 257,
     "metadata": {},
     "output_type": "execute_result"
    }
   ],
   "source": [
    "model = KMeans(init='k-means++', n_jobs=4)\n",
    "visualizer = KElbowVisualizer(model, k=(2,11))\n",
    "\n",
    "visualizer.fit(depressed_embeddings)    \n",
    "visualizer.show()  "
   ]
  },
  {
   "cell_type": "code",
   "execution_count": 258,
   "metadata": {},
   "outputs": [
    {
     "name": "stderr",
     "output_type": "stream",
     "text": [
      "D:\\Softwares\\Anaconda\\lib\\site-packages\\sklearn\\cluster\\_kmeans.py:939: FutureWarning: 'n_jobs' was deprecated in version 0.23 and will be removed in 0.25.\n",
      "  \" removed in 0.25.\", FutureWarning)\n"
     ]
    }
   ],
   "source": [
    "kmeans = KMeans(n_clusters=5,init='k-means++', n_jobs=4)\n",
    "kmeans = kmeans.fit(depressed_embeddings)"
   ]
  },
  {
   "cell_type": "code",
   "execution_count": 259,
   "metadata": {},
   "outputs": [
    {
     "data": {
      "text/plain": [
       "6382"
      ]
     },
     "execution_count": 259,
     "metadata": {},
     "output_type": "execute_result"
    }
   ],
   "source": [
    "kmeans_labels = kmeans.labels_\n",
    "\n",
    "len(kmeans_labels)"
   ]
  },
  {
   "cell_type": "code",
   "execution_count": 260,
   "metadata": {},
   "outputs": [],
   "source": [
    "tweet_label_df = pd.DataFrame()\n",
    "tweet_label_df['cleanData'] = depressed_data_embedfile.keys()\n",
    "tweet_label_df['cluster_label'] = kmeans_labels"
   ]
  },
  {
   "cell_type": "code",
   "execution_count": 261,
   "metadata": {},
   "outputs": [
    {
     "data": {
      "text/html": [
       "<div>\n",
       "<style scoped>\n",
       "    .dataframe tbody tr th:only-of-type {\n",
       "        vertical-align: middle;\n",
       "    }\n",
       "\n",
       "    .dataframe tbody tr th {\n",
       "        vertical-align: top;\n",
       "    }\n",
       "\n",
       "    .dataframe thead th {\n",
       "        text-align: right;\n",
       "    }\n",
       "</style>\n",
       "<table border=\"1\" class=\"dataframe\">\n",
       "  <thead>\n",
       "    <tr style=\"text-align: right;\">\n",
       "      <th></th>\n",
       "      <th>cleanData</th>\n",
       "      <th>cluster_label</th>\n",
       "    </tr>\n",
       "  </thead>\n",
       "  <tbody>\n",
       "    <tr>\n",
       "      <th>0</th>\n",
       "      <td>uh huh  100</td>\n",
       "      <td>0</td>\n",
       "    </tr>\n",
       "    <tr>\n",
       "      <th>1</th>\n",
       "      <td>huh   [url]</td>\n",
       "      <td>0</td>\n",
       "    </tr>\n",
       "    <tr>\n",
       "      <th>2</th>\n",
       "      <td>[url]</td>\n",
       "      <td>0</td>\n",
       "    </tr>\n",
       "    <tr>\n",
       "      <th>3</th>\n",
       "      <td>wtf it s a medication i ve been on for over a ...</td>\n",
       "      <td>4</td>\n",
       "    </tr>\n",
       "    <tr>\n",
       "      <th>4</th>\n",
       "      <td>thank you gorgeous</td>\n",
       "      <td>0</td>\n",
       "    </tr>\n",
       "  </tbody>\n",
       "</table>\n",
       "</div>"
      ],
      "text/plain": [
       "                                           cleanData  cluster_label\n",
       "0                                       uh huh  100               0\n",
       "1                                        huh   [url]              0\n",
       "2                                              [url]              0\n",
       "3  wtf it s a medication i ve been on for over a ...              4\n",
       "4                             thank you gorgeous                  0"
      ]
     },
     "execution_count": 261,
     "metadata": {},
     "output_type": "execute_result"
    }
   ],
   "source": [
    "tweet_label_df.head()"
   ]
  },
  {
   "cell_type": "code",
   "execution_count": 262,
   "metadata": {},
   "outputs": [
    {
     "data": {
      "text/plain": [
       "0    3249\n",
       "1    1311\n",
       "3     841\n",
       "4     745\n",
       "2     236\n",
       "Name: cluster_label, dtype: int64"
      ]
     },
     "execution_count": 262,
     "metadata": {},
     "output_type": "execute_result"
    }
   ],
   "source": [
    "tweet_label_df.cluster_label.value_counts()"
   ]
  },
  {
   "cell_type": "code",
   "execution_count": 263,
   "metadata": {},
   "outputs": [],
   "source": [
    "depressed_dataset_with_labels = pd.merge(depressed_dataset_6, tweet_label_df, on='cleanData')"
   ]
  },
  {
   "cell_type": "code",
   "execution_count": 264,
   "metadata": {},
   "outputs": [
    {
     "data": {
      "text/html": [
       "<div>\n",
       "<style scoped>\n",
       "    .dataframe tbody tr th:only-of-type {\n",
       "        vertical-align: middle;\n",
       "    }\n",
       "\n",
       "    .dataframe tbody tr th {\n",
       "        vertical-align: top;\n",
       "    }\n",
       "\n",
       "    .dataframe thead th {\n",
       "        text-align: right;\n",
       "    }\n",
       "</style>\n",
       "<table border=\"1\" class=\"dataframe\">\n",
       "  <thead>\n",
       "    <tr style=\"text-align: right;\">\n",
       "      <th></th>\n",
       "      <th>accountname</th>\n",
       "      <th>description</th>\n",
       "      <th>favorite_count</th>\n",
       "      <th>location</th>\n",
       "      <th>masked_user_id</th>\n",
       "      <th>retweet_count</th>\n",
       "      <th>timestamp</th>\n",
       "      <th>tweets</th>\n",
       "      <th>twittername</th>\n",
       "      <th>user_type</th>\n",
       "      <th>format</th>\n",
       "      <th>new_date</th>\n",
       "      <th>time_window</th>\n",
       "      <th>tweets_url_token</th>\n",
       "      <th>cleanData</th>\n",
       "      <th>encode_flag</th>\n",
       "      <th>cluster_label</th>\n",
       "    </tr>\n",
       "  </thead>\n",
       "  <tbody>\n",
       "    <tr>\n",
       "      <th>0</th>\n",
       "      <td>Lucie Luce x Luce</td>\n",
       "      <td>She/her! âš§ 29 | pan | polyam | 18+ only | cu...</td>\n",
       "      <td>2</td>\n",
       "      <td>Pennsylvania, USA</td>\n",
       "      <td>depressed_user_47</td>\n",
       "      <td>0.0</td>\n",
       "      <td>7/29/2020 0:01</td>\n",
       "      <td>@CatgirlFingies Uh-huh! 100%</td>\n",
       "      <td>LuceXLuceWest</td>\n",
       "      <td>1.0</td>\n",
       "      <td>2</td>\n",
       "      <td>2020-07-29 00:01</td>\n",
       "      <td>6</td>\n",
       "      <td>@CatgirlFingies Uh-huh! 100%</td>\n",
       "      <td>uh huh  100</td>\n",
       "      <td>6</td>\n",
       "      <td>0</td>\n",
       "    </tr>\n",
       "    <tr>\n",
       "      <th>1</th>\n",
       "      <td>ð�??ð�??ð�?¡ ê?¥</td>\n",
       "      <td>ð�??ð�?? ð�?? ð�??ð�??ð�??ð�?? ð�??ð�??ð�??ð�?...</td>\n",
       "      <td>593</td>\n",
       "      <td></td>\n",
       "      <td>depressed_user_45</td>\n",
       "      <td>17.0</td>\n",
       "      <td>7/29/2020 0:02</td>\n",
       "      <td>Huh?? https://t.co/47YlM3ZXhu</td>\n",
       "      <td>lexaabadie</td>\n",
       "      <td>1.0</td>\n",
       "      <td>2</td>\n",
       "      <td>2020-07-29 00:02</td>\n",
       "      <td>6</td>\n",
       "      <td>Huh?? [URL]</td>\n",
       "      <td>huh   [url]</td>\n",
       "      <td>6</td>\n",
       "      <td>0</td>\n",
       "    </tr>\n",
       "    <tr>\n",
       "      <th>2</th>\n",
       "      <td>Dr. J-Cat...5150ðŸ’€ðŸŒ¹</td>\n",
       "      <td>An open mind. Aspiring for greater knowledge f...</td>\n",
       "      <td>1</td>\n",
       "      <td>your mindðŸ¤”</td>\n",
       "      <td>depressed_user_36</td>\n",
       "      <td>0.0</td>\n",
       "      <td>7/29/2020 0:03</td>\n",
       "      <td>@minasofia5 https://t.co/C8JAUl1vOq</td>\n",
       "      <td>jcat_5150</td>\n",
       "      <td>1.0</td>\n",
       "      <td>2</td>\n",
       "      <td>2020-07-29 00:03</td>\n",
       "      <td>6</td>\n",
       "      <td>@minasofia5 [URL]</td>\n",
       "      <td>[url]</td>\n",
       "      <td>6</td>\n",
       "      <td>0</td>\n",
       "    </tr>\n",
       "    <tr>\n",
       "      <th>3</th>\n",
       "      <td>Dr. J-Cat...5150ðŸ’€ðŸŒ¹</td>\n",
       "      <td>An open mind. Aspiring for greater knowledge f...</td>\n",
       "      <td>2</td>\n",
       "      <td>your mindðŸ¤”</td>\n",
       "      <td>depressed_user_36</td>\n",
       "      <td>0.0</td>\n",
       "      <td>7/29/2020 0:29</td>\n",
       "      <td>@CatBrothers6 https://t.co/3Ow0GgOS4m</td>\n",
       "      <td>jcat_5150</td>\n",
       "      <td>1.0</td>\n",
       "      <td>2</td>\n",
       "      <td>2020-07-29 00:29</td>\n",
       "      <td>6</td>\n",
       "      <td>@CatBrothers6 [URL]</td>\n",
       "      <td>[url]</td>\n",
       "      <td>6</td>\n",
       "      <td>0</td>\n",
       "    </tr>\n",
       "    <tr>\n",
       "      <th>4</th>\n",
       "      <td>foldedð???</td>\n",
       "      <td>Dead by Daylight affiliated streamer â?¡ Most ...</td>\n",
       "      <td>1</td>\n",
       "      <td></td>\n",
       "      <td>depressed_user_95</td>\n",
       "      <td>0.0</td>\n",
       "      <td>7/29/2020 0:31</td>\n",
       "      <td>@TUR_Pathing @tur_complex https://t.co/9AqdpQ33o2</td>\n",
       "      <td>xofolded</td>\n",
       "      <td>1.0</td>\n",
       "      <td>2</td>\n",
       "      <td>2020-07-29 00:31</td>\n",
       "      <td>6</td>\n",
       "      <td>@TUR_Pathing @tur_complex [URL]</td>\n",
       "      <td>[url]</td>\n",
       "      <td>6</td>\n",
       "      <td>0</td>\n",
       "    </tr>\n",
       "  </tbody>\n",
       "</table>\n",
       "</div>"
      ],
      "text/plain": [
       "                accountname  \\\n",
       "0         Lucie Luce x Luce   \n",
       "1          ð�??ð�??ð�?¡ ê?¥   \n",
       "2  Dr. J-Cat...5150ðŸ’€ðŸŒ¹   \n",
       "3  Dr. J-Cat...5150ðŸ’€ðŸŒ¹   \n",
       "4                foldedð???   \n",
       "\n",
       "                                         description favorite_count  \\\n",
       "0  She/her! âš§ 29 | pan | polyam | 18+ only | cu...              2   \n",
       "1  ð�??ð�?? ð�?? ð�??ð�??ð�??ð�?? ð�??ð�??ð�??ð�?...            593   \n",
       "2  An open mind. Aspiring for greater knowledge f...              1   \n",
       "3  An open mind. Aspiring for greater knowledge f...              2   \n",
       "4  Dead by Daylight affiliated streamer â?¡ Most ...              1   \n",
       "\n",
       "            location     masked_user_id retweet_count       timestamp  \\\n",
       "0  Pennsylvania, USA  depressed_user_47           0.0  7/29/2020 0:01   \n",
       "1                     depressed_user_45          17.0  7/29/2020 0:02   \n",
       "2      your mindðŸ¤”  depressed_user_36           0.0  7/29/2020 0:03   \n",
       "3      your mindðŸ¤”  depressed_user_36           0.0  7/29/2020 0:29   \n",
       "4                     depressed_user_95           0.0  7/29/2020 0:31   \n",
       "\n",
       "                                              tweets    twittername  \\\n",
       "0                       @CatgirlFingies Uh-huh! 100%  LuceXLuceWest   \n",
       "1                      Huh?? https://t.co/47YlM3ZXhu     lexaabadie   \n",
       "2                @minasofia5 https://t.co/C8JAUl1vOq      jcat_5150   \n",
       "3              @CatBrothers6 https://t.co/3Ow0GgOS4m      jcat_5150   \n",
       "4  @TUR_Pathing @tur_complex https://t.co/9AqdpQ33o2       xofolded   \n",
       "\n",
       "   user_type  format          new_date  time_window  \\\n",
       "0        1.0       2  2020-07-29 00:01            6   \n",
       "1        1.0       2  2020-07-29 00:02            6   \n",
       "2        1.0       2  2020-07-29 00:03            6   \n",
       "3        1.0       2  2020-07-29 00:29            6   \n",
       "4        1.0       2  2020-07-29 00:31            6   \n",
       "\n",
       "                  tweets_url_token     cleanData  encode_flag  cluster_label  \n",
       "0     @CatgirlFingies Uh-huh! 100%  uh huh  100             6              0  \n",
       "1                      Huh?? [URL]   huh   [url]            6              0  \n",
       "2                @minasofia5 [URL]         [url]            6              0  \n",
       "3              @CatBrothers6 [URL]         [url]            6              0  \n",
       "4  @TUR_Pathing @tur_complex [URL]         [url]            6              0  "
      ]
     },
     "execution_count": 264,
     "metadata": {},
     "output_type": "execute_result"
    }
   ],
   "source": [
    "depressed_dataset_with_labels.head()"
   ]
  },
  {
   "cell_type": "code",
   "execution_count": 265,
   "metadata": {},
   "outputs": [
    {
     "data": {
      "text/plain": [
       "Index(['accountname', 'description', 'favorite_count', 'location',\n",
       "       'masked_user_id', 'retweet_count', 'timestamp', 'tweets', 'twittername',\n",
       "       'user_type', 'format', 'new_date', 'time_window', 'tweets_url_token',\n",
       "       'cleanData', 'encode_flag', 'cluster_label'],\n",
       "      dtype='object')"
      ]
     },
     "execution_count": 265,
     "metadata": {},
     "output_type": "execute_result"
    }
   ],
   "source": [
    "depressed_dataset_with_labels.columns"
   ]
  },
  {
   "cell_type": "code",
   "execution_count": 266,
   "metadata": {},
   "outputs": [],
   "source": [
    "writeColumns = ['masked_user_id','new_date', 'time_window','cleanData','cluster_label']"
   ]
  },
  {
   "cell_type": "code",
   "execution_count": 267,
   "metadata": {},
   "outputs": [],
   "source": [
    "output_filename = \"depTweets_window_6_kmeans_withLabel.csv\""
   ]
  },
  {
   "cell_type": "code",
   "execution_count": 268,
   "metadata": {},
   "outputs": [],
   "source": [
    "depressed_dataset_with_labels.to_csv(os.path.join(r\"D:\\Workspace\\OVGU\\SM_Depression\\src\\time_window\\kmeans_cluster\", output_filename),encoding=\"utf-8\",columns = writeColumns,index=False, date_format='%Y-%m-%d %H:%M')"
   ]
  },
  {
   "cell_type": "code",
   "execution_count": 269,
   "metadata": {},
   "outputs": [
    {
     "data": {
      "text/plain": [
       "0    3716\n",
       "1    1316\n",
       "3     864\n",
       "4     746\n",
       "2     236\n",
       "Name: cluster_label, dtype: int64"
      ]
     },
     "execution_count": 269,
     "metadata": {},
     "output_type": "execute_result"
    }
   ],
   "source": [
    "depressed_dataset_with_labels.cluster_label.value_counts()"
   ]
  },
  {
   "cell_type": "code",
   "execution_count": 270,
   "metadata": {},
   "outputs": [],
   "source": [
    "del depressed_data_embed_flag,depressed_data_embedfile,depressed_dataset_with_labels,depressed_embeddings"
   ]
  },
  {
   "cell_type": "code",
   "execution_count": null,
   "metadata": {},
   "outputs": [],
   "source": []
  },
  {
   "cell_type": "markdown",
   "metadata": {},
   "source": [
    "**To check if all tweets are embedded and their corresponding embeddings are available - Time Window 7**"
   ]
  },
  {
   "cell_type": "code",
   "execution_count": 271,
   "metadata": {},
   "outputs": [],
   "source": [
    "\n",
    "\n",
    "depressed_data_embedfile = open(\"D:\\Workspace\\OVGU\\SM_Depression\\scripts\\embeddings_sentences\\depressed_dataset_7_embedding.pkl\",\"rb\")\n",
    "\n",
    "depressed_data_embedfile = pickle.load(depressed_data_embedfile)\n",
    "\n",
    "embed_value = 7"
   ]
  },
  {
   "cell_type": "code",
   "execution_count": 272,
   "metadata": {},
   "outputs": [
    {
     "data": {
      "text/plain": [
       "7254"
      ]
     },
     "execution_count": 272,
     "metadata": {},
     "output_type": "execute_result"
    }
   ],
   "source": [
    "len(depressed_data_embedfile.keys())"
   ]
  },
  {
   "cell_type": "code",
   "execution_count": 273,
   "metadata": {},
   "outputs": [],
   "source": [
    "depressed_data_embedfile = OrderedDict(depressed_data_embedfile)"
   ]
  },
  {
   "cell_type": "code",
   "execution_count": 274,
   "metadata": {},
   "outputs": [],
   "source": [
    "depressed_data_embed_flag = {key:int(embed_value) for key, value in depressed_data_embedfile.items()}"
   ]
  },
  {
   "cell_type": "code",
   "execution_count": 275,
   "metadata": {},
   "outputs": [
    {
     "data": {
      "text/plain": [
       "7254"
      ]
     },
     "execution_count": 275,
     "metadata": {},
     "output_type": "execute_result"
    }
   ],
   "source": [
    "len(depressed_data_embed_flag.keys())"
   ]
  },
  {
   "cell_type": "code",
   "execution_count": 276,
   "metadata": {},
   "outputs": [
    {
     "data": {
      "text/plain": [
       "7786"
      ]
     },
     "execution_count": 276,
     "metadata": {},
     "output_type": "execute_result"
    }
   ],
   "source": [
    "len(depressed_dataset_7)"
   ]
  },
  {
   "cell_type": "code",
   "execution_count": 277,
   "metadata": {},
   "outputs": [
    {
     "name": "stderr",
     "output_type": "stream",
     "text": [
      "D:\\Softwares\\Anaconda\\lib\\site-packages\\ipykernel_launcher.py:1: SettingWithCopyWarning: \n",
      "A value is trying to be set on a copy of a slice from a DataFrame.\n",
      "Try using .loc[row_indexer,col_indexer] = value instead\n",
      "\n",
      "See the caveats in the documentation: https://pandas.pydata.org/pandas-docs/stable/user_guide/indexing.html#returning-a-view-versus-a-copy\n",
      "  \"\"\"Entry point for launching an IPython kernel.\n"
     ]
    }
   ],
   "source": [
    "depressed_dataset_7[\"encode_flag\"] = depressed_dataset_7[\"cleanData\"].apply(lambda x: depressed_data_embed_flag.get(x))\n"
   ]
  },
  {
   "cell_type": "code",
   "execution_count": 278,
   "metadata": {},
   "outputs": [
    {
     "data": {
      "text/plain": [
       "7    7786\n",
       "Name: encode_flag, dtype: int64"
      ]
     },
     "execution_count": 278,
     "metadata": {},
     "output_type": "execute_result"
    }
   ],
   "source": [
    "depressed_dataset_7.encode_flag.value_counts()"
   ]
  },
  {
   "cell_type": "code",
   "execution_count": 279,
   "metadata": {},
   "outputs": [
    {
     "data": {
      "text/plain": [
       "7254"
      ]
     },
     "execution_count": 279,
     "metadata": {},
     "output_type": "execute_result"
    }
   ],
   "source": [
    "depressed_dataset_7.cleanData.nunique()"
   ]
  },
  {
   "cell_type": "markdown",
   "metadata": {},
   "source": [
    "**Clustering on Time window 7 dataset**"
   ]
  },
  {
   "cell_type": "markdown",
   "metadata": {},
   "source": [
    "**Approach 1 - kMeans**"
   ]
  },
  {
   "cell_type": "code",
   "execution_count": 280,
   "metadata": {},
   "outputs": [],
   "source": [
    "from sklearn.cluster import KMeans\n",
    "from yellowbrick.cluster import KElbowVisualizer"
   ]
  },
  {
   "cell_type": "code",
   "execution_count": 281,
   "metadata": {
    "scrolled": true
   },
   "outputs": [
    {
     "data": {
      "text/plain": [
       "7254"
      ]
     },
     "execution_count": 281,
     "metadata": {},
     "output_type": "execute_result"
    }
   ],
   "source": [
    "len(list(depressed_data_embedfile.values()))"
   ]
  },
  {
   "cell_type": "code",
   "execution_count": 282,
   "metadata": {},
   "outputs": [],
   "source": [
    "depressed_embeddings = np.array(list(depressed_data_embedfile.values()))"
   ]
  },
  {
   "cell_type": "code",
   "execution_count": 283,
   "metadata": {},
   "outputs": [
    {
     "name": "stderr",
     "output_type": "stream",
     "text": [
      "D:\\Softwares\\Anaconda\\lib\\site-packages\\sklearn\\cluster\\_kmeans.py:939: FutureWarning: 'n_jobs' was deprecated in version 0.23 and will be removed in 0.25.\n",
      "  \" removed in 0.25.\", FutureWarning)\n",
      "D:\\Softwares\\Anaconda\\lib\\site-packages\\sklearn\\cluster\\_kmeans.py:939: FutureWarning: 'n_jobs' was deprecated in version 0.23 and will be removed in 0.25.\n",
      "  \" removed in 0.25.\", FutureWarning)\n",
      "D:\\Softwares\\Anaconda\\lib\\site-packages\\sklearn\\cluster\\_kmeans.py:939: FutureWarning: 'n_jobs' was deprecated in version 0.23 and will be removed in 0.25.\n",
      "  \" removed in 0.25.\", FutureWarning)\n",
      "D:\\Softwares\\Anaconda\\lib\\site-packages\\sklearn\\cluster\\_kmeans.py:939: FutureWarning: 'n_jobs' was deprecated in version 0.23 and will be removed in 0.25.\n",
      "  \" removed in 0.25.\", FutureWarning)\n",
      "D:\\Softwares\\Anaconda\\lib\\site-packages\\sklearn\\cluster\\_kmeans.py:939: FutureWarning: 'n_jobs' was deprecated in version 0.23 and will be removed in 0.25.\n",
      "  \" removed in 0.25.\", FutureWarning)\n",
      "D:\\Softwares\\Anaconda\\lib\\site-packages\\sklearn\\cluster\\_kmeans.py:939: FutureWarning: 'n_jobs' was deprecated in version 0.23 and will be removed in 0.25.\n",
      "  \" removed in 0.25.\", FutureWarning)\n",
      "D:\\Softwares\\Anaconda\\lib\\site-packages\\sklearn\\cluster\\_kmeans.py:939: FutureWarning: 'n_jobs' was deprecated in version 0.23 and will be removed in 0.25.\n",
      "  \" removed in 0.25.\", FutureWarning)\n",
      "D:\\Softwares\\Anaconda\\lib\\site-packages\\sklearn\\cluster\\_kmeans.py:939: FutureWarning: 'n_jobs' was deprecated in version 0.23 and will be removed in 0.25.\n",
      "  \" removed in 0.25.\", FutureWarning)\n",
      "D:\\Softwares\\Anaconda\\lib\\site-packages\\sklearn\\cluster\\_kmeans.py:939: FutureWarning: 'n_jobs' was deprecated in version 0.23 and will be removed in 0.25.\n",
      "  \" removed in 0.25.\", FutureWarning)\n"
     ]
    },
    {
     "data": {
      "image/png": "[encoded data removed]",
      "text/plain": [
       "<Figure size 576x396 with 2 Axes>"
      ]
     },
     "metadata": {},
     "output_type": "display_data"
    },
    {
     "data": {
      "text/plain": [
       "<matplotlib.axes._subplots.AxesSubplot at 0x15eb3303a08>"
      ]
     },
     "execution_count": 283,
     "metadata": {},
     "output_type": "execute_result"
    }
   ],
   "source": [
    "model = KMeans(init='k-means++', n_jobs=4)\n",
    "visualizer = KElbowVisualizer(model, k=(2,11))\n",
    "\n",
    "visualizer.fit(depressed_embeddings)    \n",
    "visualizer.show()  "
   ]
  },
  {
   "cell_type": "code",
   "execution_count": 284,
   "metadata": {},
   "outputs": [
    {
     "name": "stderr",
     "output_type": "stream",
     "text": [
      "D:\\Softwares\\Anaconda\\lib\\site-packages\\sklearn\\cluster\\_kmeans.py:939: FutureWarning: 'n_jobs' was deprecated in version 0.23 and will be removed in 0.25.\n",
      "  \" removed in 0.25.\", FutureWarning)\n"
     ]
    }
   ],
   "source": [
    "kmeans = KMeans(n_clusters=5,init='k-means++', n_jobs=4)\n",
    "kmeans = kmeans.fit(depressed_embeddings)"
   ]
  },
  {
   "cell_type": "code",
   "execution_count": 285,
   "metadata": {},
   "outputs": [
    {
     "data": {
      "text/plain": [
       "7254"
      ]
     },
     "execution_count": 285,
     "metadata": {},
     "output_type": "execute_result"
    }
   ],
   "source": [
    "kmeans_labels = kmeans.labels_\n",
    "\n",
    "len(kmeans_labels)"
   ]
  },
  {
   "cell_type": "code",
   "execution_count": 286,
   "metadata": {},
   "outputs": [],
   "source": [
    "tweet_label_df = pd.DataFrame()\n",
    "tweet_label_df['cleanData'] = depressed_data_embedfile.keys()\n",
    "tweet_label_df['cluster_label'] = kmeans_labels"
   ]
  },
  {
   "cell_type": "code",
   "execution_count": 287,
   "metadata": {},
   "outputs": [
    {
     "data": {
      "text/html": [
       "<div>\n",
       "<style scoped>\n",
       "    .dataframe tbody tr th:only-of-type {\n",
       "        vertical-align: middle;\n",
       "    }\n",
       "\n",
       "    .dataframe tbody tr th {\n",
       "        vertical-align: top;\n",
       "    }\n",
       "\n",
       "    .dataframe thead th {\n",
       "        text-align: right;\n",
       "    }\n",
       "</style>\n",
       "<table border=\"1\" class=\"dataframe\">\n",
       "  <thead>\n",
       "    <tr style=\"text-align: right;\">\n",
       "      <th></th>\n",
       "      <th>cleanData</th>\n",
       "      <th>cluster_label</th>\n",
       "    </tr>\n",
       "  </thead>\n",
       "  <tbody>\n",
       "    <tr>\n",
       "      <th>0</th>\n",
       "      <td>reminds me of the thing that   s like the chan...</td>\n",
       "      <td>3</td>\n",
       "    </tr>\n",
       "    <tr>\n",
       "      <th>1</th>\n",
       "      <td>2020  the year everything turned out to be cak...</td>\n",
       "      <td>3</td>\n",
       "    </tr>\n",
       "    <tr>\n",
       "      <th>2</th>\n",
       "      <td>i hate seeing fma twit be like  roy its just a...</td>\n",
       "      <td>4</td>\n",
       "    </tr>\n",
       "    <tr>\n",
       "      <th>3</th>\n",
       "      <td>one of the few things i   m grateful for about...</td>\n",
       "      <td>0</td>\n",
       "    </tr>\n",
       "    <tr>\n",
       "      <th>4</th>\n",
       "      <td>water and natural fruit juices are superior bu...</td>\n",
       "      <td>2</td>\n",
       "    </tr>\n",
       "  </tbody>\n",
       "</table>\n",
       "</div>"
      ],
      "text/plain": [
       "                                           cleanData  cluster_label\n",
       "0  reminds me of the thing that   s like the chan...              3\n",
       "1  2020  the year everything turned out to be cak...              3\n",
       "2  i hate seeing fma twit be like  roy its just a...              4\n",
       "3  one of the few things i   m grateful for about...              0\n",
       "4  water and natural fruit juices are superior bu...              2"
      ]
     },
     "execution_count": 287,
     "metadata": {},
     "output_type": "execute_result"
    }
   ],
   "source": [
    "tweet_label_df.head()"
   ]
  },
  {
   "cell_type": "code",
   "execution_count": 288,
   "metadata": {},
   "outputs": [
    {
     "data": {
      "text/plain": [
       "2    4017\n",
       "3    1421\n",
       "0     962\n",
       "4     657\n",
       "1     197\n",
       "Name: cluster_label, dtype: int64"
      ]
     },
     "execution_count": 288,
     "metadata": {},
     "output_type": "execute_result"
    }
   ],
   "source": [
    "tweet_label_df.cluster_label.value_counts()"
   ]
  },
  {
   "cell_type": "code",
   "execution_count": 289,
   "metadata": {},
   "outputs": [],
   "source": [
    "depressed_dataset_with_labels = pd.merge(depressed_dataset_7, tweet_label_df, on='cleanData')"
   ]
  },
  {
   "cell_type": "code",
   "execution_count": 290,
   "metadata": {},
   "outputs": [
    {
     "data": {
      "text/html": [
       "<div>\n",
       "<style scoped>\n",
       "    .dataframe tbody tr th:only-of-type {\n",
       "        vertical-align: middle;\n",
       "    }\n",
       "\n",
       "    .dataframe tbody tr th {\n",
       "        vertical-align: top;\n",
       "    }\n",
       "\n",
       "    .dataframe thead th {\n",
       "        text-align: right;\n",
       "    }\n",
       "</style>\n",
       "<table border=\"1\" class=\"dataframe\">\n",
       "  <thead>\n",
       "    <tr style=\"text-align: right;\">\n",
       "      <th></th>\n",
       "      <th>accountname</th>\n",
       "      <th>description</th>\n",
       "      <th>favorite_count</th>\n",
       "      <th>location</th>\n",
       "      <th>masked_user_id</th>\n",
       "      <th>retweet_count</th>\n",
       "      <th>timestamp</th>\n",
       "      <th>tweets</th>\n",
       "      <th>twittername</th>\n",
       "      <th>user_type</th>\n",
       "      <th>format</th>\n",
       "      <th>new_date</th>\n",
       "      <th>time_window</th>\n",
       "      <th>tweets_url_token</th>\n",
       "      <th>cleanData</th>\n",
       "      <th>encode_flag</th>\n",
       "      <th>cluster_label</th>\n",
       "    </tr>\n",
       "  </thead>\n",
       "  <tbody>\n",
       "    <tr>\n",
       "      <th>0</th>\n",
       "      <td>Ruby</td>\n",
       "      <td>rubyâ??s back... back again... 24 with a math ...</td>\n",
       "      <td>0</td>\n",
       "      <td></td>\n",
       "      <td>depressed_user_72</td>\n",
       "      <td>0.0</td>\n",
       "      <td>8/5/2020 0:01</td>\n",
       "      <td>@stephtxt reminds me of the thing thatâ??s lik...</td>\n",
       "      <td>rubysback</td>\n",
       "      <td>1.0</td>\n",
       "      <td>2</td>\n",
       "      <td>2020-08-05 00:01</td>\n",
       "      <td>7</td>\n",
       "      <td>@stephtxt reminds me of the thing thatâ??s lik...</td>\n",
       "      <td>reminds me of the thing that   s like the chan...</td>\n",
       "      <td>7</td>\n",
       "      <td>3</td>\n",
       "    </tr>\n",
       "    <tr>\n",
       "      <th>1</th>\n",
       "      <td>ipickuppennies</td>\n",
       "      <td>Disability, frugality and other life adventure...</td>\n",
       "      <td>3</td>\n",
       "      <td>Phoenix, AZ</td>\n",
       "      <td>depressed_user_32</td>\n",
       "      <td>0.0</td>\n",
       "      <td>8/5/2020 0:02</td>\n",
       "      <td>2020: The year everything turned out to be cak...</td>\n",
       "      <td>ipickuppennies</td>\n",
       "      <td>1.0</td>\n",
       "      <td>2</td>\n",
       "      <td>2020-08-05 00:02</td>\n",
       "      <td>7</td>\n",
       "      <td>2020: The year everything turned out to be cak...</td>\n",
       "      <td>2020  the year everything turned out to be cak...</td>\n",
       "      <td>7</td>\n",
       "      <td>3</td>\n",
       "    </tr>\n",
       "    <tr>\n",
       "      <th>2</th>\n",
       "      <td>â�¤ kinnie â�¤</td>\n",
       "      <td>Dylan | a3 and hypmic | ð?�­ð???ð??² | ACAB | ...</td>\n",
       "      <td>0</td>\n",
       "      <td>(he/fae) nsfw (rarely)</td>\n",
       "      <td>depressed_user_60</td>\n",
       "      <td>0.0</td>\n",
       "      <td>8/5/2020 0:03</td>\n",
       "      <td>i hate seeing fma twit be like \"roy its just a...</td>\n",
       "      <td>nintendowiimote</td>\n",
       "      <td>1.0</td>\n",
       "      <td>2</td>\n",
       "      <td>2020-08-05 00:03</td>\n",
       "      <td>7</td>\n",
       "      <td>i hate seeing fma twit be like \"roy its just a...</td>\n",
       "      <td>i hate seeing fma twit be like  roy its just a...</td>\n",
       "      <td>7</td>\n",
       "      <td>4</td>\n",
       "    </tr>\n",
       "    <tr>\n",
       "      <th>3</th>\n",
       "      <td>daisy.</td>\n",
       "      <td>ð�˜�ð�˜„: ð�—²ð�—± ð�˜�ð�˜„ð�˜� ð�—¿ð�—®ð�—»ð�...</td>\n",
       "      <td>4</td>\n",
       "      <td>23 ã€¡ she/her ã€¡ eng/spa</td>\n",
       "      <td>depressed_user_24</td>\n",
       "      <td>0.0</td>\n",
       "      <td>8/5/2020 0:04</td>\n",
       "      <td>one of the few things iâ€™m grateful for about...</td>\n",
       "      <td>fluxkcals</td>\n",
       "      <td>1.0</td>\n",
       "      <td>2</td>\n",
       "      <td>2020-08-05 00:04</td>\n",
       "      <td>7</td>\n",
       "      <td>one of the few things iâ€™m grateful for about...</td>\n",
       "      <td>one of the few things i   m grateful for about...</td>\n",
       "      <td>7</td>\n",
       "      <td>0</td>\n",
       "    </tr>\n",
       "    <tr>\n",
       "      <th>4</th>\n",
       "      <td>daisy.</td>\n",
       "      <td>ð�˜�ð�˜„: ð�—²ð�—± ð�˜�ð�˜„ð�˜� ð�—¿ð�—®ð�—»ð�...</td>\n",
       "      <td>2</td>\n",
       "      <td>23 ã€¡ she/her ã€¡ eng/spa</td>\n",
       "      <td>depressed_user_24</td>\n",
       "      <td>0.0</td>\n",
       "      <td>8/5/2020 0:05</td>\n",
       "      <td>water and natural fruit juices are superior bu...</td>\n",
       "      <td>fluxkcals</td>\n",
       "      <td>1.0</td>\n",
       "      <td>2</td>\n",
       "      <td>2020-08-05 00:05</td>\n",
       "      <td>7</td>\n",
       "      <td>water and natural fruit juices are superior bu...</td>\n",
       "      <td>water and natural fruit juices are superior bu...</td>\n",
       "      <td>7</td>\n",
       "      <td>2</td>\n",
       "    </tr>\n",
       "  </tbody>\n",
       "</table>\n",
       "</div>"
      ],
      "text/plain": [
       "      accountname                                        description  \\\n",
       "0            Ruby  rubyâ??s back... back again... 24 with a math ...   \n",
       "1  ipickuppennies  Disability, frugality and other life adventure...   \n",
       "2  â�¤ kinnie â�¤  Dylan | a3 and hypmic | ð?�­ð???ð??² | ACAB | ...   \n",
       "3          daisy.  ð�˜�ð�˜„: ð�—²ð�—± ð�˜�ð�˜„ð�˜� ð�—¿ð�—®ð�—»ð�...   \n",
       "4          daisy.  ð�˜�ð�˜„: ð�—²ð�—± ð�˜�ð�˜„ð�˜� ð�—¿ð�—®ð�—»ð�...   \n",
       "\n",
       "  favorite_count                    location     masked_user_id retweet_count  \\\n",
       "0              0                              depressed_user_72           0.0   \n",
       "1              3                 Phoenix, AZ  depressed_user_32           0.0   \n",
       "2              0      (he/fae) nsfw (rarely)  depressed_user_60           0.0   \n",
       "3              4  23 ã€¡ she/her ã€¡ eng/spa  depressed_user_24           0.0   \n",
       "4              2  23 ã€¡ she/her ã€¡ eng/spa  depressed_user_24           0.0   \n",
       "\n",
       "       timestamp                                             tweets  \\\n",
       "0  8/5/2020 0:01  @stephtxt reminds me of the thing thatâ??s lik...   \n",
       "1  8/5/2020 0:02  2020: The year everything turned out to be cak...   \n",
       "2  8/5/2020 0:03  i hate seeing fma twit be like \"roy its just a...   \n",
       "3  8/5/2020 0:04  one of the few things iâ€™m grateful for about...   \n",
       "4  8/5/2020 0:05  water and natural fruit juices are superior bu...   \n",
       "\n",
       "       twittername  user_type  format          new_date  time_window  \\\n",
       "0        rubysback        1.0       2  2020-08-05 00:01            7   \n",
       "1   ipickuppennies        1.0       2  2020-08-05 00:02            7   \n",
       "2  nintendowiimote        1.0       2  2020-08-05 00:03            7   \n",
       "3        fluxkcals        1.0       2  2020-08-05 00:04            7   \n",
       "4        fluxkcals        1.0       2  2020-08-05 00:05            7   \n",
       "\n",
       "                                    tweets_url_token  \\\n",
       "0  @stephtxt reminds me of the thing thatâ??s lik...   \n",
       "1  2020: The year everything turned out to be cak...   \n",
       "2  i hate seeing fma twit be like \"roy its just a...   \n",
       "3  one of the few things iâ€™m grateful for about...   \n",
       "4  water and natural fruit juices are superior bu...   \n",
       "\n",
       "                                           cleanData  encode_flag  \\\n",
       "0  reminds me of the thing that   s like the chan...            7   \n",
       "1  2020  the year everything turned out to be cak...            7   \n",
       "2  i hate seeing fma twit be like  roy its just a...            7   \n",
       "3  one of the few things i   m grateful for about...            7   \n",
       "4  water and natural fruit juices are superior bu...            7   \n",
       "\n",
       "   cluster_label  \n",
       "0              3  \n",
       "1              3  \n",
       "2              4  \n",
       "3              0  \n",
       "4              2  "
      ]
     },
     "execution_count": 290,
     "metadata": {},
     "output_type": "execute_result"
    }
   ],
   "source": [
    "depressed_dataset_with_labels.head()"
   ]
  },
  {
   "cell_type": "code",
   "execution_count": 291,
   "metadata": {},
   "outputs": [
    {
     "data": {
      "text/plain": [
       "Index(['accountname', 'description', 'favorite_count', 'location',\n",
       "       'masked_user_id', 'retweet_count', 'timestamp', 'tweets', 'twittername',\n",
       "       'user_type', 'format', 'new_date', 'time_window', 'tweets_url_token',\n",
       "       'cleanData', 'encode_flag', 'cluster_label'],\n",
       "      dtype='object')"
      ]
     },
     "execution_count": 291,
     "metadata": {},
     "output_type": "execute_result"
    }
   ],
   "source": [
    "depressed_dataset_with_labels.columns"
   ]
  },
  {
   "cell_type": "code",
   "execution_count": 292,
   "metadata": {},
   "outputs": [],
   "source": [
    "writeColumns = ['masked_user_id','new_date', 'time_window','cleanData','cluster_label']"
   ]
  },
  {
   "cell_type": "code",
   "execution_count": 293,
   "metadata": {},
   "outputs": [],
   "source": [
    "output_filename = \"depTweets_window_7_kmeans_withLabel.csv\""
   ]
  },
  {
   "cell_type": "code",
   "execution_count": 294,
   "metadata": {},
   "outputs": [],
   "source": [
    "depressed_dataset_with_labels.to_csv(os.path.join(r\"D:\\Workspace\\OVGU\\SM_Depression\\src\\time_window\\kmeans_cluster\", output_filename),encoding=\"utf-8\",columns = writeColumns,index=False, date_format='%Y-%m-%d %H:%M')"
   ]
  },
  {
   "cell_type": "code",
   "execution_count": 295,
   "metadata": {},
   "outputs": [
    {
     "data": {
      "text/plain": [
       "2    4525\n",
       "3    1424\n",
       "0     979\n",
       "4     661\n",
       "1     197\n",
       "Name: cluster_label, dtype: int64"
      ]
     },
     "execution_count": 295,
     "metadata": {},
     "output_type": "execute_result"
    }
   ],
   "source": [
    "depressed_dataset_with_labels.cluster_label.value_counts()"
   ]
  },
  {
   "cell_type": "code",
   "execution_count": 296,
   "metadata": {},
   "outputs": [],
   "source": [
    "del depressed_data_embed_flag,depressed_data_embedfile,depressed_dataset_with_labels,depressed_embeddings"
   ]
  },
  {
   "cell_type": "code",
   "execution_count": null,
   "metadata": {},
   "outputs": [],
   "source": []
  },
  {
   "cell_type": "markdown",
   "metadata": {},
   "source": [
    "**To check if all tweets are embedded and their corresponding embeddings are available - Time Window 8**"
   ]
  },
  {
   "cell_type": "code",
   "execution_count": 297,
   "metadata": {},
   "outputs": [],
   "source": [
    "\n",
    "\n",
    "depressed_data_embedfile = open(\"D:\\Workspace\\OVGU\\SM_Depression\\scripts\\embeddings_sentences\\depressed_dataset_8_embedding.pkl\",\"rb\")\n",
    "\n",
    "depressed_data_embedfile = pickle.load(depressed_data_embedfile)\n",
    "\n",
    "embed_value = 8"
   ]
  },
  {
   "cell_type": "code",
   "execution_count": 298,
   "metadata": {},
   "outputs": [
    {
     "data": {
      "text/plain": [
       "7701"
      ]
     },
     "execution_count": 298,
     "metadata": {},
     "output_type": "execute_result"
    }
   ],
   "source": [
    "len(depressed_data_embedfile.keys())"
   ]
  },
  {
   "cell_type": "code",
   "execution_count": 299,
   "metadata": {},
   "outputs": [],
   "source": [
    "depressed_data_embedfile = OrderedDict(depressed_data_embedfile)"
   ]
  },
  {
   "cell_type": "code",
   "execution_count": 300,
   "metadata": {},
   "outputs": [],
   "source": [
    "depressed_data_embed_flag = {key:int(embed_value) for key, value in depressed_data_embedfile.items()}"
   ]
  },
  {
   "cell_type": "code",
   "execution_count": 301,
   "metadata": {},
   "outputs": [
    {
     "data": {
      "text/plain": [
       "7701"
      ]
     },
     "execution_count": 301,
     "metadata": {},
     "output_type": "execute_result"
    }
   ],
   "source": [
    "len(depressed_data_embed_flag.keys())"
   ]
  },
  {
   "cell_type": "code",
   "execution_count": 302,
   "metadata": {},
   "outputs": [
    {
     "data": {
      "text/plain": [
       "8278"
      ]
     },
     "execution_count": 302,
     "metadata": {},
     "output_type": "execute_result"
    }
   ],
   "source": [
    "len(depressed_dataset_8)"
   ]
  },
  {
   "cell_type": "code",
   "execution_count": 303,
   "metadata": {},
   "outputs": [
    {
     "name": "stderr",
     "output_type": "stream",
     "text": [
      "D:\\Softwares\\Anaconda\\lib\\site-packages\\ipykernel_launcher.py:1: SettingWithCopyWarning: \n",
      "A value is trying to be set on a copy of a slice from a DataFrame.\n",
      "Try using .loc[row_indexer,col_indexer] = value instead\n",
      "\n",
      "See the caveats in the documentation: https://pandas.pydata.org/pandas-docs/stable/user_guide/indexing.html#returning-a-view-versus-a-copy\n",
      "  \"\"\"Entry point for launching an IPython kernel.\n"
     ]
    }
   ],
   "source": [
    "depressed_dataset_8[\"encode_flag\"] = depressed_dataset_8[\"cleanData\"].apply(lambda x: depressed_data_embed_flag.get(x))\n"
   ]
  },
  {
   "cell_type": "code",
   "execution_count": 304,
   "metadata": {},
   "outputs": [
    {
     "data": {
      "text/plain": [
       "8    8278\n",
       "Name: encode_flag, dtype: int64"
      ]
     },
     "execution_count": 304,
     "metadata": {},
     "output_type": "execute_result"
    }
   ],
   "source": [
    "depressed_dataset_8.encode_flag.value_counts()"
   ]
  },
  {
   "cell_type": "code",
   "execution_count": 305,
   "metadata": {},
   "outputs": [
    {
     "data": {
      "text/plain": [
       "7701"
      ]
     },
     "execution_count": 305,
     "metadata": {},
     "output_type": "execute_result"
    }
   ],
   "source": [
    "depressed_dataset_8.cleanData.nunique()"
   ]
  },
  {
   "cell_type": "markdown",
   "metadata": {},
   "source": [
    "**Clustering on Time window 8 dataset**"
   ]
  },
  {
   "cell_type": "markdown",
   "metadata": {},
   "source": [
    "**Approach 1 - kMeans**"
   ]
  },
  {
   "cell_type": "code",
   "execution_count": 306,
   "metadata": {},
   "outputs": [],
   "source": [
    "from sklearn.cluster import KMeans\n",
    "from yellowbrick.cluster import KElbowVisualizer"
   ]
  },
  {
   "cell_type": "code",
   "execution_count": 307,
   "metadata": {
    "scrolled": true
   },
   "outputs": [
    {
     "data": {
      "text/plain": [
       "7701"
      ]
     },
     "execution_count": 307,
     "metadata": {},
     "output_type": "execute_result"
    }
   ],
   "source": [
    "len(list(depressed_data_embedfile.values()))"
   ]
  },
  {
   "cell_type": "code",
   "execution_count": 308,
   "metadata": {},
   "outputs": [],
   "source": [
    "depressed_embeddings = np.array(list(depressed_data_embedfile.values()))"
   ]
  },
  {
   "cell_type": "code",
   "execution_count": 309,
   "metadata": {},
   "outputs": [
    {
     "name": "stderr",
     "output_type": "stream",
     "text": [
      "D:\\Softwares\\Anaconda\\lib\\site-packages\\sklearn\\cluster\\_kmeans.py:939: FutureWarning: 'n_jobs' was deprecated in version 0.23 and will be removed in 0.25.\n",
      "  \" removed in 0.25.\", FutureWarning)\n",
      "D:\\Softwares\\Anaconda\\lib\\site-packages\\sklearn\\cluster\\_kmeans.py:939: FutureWarning: 'n_jobs' was deprecated in version 0.23 and will be removed in 0.25.\n",
      "  \" removed in 0.25.\", FutureWarning)\n",
      "D:\\Softwares\\Anaconda\\lib\\site-packages\\sklearn\\cluster\\_kmeans.py:939: FutureWarning: 'n_jobs' was deprecated in version 0.23 and will be removed in 0.25.\n",
      "  \" removed in 0.25.\", FutureWarning)\n",
      "D:\\Softwares\\Anaconda\\lib\\site-packages\\sklearn\\cluster\\_kmeans.py:939: FutureWarning: 'n_jobs' was deprecated in version 0.23 and will be removed in 0.25.\n",
      "  \" removed in 0.25.\", FutureWarning)\n",
      "D:\\Softwares\\Anaconda\\lib\\site-packages\\sklearn\\cluster\\_kmeans.py:939: FutureWarning: 'n_jobs' was deprecated in version 0.23 and will be removed in 0.25.\n",
      "  \" removed in 0.25.\", FutureWarning)\n",
      "D:\\Softwares\\Anaconda\\lib\\site-packages\\sklearn\\cluster\\_kmeans.py:939: FutureWarning: 'n_jobs' was deprecated in version 0.23 and will be removed in 0.25.\n",
      "  \" removed in 0.25.\", FutureWarning)\n",
      "D:\\Softwares\\Anaconda\\lib\\site-packages\\sklearn\\cluster\\_kmeans.py:939: FutureWarning: 'n_jobs' was deprecated in version 0.23 and will be removed in 0.25.\n",
      "  \" removed in 0.25.\", FutureWarning)\n",
      "D:\\Softwares\\Anaconda\\lib\\site-packages\\sklearn\\cluster\\_kmeans.py:939: FutureWarning: 'n_jobs' was deprecated in version 0.23 and will be removed in 0.25.\n",
      "  \" removed in 0.25.\", FutureWarning)\n",
      "D:\\Softwares\\Anaconda\\lib\\site-packages\\sklearn\\cluster\\_kmeans.py:939: FutureWarning: 'n_jobs' was deprecated in version 0.23 and will be removed in 0.25.\n",
      "  \" removed in 0.25.\", FutureWarning)\n"
     ]
    },
    {
     "data": {
      "image/png": "[encoded data removed]",
      "text/plain": [
       "<Figure size 576x396 with 2 Axes>"
      ]
     },
     "metadata": {},
     "output_type": "display_data"
    },
    {
     "data": {
      "text/plain": [
       "<matplotlib.axes._subplots.AxesSubplot at 0x15eb440ed48>"
      ]
     },
     "execution_count": 309,
     "metadata": {},
     "output_type": "execute_result"
    }
   ],
   "source": [
    "model = KMeans(init='k-means++', n_jobs=4)\n",
    "visualizer = KElbowVisualizer(model, k=(2,11))\n",
    "\n",
    "visualizer.fit(depressed_embeddings)    \n",
    "visualizer.show()  "
   ]
  },
  {
   "cell_type": "code",
   "execution_count": 310,
   "metadata": {},
   "outputs": [
    {
     "name": "stderr",
     "output_type": "stream",
     "text": [
      "D:\\Softwares\\Anaconda\\lib\\site-packages\\sklearn\\cluster\\_kmeans.py:939: FutureWarning: 'n_jobs' was deprecated in version 0.23 and will be removed in 0.25.\n",
      "  \" removed in 0.25.\", FutureWarning)\n"
     ]
    }
   ],
   "source": [
    "kmeans = KMeans(n_clusters=5,init='k-means++', n_jobs=4)\n",
    "kmeans = kmeans.fit(depressed_embeddings)"
   ]
  },
  {
   "cell_type": "code",
   "execution_count": 311,
   "metadata": {},
   "outputs": [
    {
     "data": {
      "text/plain": [
       "7701"
      ]
     },
     "execution_count": 311,
     "metadata": {},
     "output_type": "execute_result"
    }
   ],
   "source": [
    "kmeans_labels = kmeans.labels_\n",
    "\n",
    "len(kmeans_labels)"
   ]
  },
  {
   "cell_type": "code",
   "execution_count": 312,
   "metadata": {},
   "outputs": [],
   "source": [
    "tweet_label_df = pd.DataFrame()\n",
    "tweet_label_df['cleanData'] = depressed_data_embedfile.keys()\n",
    "tweet_label_df['cluster_label'] = kmeans_labels"
   ]
  },
  {
   "cell_type": "code",
   "execution_count": 313,
   "metadata": {},
   "outputs": [
    {
     "data": {
      "text/html": [
       "<div>\n",
       "<style scoped>\n",
       "    .dataframe tbody tr th:only-of-type {\n",
       "        vertical-align: middle;\n",
       "    }\n",
       "\n",
       "    .dataframe tbody tr th {\n",
       "        vertical-align: top;\n",
       "    }\n",
       "\n",
       "    .dataframe thead th {\n",
       "        text-align: right;\n",
       "    }\n",
       "</style>\n",
       "<table border=\"1\" class=\"dataframe\">\n",
       "  <thead>\n",
       "    <tr style=\"text-align: right;\">\n",
       "      <th></th>\n",
       "      <th>cleanData</th>\n",
       "      <th>cluster_label</th>\n",
       "    </tr>\n",
       "  </thead>\n",
       "  <tbody>\n",
       "    <tr>\n",
       "      <th>0</th>\n",
       "      <td>he does but we keep him mostly clipped lol he ...</td>\n",
       "      <td>2</td>\n",
       "    </tr>\n",
       "    <tr>\n",
       "      <th>1</th>\n",
       "      <td>period sis  that   s energy</td>\n",
       "      <td>2</td>\n",
       "    </tr>\n",
       "    <tr>\n",
       "      <th>2</th>\n",
       "      <td>and what area of the country so you live in  i...</td>\n",
       "      <td>0</td>\n",
       "    </tr>\n",
       "    <tr>\n",
       "      <th>3</th>\n",
       "      <td>with all these bizarre events occuring togethe...</td>\n",
       "      <td>2</td>\n",
       "    </tr>\n",
       "    <tr>\n",
       "      <th>4</th>\n",
       "      <td>when people women  nb gfs included  because an...</td>\n",
       "      <td>2</td>\n",
       "    </tr>\n",
       "  </tbody>\n",
       "</table>\n",
       "</div>"
      ],
      "text/plain": [
       "                                           cleanData  cluster_label\n",
       "0  he does but we keep him mostly clipped lol he ...              2\n",
       "1                        period sis  that   s energy              2\n",
       "2  and what area of the country so you live in  i...              0\n",
       "3  with all these bizarre events occuring togethe...              2\n",
       "4  when people women  nb gfs included  because an...              2"
      ]
     },
     "execution_count": 313,
     "metadata": {},
     "output_type": "execute_result"
    }
   ],
   "source": [
    "tweet_label_df.head()"
   ]
  },
  {
   "cell_type": "code",
   "execution_count": 314,
   "metadata": {},
   "outputs": [
    {
     "data": {
      "text/plain": [
       "2    4131\n",
       "3    1510\n",
       "0    1050\n",
       "1     761\n",
       "4     249\n",
       "Name: cluster_label, dtype: int64"
      ]
     },
     "execution_count": 314,
     "metadata": {},
     "output_type": "execute_result"
    }
   ],
   "source": [
    "tweet_label_df.cluster_label.value_counts()"
   ]
  },
  {
   "cell_type": "code",
   "execution_count": 315,
   "metadata": {},
   "outputs": [],
   "source": [
    "depressed_dataset_with_labels = pd.merge(depressed_dataset_8, tweet_label_df, on='cleanData')"
   ]
  },
  {
   "cell_type": "code",
   "execution_count": 316,
   "metadata": {},
   "outputs": [
    {
     "data": {
      "text/html": [
       "<div>\n",
       "<style scoped>\n",
       "    .dataframe tbody tr th:only-of-type {\n",
       "        vertical-align: middle;\n",
       "    }\n",
       "\n",
       "    .dataframe tbody tr th {\n",
       "        vertical-align: top;\n",
       "    }\n",
       "\n",
       "    .dataframe thead th {\n",
       "        text-align: right;\n",
       "    }\n",
       "</style>\n",
       "<table border=\"1\" class=\"dataframe\">\n",
       "  <thead>\n",
       "    <tr style=\"text-align: right;\">\n",
       "      <th></th>\n",
       "      <th>accountname</th>\n",
       "      <th>description</th>\n",
       "      <th>favorite_count</th>\n",
       "      <th>location</th>\n",
       "      <th>masked_user_id</th>\n",
       "      <th>retweet_count</th>\n",
       "      <th>timestamp</th>\n",
       "      <th>tweets</th>\n",
       "      <th>twittername</th>\n",
       "      <th>user_type</th>\n",
       "      <th>format</th>\n",
       "      <th>new_date</th>\n",
       "      <th>time_window</th>\n",
       "      <th>tweets_url_token</th>\n",
       "      <th>cleanData</th>\n",
       "      <th>encode_flag</th>\n",
       "      <th>cluster_label</th>\n",
       "    </tr>\n",
       "  </thead>\n",
       "  <tbody>\n",
       "    <tr>\n",
       "      <th>0</th>\n",
       "      <td>â?¨ â?¢Â·Ì«â?¢ prÎ¹nceÑ?Ñ? peacÐ½ Ï?Ï?Ï? ð??¿</td>\n",
       "      <td>25. Cannabis Microbiologist . Casual Streamer....</td>\n",
       "      <td>1</td>\n",
       "      <td>New York, USA</td>\n",
       "      <td>depressed_user_46</td>\n",
       "      <td>0.0</td>\n",
       "      <td>8/12/2020 0:00</td>\n",
       "      <td>@Trunks420910 He does but we keep him mostly c...</td>\n",
       "      <td>lextaliones_</td>\n",
       "      <td>1.0</td>\n",
       "      <td>2</td>\n",
       "      <td>2020-08-12 00:00</td>\n",
       "      <td>8</td>\n",
       "      <td>@Trunks420910 He does but we keep him mostly c...</td>\n",
       "      <td>he does but we keep him mostly clipped lol he ...</td>\n",
       "      <td>8</td>\n",
       "      <td>2</td>\n",
       "    </tr>\n",
       "    <tr>\n",
       "      <th>1</th>\n",
       "      <td>ala anasaiaðŸ¦‹</td>\n",
       "      <td>saia like say-a lotðŸ™ˆ| the â€œ+â€� in lbgtq+...</td>\n",
       "      <td>1</td>\n",
       "      <td>new mexico, usa</td>\n",
       "      <td>depressed_user_6</td>\n",
       "      <td>0.0</td>\n",
       "      <td>08-12-2020 00:03</td>\n",
       "      <td>@MarielaBaca6 period sis, thatâ€™s ENERGY</td>\n",
       "      <td>anasaia7</td>\n",
       "      <td>1.0</td>\n",
       "      <td>1</td>\n",
       "      <td>2020-08-12 00:03</td>\n",
       "      <td>8</td>\n",
       "      <td>@MarielaBaca6 period sis, thatâ€™s ENERGY</td>\n",
       "      <td>period sis  that   s energy</td>\n",
       "      <td>8</td>\n",
       "      <td>2</td>\n",
       "    </tr>\n",
       "    <tr>\n",
       "      <th>2</th>\n",
       "      <td>ipickuppennies</td>\n",
       "      <td>Disability, frugality and other life adventure...</td>\n",
       "      <td>1</td>\n",
       "      <td>Phoenix, AZ</td>\n",
       "      <td>depressed_user_32</td>\n",
       "      <td>0.0</td>\n",
       "      <td>8/12/2020 0:04</td>\n",
       "      <td>@SuperBocchi @CoachJoeHart And what area of th...</td>\n",
       "      <td>ipickuppennies</td>\n",
       "      <td>1.0</td>\n",
       "      <td>2</td>\n",
       "      <td>2020-08-12 00:04</td>\n",
       "      <td>8</td>\n",
       "      <td>@SuperBocchi @CoachJoeHart And what area of th...</td>\n",
       "      <td>and what area of the country so you live in  i...</td>\n",
       "      <td>8</td>\n",
       "      <td>0</td>\n",
       "    </tr>\n",
       "    <tr>\n",
       "      <th>3</th>\n",
       "      <td>PIXIE??GYARU??</td>\n",
       "      <td>??THEY/SHE??MINORS, DNI??SOUL SUCKIN' FAIRY??A...</td>\n",
       "      <td>2</td>\n",
       "      <td>??CASH APP ?? $PIXIEGYARU ??</td>\n",
       "      <td>depressed_user_65</td>\n",
       "      <td>0.0</td>\n",
       "      <td>08-12-2020 00:04</td>\n",
       "      <td>With all these bizarre events occuring togethe...</td>\n",
       "      <td>pixiegyaru</td>\n",
       "      <td>1.0</td>\n",
       "      <td>1</td>\n",
       "      <td>2020-08-12 00:04</td>\n",
       "      <td>8</td>\n",
       "      <td>With all these bizarre events occuring togethe...</td>\n",
       "      <td>with all these bizarre events occuring togethe...</td>\n",
       "      <td>8</td>\n",
       "      <td>2</td>\n",
       "    </tr>\n",
       "    <tr>\n",
       "      <th>4</th>\n",
       "      <td>ala anasaiaðŸ¦‹</td>\n",
       "      <td>saia like say-a lotðŸ™ˆ| the â€œ+â€� in lbgtq+...</td>\n",
       "      <td>2</td>\n",
       "      <td>new mexico, usa</td>\n",
       "      <td>depressed_user_6</td>\n",
       "      <td>0.0</td>\n",
       "      <td>08-12-2020 00:05</td>\n",
       "      <td>@MarielaBaca6 @ogcamie @allexx_r_ when people(...</td>\n",
       "      <td>anasaia7</td>\n",
       "      <td>1.0</td>\n",
       "      <td>1</td>\n",
       "      <td>2020-08-12 00:05</td>\n",
       "      <td>8</td>\n",
       "      <td>@MarielaBaca6 @ogcamie @allexx_r_ when people(...</td>\n",
       "      <td>when people women  nb gfs included  because an...</td>\n",
       "      <td>8</td>\n",
       "      <td>2</td>\n",
       "    </tr>\n",
       "  </tbody>\n",
       "</table>\n",
       "</div>"
      ],
      "text/plain": [
       "                                     accountname  \\\n",
       "0  â?¨ â?¢Â·Ì«â?¢ prÎ¹nceÑ?Ñ? peacÐ½ Ï?Ï?Ï? ð??¿   \n",
       "1                                ala anasaiaðŸ¦‹   \n",
       "2                                 ipickuppennies   \n",
       "3                                 PIXIE??GYARU??   \n",
       "4                                ala anasaiaðŸ¦‹   \n",
       "\n",
       "                                         description favorite_count  \\\n",
       "0  25. Cannabis Microbiologist . Casual Streamer....              1   \n",
       "1  saia like say-a lotðŸ™ˆ| the â€œ+â€� in lbgtq+...              1   \n",
       "2  Disability, frugality and other life adventure...              1   \n",
       "3  ??THEY/SHE??MINORS, DNI??SOUL SUCKIN' FAIRY??A...              2   \n",
       "4  saia like say-a lotðŸ™ˆ| the â€œ+â€� in lbgtq+...              2   \n",
       "\n",
       "                       location     masked_user_id retweet_count  \\\n",
       "0                 New York, USA  depressed_user_46           0.0   \n",
       "1               new mexico, usa   depressed_user_6           0.0   \n",
       "2                   Phoenix, AZ  depressed_user_32           0.0   \n",
       "3  ??CASH APP ?? $PIXIEGYARU ??  depressed_user_65           0.0   \n",
       "4               new mexico, usa   depressed_user_6           0.0   \n",
       "\n",
       "          timestamp                                             tweets  \\\n",
       "0    8/12/2020 0:00  @Trunks420910 He does but we keep him mostly c...   \n",
       "1  08-12-2020 00:03          @MarielaBaca6 period sis, thatâ€™s ENERGY   \n",
       "2    8/12/2020 0:04  @SuperBocchi @CoachJoeHart And what area of th...   \n",
       "3  08-12-2020 00:04  With all these bizarre events occuring togethe...   \n",
       "4  08-12-2020 00:05  @MarielaBaca6 @ogcamie @allexx_r_ when people(...   \n",
       "\n",
       "      twittername  user_type  format          new_date  time_window  \\\n",
       "0    lextaliones_        1.0       2  2020-08-12 00:00            8   \n",
       "1        anasaia7        1.0       1  2020-08-12 00:03            8   \n",
       "2  ipickuppennies        1.0       2  2020-08-12 00:04            8   \n",
       "3      pixiegyaru        1.0       1  2020-08-12 00:04            8   \n",
       "4        anasaia7        1.0       1  2020-08-12 00:05            8   \n",
       "\n",
       "                                    tweets_url_token  \\\n",
       "0  @Trunks420910 He does but we keep him mostly c...   \n",
       "1          @MarielaBaca6 period sis, thatâ€™s ENERGY   \n",
       "2  @SuperBocchi @CoachJoeHart And what area of th...   \n",
       "3  With all these bizarre events occuring togethe...   \n",
       "4  @MarielaBaca6 @ogcamie @allexx_r_ when people(...   \n",
       "\n",
       "                                           cleanData  encode_flag  \\\n",
       "0  he does but we keep him mostly clipped lol he ...            8   \n",
       "1                        period sis  that   s energy            8   \n",
       "2  and what area of the country so you live in  i...            8   \n",
       "3  with all these bizarre events occuring togethe...            8   \n",
       "4  when people women  nb gfs included  because an...            8   \n",
       "\n",
       "   cluster_label  \n",
       "0              2  \n",
       "1              2  \n",
       "2              0  \n",
       "3              2  \n",
       "4              2  "
      ]
     },
     "execution_count": 316,
     "metadata": {},
     "output_type": "execute_result"
    }
   ],
   "source": [
    "depressed_dataset_with_labels.head()"
   ]
  },
  {
   "cell_type": "code",
   "execution_count": 317,
   "metadata": {},
   "outputs": [
    {
     "data": {
      "text/plain": [
       "Index(['accountname', 'description', 'favorite_count', 'location',\n",
       "       'masked_user_id', 'retweet_count', 'timestamp', 'tweets', 'twittername',\n",
       "       'user_type', 'format', 'new_date', 'time_window', 'tweets_url_token',\n",
       "       'cleanData', 'encode_flag', 'cluster_label'],\n",
       "      dtype='object')"
      ]
     },
     "execution_count": 317,
     "metadata": {},
     "output_type": "execute_result"
    }
   ],
   "source": [
    "depressed_dataset_with_labels.columns"
   ]
  },
  {
   "cell_type": "code",
   "execution_count": 318,
   "metadata": {},
   "outputs": [],
   "source": [
    "writeColumns = ['masked_user_id','new_date', 'time_window','cleanData','cluster_label']"
   ]
  },
  {
   "cell_type": "code",
   "execution_count": 319,
   "metadata": {},
   "outputs": [],
   "source": [
    "output_filename = \"depTweets_window_8_kmeans_withLabel.csv\""
   ]
  },
  {
   "cell_type": "code",
   "execution_count": 320,
   "metadata": {},
   "outputs": [],
   "source": [
    "depressed_dataset_with_labels.to_csv(os.path.join(r\"D:\\Workspace\\OVGU\\SM_Depression\\src\\time_window\\kmeans_cluster\", output_filename),encoding=\"utf-8\",columns = writeColumns,index=False, date_format='%Y-%m-%d %H:%M')"
   ]
  },
  {
   "cell_type": "code",
   "execution_count": 321,
   "metadata": {},
   "outputs": [
    {
     "data": {
      "text/plain": [
       "2    4675\n",
       "3    1513\n",
       "0    1078\n",
       "1     763\n",
       "4     249\n",
       "Name: cluster_label, dtype: int64"
      ]
     },
     "execution_count": 321,
     "metadata": {},
     "output_type": "execute_result"
    }
   ],
   "source": [
    "depressed_dataset_with_labels.cluster_label.value_counts()"
   ]
  },
  {
   "cell_type": "code",
   "execution_count": 322,
   "metadata": {},
   "outputs": [],
   "source": [
    "del depressed_data_embed_flag,depressed_data_embedfile,depressed_dataset_with_labels,depressed_embeddings"
   ]
  },
  {
   "cell_type": "code",
   "execution_count": null,
   "metadata": {},
   "outputs": [],
   "source": []
  },
  {
   "cell_type": "markdown",
   "metadata": {},
   "source": [
    "**To check if all tweets are embedded and their corresponding embeddings are available - Time Window 9**"
   ]
  },
  {
   "cell_type": "code",
   "execution_count": 323,
   "metadata": {},
   "outputs": [],
   "source": [
    "\n",
    "\n",
    "depressed_data_embedfile = open(\"D:\\Workspace\\OVGU\\SM_Depression\\scripts\\embeddings_sentences\\depressed_dataset_9_embedding.pkl\",\"rb\")\n",
    "\n",
    "depressed_data_embedfile = pickle.load(depressed_data_embedfile)\n",
    "\n",
    "embed_value = 9"
   ]
  },
  {
   "cell_type": "code",
   "execution_count": 324,
   "metadata": {},
   "outputs": [
    {
     "data": {
      "text/plain": [
       "7675"
      ]
     },
     "execution_count": 324,
     "metadata": {},
     "output_type": "execute_result"
    }
   ],
   "source": [
    "len(depressed_data_embedfile.keys())"
   ]
  },
  {
   "cell_type": "code",
   "execution_count": 325,
   "metadata": {},
   "outputs": [],
   "source": [
    "depressed_data_embedfile = OrderedDict(depressed_data_embedfile)"
   ]
  },
  {
   "cell_type": "code",
   "execution_count": 326,
   "metadata": {},
   "outputs": [],
   "source": [
    "depressed_data_embed_flag = {key:int(embed_value) for key, value in depressed_data_embedfile.items()}"
   ]
  },
  {
   "cell_type": "code",
   "execution_count": 327,
   "metadata": {},
   "outputs": [
    {
     "data": {
      "text/plain": [
       "7675"
      ]
     },
     "execution_count": 327,
     "metadata": {},
     "output_type": "execute_result"
    }
   ],
   "source": [
    "len(depressed_data_embed_flag.keys())"
   ]
  },
  {
   "cell_type": "code",
   "execution_count": 328,
   "metadata": {},
   "outputs": [
    {
     "data": {
      "text/plain": [
       "8394"
      ]
     },
     "execution_count": 328,
     "metadata": {},
     "output_type": "execute_result"
    }
   ],
   "source": [
    "len(depressed_dataset_9)"
   ]
  },
  {
   "cell_type": "code",
   "execution_count": 329,
   "metadata": {},
   "outputs": [
    {
     "name": "stderr",
     "output_type": "stream",
     "text": [
      "D:\\Softwares\\Anaconda\\lib\\site-packages\\ipykernel_launcher.py:1: SettingWithCopyWarning: \n",
      "A value is trying to be set on a copy of a slice from a DataFrame.\n",
      "Try using .loc[row_indexer,col_indexer] = value instead\n",
      "\n",
      "See the caveats in the documentation: https://pandas.pydata.org/pandas-docs/stable/user_guide/indexing.html#returning-a-view-versus-a-copy\n",
      "  \"\"\"Entry point for launching an IPython kernel.\n"
     ]
    }
   ],
   "source": [
    "depressed_dataset_9[\"encode_flag\"] = depressed_dataset_9[\"cleanData\"].apply(lambda x: depressed_data_embed_flag.get(x))\n"
   ]
  },
  {
   "cell_type": "code",
   "execution_count": 330,
   "metadata": {},
   "outputs": [
    {
     "data": {
      "text/plain": [
       "9    8394\n",
       "Name: encode_flag, dtype: int64"
      ]
     },
     "execution_count": 330,
     "metadata": {},
     "output_type": "execute_result"
    }
   ],
   "source": [
    "depressed_dataset_9.encode_flag.value_counts()"
   ]
  },
  {
   "cell_type": "code",
   "execution_count": 331,
   "metadata": {},
   "outputs": [
    {
     "data": {
      "text/plain": [
       "7675"
      ]
     },
     "execution_count": 331,
     "metadata": {},
     "output_type": "execute_result"
    }
   ],
   "source": [
    "depressed_dataset_9.cleanData.nunique()"
   ]
  },
  {
   "cell_type": "markdown",
   "metadata": {},
   "source": [
    "**Clustering on Time window 9 dataset**"
   ]
  },
  {
   "cell_type": "markdown",
   "metadata": {},
   "source": [
    "**Approach 1 - kMeans**"
   ]
  },
  {
   "cell_type": "code",
   "execution_count": 332,
   "metadata": {},
   "outputs": [],
   "source": [
    "from sklearn.cluster import KMeans\n",
    "from yellowbrick.cluster import KElbowVisualizer"
   ]
  },
  {
   "cell_type": "code",
   "execution_count": 333,
   "metadata": {
    "scrolled": true
   },
   "outputs": [
    {
     "data": {
      "text/plain": [
       "7675"
      ]
     },
     "execution_count": 333,
     "metadata": {},
     "output_type": "execute_result"
    }
   ],
   "source": [
    "len(list(depressed_data_embedfile.values()))"
   ]
  },
  {
   "cell_type": "code",
   "execution_count": 334,
   "metadata": {},
   "outputs": [],
   "source": [
    "depressed_embeddings = np.array(list(depressed_data_embedfile.values()))"
   ]
  },
  {
   "cell_type": "code",
   "execution_count": 335,
   "metadata": {},
   "outputs": [
    {
     "name": "stderr",
     "output_type": "stream",
     "text": [
      "D:\\Softwares\\Anaconda\\lib\\site-packages\\sklearn\\cluster\\_kmeans.py:939: FutureWarning: 'n_jobs' was deprecated in version 0.23 and will be removed in 0.25.\n",
      "  \" removed in 0.25.\", FutureWarning)\n",
      "D:\\Softwares\\Anaconda\\lib\\site-packages\\sklearn\\cluster\\_kmeans.py:939: FutureWarning: 'n_jobs' was deprecated in version 0.23 and will be removed in 0.25.\n",
      "  \" removed in 0.25.\", FutureWarning)\n",
      "D:\\Softwares\\Anaconda\\lib\\site-packages\\sklearn\\cluster\\_kmeans.py:939: FutureWarning: 'n_jobs' was deprecated in version 0.23 and will be removed in 0.25.\n",
      "  \" removed in 0.25.\", FutureWarning)\n",
      "D:\\Softwares\\Anaconda\\lib\\site-packages\\sklearn\\cluster\\_kmeans.py:939: FutureWarning: 'n_jobs' was deprecated in version 0.23 and will be removed in 0.25.\n",
      "  \" removed in 0.25.\", FutureWarning)\n",
      "D:\\Softwares\\Anaconda\\lib\\site-packages\\sklearn\\cluster\\_kmeans.py:939: FutureWarning: 'n_jobs' was deprecated in version 0.23 and will be removed in 0.25.\n",
      "  \" removed in 0.25.\", FutureWarning)\n",
      "D:\\Softwares\\Anaconda\\lib\\site-packages\\sklearn\\cluster\\_kmeans.py:939: FutureWarning: 'n_jobs' was deprecated in version 0.23 and will be removed in 0.25.\n",
      "  \" removed in 0.25.\", FutureWarning)\n",
      "D:\\Softwares\\Anaconda\\lib\\site-packages\\sklearn\\cluster\\_kmeans.py:939: FutureWarning: 'n_jobs' was deprecated in version 0.23 and will be removed in 0.25.\n",
      "  \" removed in 0.25.\", FutureWarning)\n",
      "D:\\Softwares\\Anaconda\\lib\\site-packages\\sklearn\\cluster\\_kmeans.py:939: FutureWarning: 'n_jobs' was deprecated in version 0.23 and will be removed in 0.25.\n",
      "  \" removed in 0.25.\", FutureWarning)\n",
      "D:\\Softwares\\Anaconda\\lib\\site-packages\\sklearn\\cluster\\_kmeans.py:939: FutureWarning: 'n_jobs' was deprecated in version 0.23 and will be removed in 0.25.\n",
      "  \" removed in 0.25.\", FutureWarning)\n"
     ]
    },
    {
     "data": {
      "image/png": "[encoded data removed]",
      "text/plain": [
       "<Figure size 576x396 with 2 Axes>"
      ]
     },
     "metadata": {},
     "output_type": "display_data"
    },
    {
     "data": {
      "text/plain": [
       "<matplotlib.axes._subplots.AxesSubplot at 0x15eb458bfc8>"
      ]
     },
     "execution_count": 335,
     "metadata": {},
     "output_type": "execute_result"
    }
   ],
   "source": [
    "model = KMeans(init='k-means++', n_jobs=4)\n",
    "visualizer = KElbowVisualizer(model, k=(2,11))\n",
    "\n",
    "visualizer.fit(depressed_embeddings)    \n",
    "visualizer.show()  "
   ]
  },
  {
   "cell_type": "code",
   "execution_count": 336,
   "metadata": {},
   "outputs": [
    {
     "name": "stderr",
     "output_type": "stream",
     "text": [
      "D:\\Softwares\\Anaconda\\lib\\site-packages\\sklearn\\cluster\\_kmeans.py:939: FutureWarning: 'n_jobs' was deprecated in version 0.23 and will be removed in 0.25.\n",
      "  \" removed in 0.25.\", FutureWarning)\n"
     ]
    }
   ],
   "source": [
    "kmeans = KMeans(n_clusters=5,init='k-means++', n_jobs=4)\n",
    "kmeans = kmeans.fit(depressed_embeddings)"
   ]
  },
  {
   "cell_type": "code",
   "execution_count": 337,
   "metadata": {},
   "outputs": [
    {
     "data": {
      "text/plain": [
       "7675"
      ]
     },
     "execution_count": 337,
     "metadata": {},
     "output_type": "execute_result"
    }
   ],
   "source": [
    "kmeans_labels = kmeans.labels_\n",
    "\n",
    "len(kmeans_labels)"
   ]
  },
  {
   "cell_type": "code",
   "execution_count": 338,
   "metadata": {},
   "outputs": [],
   "source": [
    "tweet_label_df = pd.DataFrame()\n",
    "tweet_label_df['cleanData'] = depressed_data_embedfile.keys()\n",
    "tweet_label_df['cluster_label'] = kmeans_labels"
   ]
  },
  {
   "cell_type": "code",
   "execution_count": 339,
   "metadata": {},
   "outputs": [
    {
     "data": {
      "text/html": [
       "<div>\n",
       "<style scoped>\n",
       "    .dataframe tbody tr th:only-of-type {\n",
       "        vertical-align: middle;\n",
       "    }\n",
       "\n",
       "    .dataframe tbody tr th {\n",
       "        vertical-align: top;\n",
       "    }\n",
       "\n",
       "    .dataframe thead th {\n",
       "        text-align: right;\n",
       "    }\n",
       "</style>\n",
       "<table border=\"1\" class=\"dataframe\">\n",
       "  <thead>\n",
       "    <tr style=\"text-align: right;\">\n",
       "      <th></th>\n",
       "      <th>cleanData</th>\n",
       "      <th>cluster_label</th>\n",
       "    </tr>\n",
       "  </thead>\n",
       "  <tbody>\n",
       "    <tr>\n",
       "      <th>0</th>\n",
       "      <td>713 burned already  you know what  i   m happy...</td>\n",
       "      <td>0</td>\n",
       "    </tr>\n",
       "    <tr>\n",
       "      <th>1</th>\n",
       "      <td>healing and rediscovering myself</td>\n",
       "      <td>1</td>\n",
       "    </tr>\n",
       "    <tr>\n",
       "      <th>2</th>\n",
       "      <td>that s so cute</td>\n",
       "      <td>1</td>\n",
       "    </tr>\n",
       "    <tr>\n",
       "      <th>3</th>\n",
       "      <td>i don   t believe it either lmao</td>\n",
       "      <td>1</td>\n",
       "    </tr>\n",
       "    <tr>\n",
       "      <th>4</th>\n",
       "      <td></td>\n",
       "      <td>1</td>\n",
       "    </tr>\n",
       "  </tbody>\n",
       "</table>\n",
       "</div>"
      ],
      "text/plain": [
       "                                           cleanData  cluster_label\n",
       "0  713 burned already  you know what  i   m happy...              0\n",
       "1                 healing and rediscovering myself                1\n",
       "2                                  that s so cute                 1\n",
       "3                   i don   t believe it either lmao              1\n",
       "4                                                                 1"
      ]
     },
     "execution_count": 339,
     "metadata": {},
     "output_type": "execute_result"
    }
   ],
   "source": [
    "tweet_label_df.head()"
   ]
  },
  {
   "cell_type": "code",
   "execution_count": 340,
   "metadata": {},
   "outputs": [
    {
     "data": {
      "text/plain": [
       "1    4134\n",
       "0    1441\n",
       "4    1124\n",
       "3     765\n",
       "2     211\n",
       "Name: cluster_label, dtype: int64"
      ]
     },
     "execution_count": 340,
     "metadata": {},
     "output_type": "execute_result"
    }
   ],
   "source": [
    "tweet_label_df.cluster_label.value_counts()"
   ]
  },
  {
   "cell_type": "code",
   "execution_count": 341,
   "metadata": {},
   "outputs": [],
   "source": [
    "depressed_dataset_with_labels = pd.merge(depressed_dataset_9, tweet_label_df, on='cleanData')"
   ]
  },
  {
   "cell_type": "code",
   "execution_count": 342,
   "metadata": {},
   "outputs": [
    {
     "data": {
      "text/html": [
       "<div>\n",
       "<style scoped>\n",
       "    .dataframe tbody tr th:only-of-type {\n",
       "        vertical-align: middle;\n",
       "    }\n",
       "\n",
       "    .dataframe tbody tr th {\n",
       "        vertical-align: top;\n",
       "    }\n",
       "\n",
       "    .dataframe thead th {\n",
       "        text-align: right;\n",
       "    }\n",
       "</style>\n",
       "<table border=\"1\" class=\"dataframe\">\n",
       "  <thead>\n",
       "    <tr style=\"text-align: right;\">\n",
       "      <th></th>\n",
       "      <th>accountname</th>\n",
       "      <th>description</th>\n",
       "      <th>favorite_count</th>\n",
       "      <th>location</th>\n",
       "      <th>masked_user_id</th>\n",
       "      <th>retweet_count</th>\n",
       "      <th>timestamp</th>\n",
       "      <th>tweets</th>\n",
       "      <th>twittername</th>\n",
       "      <th>user_type</th>\n",
       "      <th>format</th>\n",
       "      <th>new_date</th>\n",
       "      <th>time_window</th>\n",
       "      <th>tweets_url_token</th>\n",
       "      <th>cleanData</th>\n",
       "      <th>encode_flag</th>\n",
       "      <th>cluster_label</th>\n",
       "    </tr>\n",
       "  </thead>\n",
       "  <tbody>\n",
       "    <tr>\n",
       "      <th>0</th>\n",
       "      <td>daisy.</td>\n",
       "      <td>ð�˜�ð�˜„: ð�—²ð�—± ð�˜�ð�˜„ð�˜� ð�—¿ð�—®ð�—»ð�...</td>\n",
       "      <td>1</td>\n",
       "      <td>23 ã€¡ she/her ã€¡ eng/spa</td>\n",
       "      <td>depressed_user_24</td>\n",
       "      <td>0.0</td>\n",
       "      <td>8/19/2020 0:10</td>\n",
       "      <td>713 burned already? you know what, iâ€™m happy...</td>\n",
       "      <td>fluxkcals</td>\n",
       "      <td>1.0</td>\n",
       "      <td>2</td>\n",
       "      <td>2020-08-19 00:10</td>\n",
       "      <td>9</td>\n",
       "      <td>713 burned already? you know what, iâ€™m happy...</td>\n",
       "      <td>713 burned already  you know what  i   m happy...</td>\n",
       "      <td>9</td>\n",
       "      <td>0</td>\n",
       "    </tr>\n",
       "    <tr>\n",
       "      <th>1</th>\n",
       "      <td>DeeJay</td>\n",
       "      <td>Live Like Tomorrow Your Last ð??¤ |NJ| ð??µð??...</td>\n",
       "      <td>0</td>\n",
       "      <td></td>\n",
       "      <td>depressed_user_94</td>\n",
       "      <td>0.0</td>\n",
       "      <td>8/19/2020 0:11</td>\n",
       "      <td>healing and rediscovering myself .</td>\n",
       "      <td>xFuckYaTweetsx</td>\n",
       "      <td>1.0</td>\n",
       "      <td>2</td>\n",
       "      <td>2020-08-19 00:11</td>\n",
       "      <td>9</td>\n",
       "      <td>healing and rediscovering myself .</td>\n",
       "      <td>healing and rediscovering myself</td>\n",
       "      <td>9</td>\n",
       "      <td>1</td>\n",
       "    </tr>\n",
       "    <tr>\n",
       "      <th>2</th>\n",
       "      <td>the giant garf that makes all of da rulez</td>\n",
       "      <td>Spencer, he/him, 23, paranormal and horror ent...</td>\n",
       "      <td>1</td>\n",
       "      <td>vancouver, bc</td>\n",
       "      <td>depressed_user_85</td>\n",
       "      <td>0</td>\n",
       "      <td>8/19/2020 0:12</td>\n",
       "      <td>@michaeIIangdon that's so cute!!!</td>\n",
       "      <td>tinygremlins</td>\n",
       "      <td>1.0</td>\n",
       "      <td>2</td>\n",
       "      <td>2020-08-19 00:12</td>\n",
       "      <td>9</td>\n",
       "      <td>@michaeIIangdon that's so cute!!!</td>\n",
       "      <td>that s so cute</td>\n",
       "      <td>9</td>\n",
       "      <td>1</td>\n",
       "    </tr>\n",
       "    <tr>\n",
       "      <th>3</th>\n",
       "      <td>Jaz</td>\n",
       "      <td>21.                                           ...</td>\n",
       "      <td>1</td>\n",
       "      <td></td>\n",
       "      <td>depressed_user_34</td>\n",
       "      <td>0.0</td>\n",
       "      <td>8/19/2020 0:13</td>\n",
       "      <td>@AlexisLeannXoXo I donâ??t believe it either lmao</td>\n",
       "      <td>Jaazz23</td>\n",
       "      <td>1.0</td>\n",
       "      <td>2</td>\n",
       "      <td>2020-08-19 00:13</td>\n",
       "      <td>9</td>\n",
       "      <td>@AlexisLeannXoXo I donâ??t believe it either lmao</td>\n",
       "      <td>i don   t believe it either lmao</td>\n",
       "      <td>9</td>\n",
       "      <td>1</td>\n",
       "    </tr>\n",
       "    <tr>\n",
       "      <th>4</th>\n",
       "      <td>Eddie Danrith??B L M</td>\n",
       "      <td>eddie/danny??he/him??bard??just a huge dork th...</td>\n",
       "      <td>1</td>\n",
       "      <td></td>\n",
       "      <td>depressed_user_82</td>\n",
       "      <td>0.0</td>\n",
       "      <td>8/19/2020 0:13</td>\n",
       "      <td>@TheOtherMxSella ??????</td>\n",
       "      <td>tadpolecowboy</td>\n",
       "      <td>1.0</td>\n",
       "      <td>2</td>\n",
       "      <td>2020-08-19 00:13</td>\n",
       "      <td>9</td>\n",
       "      <td>@TheOtherMxSella ??????</td>\n",
       "      <td></td>\n",
       "      <td>9</td>\n",
       "      <td>1</td>\n",
       "    </tr>\n",
       "  </tbody>\n",
       "</table>\n",
       "</div>"
      ],
      "text/plain": [
       "                                 accountname  \\\n",
       "0                                     daisy.   \n",
       "1                                     DeeJay   \n",
       "2  the giant garf that makes all of da rulez   \n",
       "3                                        Jaz   \n",
       "4                       Eddie Danrith??B L M   \n",
       "\n",
       "                                         description favorite_count  \\\n",
       "0  ð�˜�ð�˜„: ð�—²ð�—± ð�˜�ð�˜„ð�˜� ð�—¿ð�—®ð�—»ð�...              1   \n",
       "1  Live Like Tomorrow Your Last ð??¤ |NJ| ð??µð??...              0   \n",
       "2  Spencer, he/him, 23, paranormal and horror ent...              1   \n",
       "3  21.                                           ...              1   \n",
       "4  eddie/danny??he/him??bard??just a huge dork th...              1   \n",
       "\n",
       "                     location     masked_user_id retweet_count  \\\n",
       "0  23 ã€¡ she/her ã€¡ eng/spa  depressed_user_24           0.0   \n",
       "1                              depressed_user_94           0.0   \n",
       "2               vancouver, bc  depressed_user_85             0   \n",
       "3                              depressed_user_34           0.0   \n",
       "4                              depressed_user_82           0.0   \n",
       "\n",
       "        timestamp                                             tweets  \\\n",
       "0  8/19/2020 0:10  713 burned already? you know what, iâ€™m happy...   \n",
       "1  8/19/2020 0:11                 healing and rediscovering myself .   \n",
       "2  8/19/2020 0:12                  @michaeIIangdon that's so cute!!!   \n",
       "3  8/19/2020 0:13  @AlexisLeannXoXo I donâ??t believe it either lmao   \n",
       "4  8/19/2020 0:13                            @TheOtherMxSella ??????   \n",
       "\n",
       "      twittername  user_type  format          new_date  time_window  \\\n",
       "0       fluxkcals        1.0       2  2020-08-19 00:10            9   \n",
       "1  xFuckYaTweetsx        1.0       2  2020-08-19 00:11            9   \n",
       "2    tinygremlins        1.0       2  2020-08-19 00:12            9   \n",
       "3         Jaazz23        1.0       2  2020-08-19 00:13            9   \n",
       "4   tadpolecowboy        1.0       2  2020-08-19 00:13            9   \n",
       "\n",
       "                                    tweets_url_token  \\\n",
       "0  713 burned already? you know what, iâ€™m happy...   \n",
       "1                 healing and rediscovering myself .   \n",
       "2                  @michaeIIangdon that's so cute!!!   \n",
       "3  @AlexisLeannXoXo I donâ??t believe it either lmao   \n",
       "4                            @TheOtherMxSella ??????   \n",
       "\n",
       "                                           cleanData  encode_flag  \\\n",
       "0  713 burned already  you know what  i   m happy...            9   \n",
       "1                 healing and rediscovering myself              9   \n",
       "2                                  that s so cute               9   \n",
       "3                   i don   t believe it either lmao            9   \n",
       "4                                                               9   \n",
       "\n",
       "   cluster_label  \n",
       "0              0  \n",
       "1              1  \n",
       "2              1  \n",
       "3              1  \n",
       "4              1  "
      ]
     },
     "execution_count": 342,
     "metadata": {},
     "output_type": "execute_result"
    }
   ],
   "source": [
    "depressed_dataset_with_labels.head()"
   ]
  },
  {
   "cell_type": "code",
   "execution_count": 343,
   "metadata": {},
   "outputs": [
    {
     "data": {
      "text/plain": [
       "Index(['accountname', 'description', 'favorite_count', 'location',\n",
       "       'masked_user_id', 'retweet_count', 'timestamp', 'tweets', 'twittername',\n",
       "       'user_type', 'format', 'new_date', 'time_window', 'tweets_url_token',\n",
       "       'cleanData', 'encode_flag', 'cluster_label'],\n",
       "      dtype='object')"
      ]
     },
     "execution_count": 343,
     "metadata": {},
     "output_type": "execute_result"
    }
   ],
   "source": [
    "depressed_dataset_with_labels.columns"
   ]
  },
  {
   "cell_type": "code",
   "execution_count": 344,
   "metadata": {},
   "outputs": [],
   "source": [
    "writeColumns = ['masked_user_id','new_date', 'time_window','cleanData','cluster_label']"
   ]
  },
  {
   "cell_type": "code",
   "execution_count": 345,
   "metadata": {},
   "outputs": [],
   "source": [
    "output_filename = \"depTweets_window_9_kmeans_withLabel.csv\""
   ]
  },
  {
   "cell_type": "code",
   "execution_count": 346,
   "metadata": {},
   "outputs": [],
   "source": [
    "depressed_dataset_with_labels.to_csv(os.path.join(r\"D:\\Workspace\\OVGU\\SM_Depression\\src\\time_window\\kmeans_cluster\", output_filename),encoding=\"utf-8\",columns = writeColumns,index=False, date_format='%Y-%m-%d %H:%M')"
   ]
  },
  {
   "cell_type": "code",
   "execution_count": 347,
   "metadata": {},
   "outputs": [
    {
     "data": {
      "text/plain": [
       "1    4815\n",
       "0    1452\n",
       "4    1151\n",
       "3     765\n",
       "2     211\n",
       "Name: cluster_label, dtype: int64"
      ]
     },
     "execution_count": 347,
     "metadata": {},
     "output_type": "execute_result"
    }
   ],
   "source": [
    "depressed_dataset_with_labels.cluster_label.value_counts()"
   ]
  },
  {
   "cell_type": "code",
   "execution_count": 348,
   "metadata": {},
   "outputs": [],
   "source": [
    "del depressed_data_embed_flag,depressed_data_embedfile,depressed_dataset_with_labels,depressed_embeddings"
   ]
  },
  {
   "cell_type": "code",
   "execution_count": null,
   "metadata": {},
   "outputs": [],
   "source": []
  },
  {
   "cell_type": "markdown",
   "metadata": {},
   "source": [
    "**To check if all tweets are embedded and their corresponding embeddings are available - Time Window 10**"
   ]
  },
  {
   "cell_type": "code",
   "execution_count": 349,
   "metadata": {},
   "outputs": [],
   "source": [
    "\n",
    "\n",
    "depressed_data_embedfile = open(\"D:\\Workspace\\OVGU\\SM_Depression\\scripts\\embeddings_sentences\\depressed_dataset_10_embedding.pkl\",\"rb\")\n",
    "\n",
    "depressed_data_embedfile = pickle.load(depressed_data_embedfile)\n",
    "\n",
    "embed_value = 10"
   ]
  },
  {
   "cell_type": "code",
   "execution_count": 350,
   "metadata": {},
   "outputs": [
    {
     "data": {
      "text/plain": [
       "5266"
      ]
     },
     "execution_count": 350,
     "metadata": {},
     "output_type": "execute_result"
    }
   ],
   "source": [
    "len(depressed_data_embedfile.keys())"
   ]
  },
  {
   "cell_type": "code",
   "execution_count": 351,
   "metadata": {},
   "outputs": [],
   "source": [
    "depressed_data_embedfile = OrderedDict(depressed_data_embedfile)"
   ]
  },
  {
   "cell_type": "code",
   "execution_count": 352,
   "metadata": {},
   "outputs": [],
   "source": [
    "depressed_data_embed_flag = {key:int(embed_value) for key, value in depressed_data_embedfile.items()}"
   ]
  },
  {
   "cell_type": "code",
   "execution_count": 353,
   "metadata": {},
   "outputs": [
    {
     "data": {
      "text/plain": [
       "5266"
      ]
     },
     "execution_count": 353,
     "metadata": {},
     "output_type": "execute_result"
    }
   ],
   "source": [
    "len(depressed_data_embed_flag.keys())"
   ]
  },
  {
   "cell_type": "code",
   "execution_count": 354,
   "metadata": {},
   "outputs": [
    {
     "data": {
      "text/plain": [
       "5696"
      ]
     },
     "execution_count": 354,
     "metadata": {},
     "output_type": "execute_result"
    }
   ],
   "source": [
    "len(depressed_dataset_10)"
   ]
  },
  {
   "cell_type": "code",
   "execution_count": 355,
   "metadata": {},
   "outputs": [
    {
     "name": "stderr",
     "output_type": "stream",
     "text": [
      "D:\\Softwares\\Anaconda\\lib\\site-packages\\ipykernel_launcher.py:1: SettingWithCopyWarning: \n",
      "A value is trying to be set on a copy of a slice from a DataFrame.\n",
      "Try using .loc[row_indexer,col_indexer] = value instead\n",
      "\n",
      "See the caveats in the documentation: https://pandas.pydata.org/pandas-docs/stable/user_guide/indexing.html#returning-a-view-versus-a-copy\n",
      "  \"\"\"Entry point for launching an IPython kernel.\n"
     ]
    }
   ],
   "source": [
    "depressed_dataset_10[\"encode_flag\"] = depressed_dataset_10[\"cleanData\"].apply(lambda x: depressed_data_embed_flag.get(x))\n"
   ]
  },
  {
   "cell_type": "code",
   "execution_count": 356,
   "metadata": {},
   "outputs": [
    {
     "data": {
      "text/plain": [
       "10    5696\n",
       "Name: encode_flag, dtype: int64"
      ]
     },
     "execution_count": 356,
     "metadata": {},
     "output_type": "execute_result"
    }
   ],
   "source": [
    "depressed_dataset_10.encode_flag.value_counts()"
   ]
  },
  {
   "cell_type": "code",
   "execution_count": 357,
   "metadata": {},
   "outputs": [
    {
     "data": {
      "text/plain": [
       "5266"
      ]
     },
     "execution_count": 357,
     "metadata": {},
     "output_type": "execute_result"
    }
   ],
   "source": [
    "depressed_dataset_10.cleanData.nunique()"
   ]
  },
  {
   "cell_type": "markdown",
   "metadata": {},
   "source": [
    "**Clustering on Time window 10 dataset**"
   ]
  },
  {
   "cell_type": "markdown",
   "metadata": {},
   "source": [
    "**Approach 1 - kMeans**"
   ]
  },
  {
   "cell_type": "code",
   "execution_count": 358,
   "metadata": {},
   "outputs": [],
   "source": [
    "from sklearn.cluster import KMeans\n",
    "from yellowbrick.cluster import KElbowVisualizer"
   ]
  },
  {
   "cell_type": "code",
   "execution_count": 359,
   "metadata": {
    "scrolled": true
   },
   "outputs": [
    {
     "data": {
      "text/plain": [
       "5266"
      ]
     },
     "execution_count": 359,
     "metadata": {},
     "output_type": "execute_result"
    }
   ],
   "source": [
    "len(list(depressed_data_embedfile.values()))"
   ]
  },
  {
   "cell_type": "code",
   "execution_count": 360,
   "metadata": {},
   "outputs": [],
   "source": [
    "depressed_embeddings = np.array(list(depressed_data_embedfile.values()))"
   ]
  },
  {
   "cell_type": "code",
   "execution_count": 361,
   "metadata": {},
   "outputs": [
    {
     "name": "stderr",
     "output_type": "stream",
     "text": [
      "D:\\Softwares\\Anaconda\\lib\\site-packages\\sklearn\\cluster\\_kmeans.py:939: FutureWarning: 'n_jobs' was deprecated in version 0.23 and will be removed in 0.25.\n",
      "  \" removed in 0.25.\", FutureWarning)\n",
      "D:\\Softwares\\Anaconda\\lib\\site-packages\\sklearn\\cluster\\_kmeans.py:939: FutureWarning: 'n_jobs' was deprecated in version 0.23 and will be removed in 0.25.\n",
      "  \" removed in 0.25.\", FutureWarning)\n",
      "D:\\Softwares\\Anaconda\\lib\\site-packages\\sklearn\\cluster\\_kmeans.py:939: FutureWarning: 'n_jobs' was deprecated in version 0.23 and will be removed in 0.25.\n",
      "  \" removed in 0.25.\", FutureWarning)\n",
      "D:\\Softwares\\Anaconda\\lib\\site-packages\\sklearn\\cluster\\_kmeans.py:939: FutureWarning: 'n_jobs' was deprecated in version 0.23 and will be removed in 0.25.\n",
      "  \" removed in 0.25.\", FutureWarning)\n",
      "D:\\Softwares\\Anaconda\\lib\\site-packages\\sklearn\\cluster\\_kmeans.py:939: FutureWarning: 'n_jobs' was deprecated in version 0.23 and will be removed in 0.25.\n",
      "  \" removed in 0.25.\", FutureWarning)\n",
      "D:\\Softwares\\Anaconda\\lib\\site-packages\\sklearn\\cluster\\_kmeans.py:939: FutureWarning: 'n_jobs' was deprecated in version 0.23 and will be removed in 0.25.\n",
      "  \" removed in 0.25.\", FutureWarning)\n",
      "D:\\Softwares\\Anaconda\\lib\\site-packages\\sklearn\\cluster\\_kmeans.py:939: FutureWarning: 'n_jobs' was deprecated in version 0.23 and will be removed in 0.25.\n",
      "  \" removed in 0.25.\", FutureWarning)\n",
      "D:\\Softwares\\Anaconda\\lib\\site-packages\\sklearn\\cluster\\_kmeans.py:939: FutureWarning: 'n_jobs' was deprecated in version 0.23 and will be removed in 0.25.\n",
      "  \" removed in 0.25.\", FutureWarning)\n",
      "D:\\Softwares\\Anaconda\\lib\\site-packages\\sklearn\\cluster\\_kmeans.py:939: FutureWarning: 'n_jobs' was deprecated in version 0.23 and will be removed in 0.25.\n",
      "  \" removed in 0.25.\", FutureWarning)\n"
     ]
    },
    {
     "data": {
      "image/png": "[encoded data removed]",
      "text/plain": [
       "<Figure size 576x396 with 2 Axes>"
      ]
     },
     "metadata": {},
     "output_type": "display_data"
    },
    {
     "data": {
      "text/plain": [
       "<matplotlib.axes._subplots.AxesSubplot at 0x15eb456ff08>"
      ]
     },
     "execution_count": 361,
     "metadata": {},
     "output_type": "execute_result"
    }
   ],
   "source": [
    "model = KMeans(init='k-means++', n_jobs=4)\n",
    "visualizer = KElbowVisualizer(model, k=(2,11))\n",
    "\n",
    "visualizer.fit(depressed_embeddings)    \n",
    "visualizer.show()  "
   ]
  },
  {
   "cell_type": "code",
   "execution_count": 362,
   "metadata": {},
   "outputs": [
    {
     "name": "stderr",
     "output_type": "stream",
     "text": [
      "D:\\Softwares\\Anaconda\\lib\\site-packages\\sklearn\\cluster\\_kmeans.py:939: FutureWarning: 'n_jobs' was deprecated in version 0.23 and will be removed in 0.25.\n",
      "  \" removed in 0.25.\", FutureWarning)\n"
     ]
    }
   ],
   "source": [
    "kmeans = KMeans(n_clusters=5,init='k-means++', n_jobs=4)\n",
    "kmeans = kmeans.fit(depressed_embeddings)"
   ]
  },
  {
   "cell_type": "code",
   "execution_count": 363,
   "metadata": {},
   "outputs": [
    {
     "data": {
      "text/plain": [
       "5266"
      ]
     },
     "execution_count": 363,
     "metadata": {},
     "output_type": "execute_result"
    }
   ],
   "source": [
    "kmeans_labels = kmeans.labels_\n",
    "\n",
    "len(kmeans_labels)"
   ]
  },
  {
   "cell_type": "code",
   "execution_count": 364,
   "metadata": {},
   "outputs": [],
   "source": [
    "tweet_label_df = pd.DataFrame()\n",
    "tweet_label_df['cleanData'] = depressed_data_embedfile.keys()\n",
    "tweet_label_df['cluster_label'] = kmeans_labels"
   ]
  },
  {
   "cell_type": "code",
   "execution_count": 365,
   "metadata": {},
   "outputs": [
    {
     "data": {
      "text/html": [
       "<div>\n",
       "<style scoped>\n",
       "    .dataframe tbody tr th:only-of-type {\n",
       "        vertical-align: middle;\n",
       "    }\n",
       "\n",
       "    .dataframe tbody tr th {\n",
       "        vertical-align: top;\n",
       "    }\n",
       "\n",
       "    .dataframe thead th {\n",
       "        text-align: right;\n",
       "    }\n",
       "</style>\n",
       "<table border=\"1\" class=\"dataframe\">\n",
       "  <thead>\n",
       "    <tr style=\"text-align: right;\">\n",
       "      <th></th>\n",
       "      <th>cleanData</th>\n",
       "      <th>cluster_label</th>\n",
       "    </tr>\n",
       "  </thead>\n",
       "  <tbody>\n",
       "    <tr>\n",
       "      <th>0</th>\n",
       "      <td>me</td>\n",
       "      <td>3</td>\n",
       "    </tr>\n",
       "    <tr>\n",
       "      <th>1</th>\n",
       "      <td>sorry things are so hard right now  i   m glad...</td>\n",
       "      <td>0</td>\n",
       "    </tr>\n",
       "    <tr>\n",
       "      <th>2</th>\n",
       "      <td>enunciation is a killer</td>\n",
       "      <td>3</td>\n",
       "    </tr>\n",
       "    <tr>\n",
       "      <th>3</th>\n",
       "      <td>i think i m finally working through the wave o...</td>\n",
       "      <td>0</td>\n",
       "    </tr>\n",
       "    <tr>\n",
       "      <th>4</th>\n",
       "      <td>oh that would   ve been a good counteroffer</td>\n",
       "      <td>3</td>\n",
       "    </tr>\n",
       "  </tbody>\n",
       "</table>\n",
       "</div>"
      ],
      "text/plain": [
       "                                           cleanData  cluster_label\n",
       "0                                            me                   3\n",
       "1  sorry things are so hard right now  i   m glad...              0\n",
       "2                           enunciation is a killer               3\n",
       "3  i think i m finally working through the wave o...              0\n",
       "4        oh that would   ve been a good counteroffer              3"
      ]
     },
     "execution_count": 365,
     "metadata": {},
     "output_type": "execute_result"
    }
   ],
   "source": [
    "tweet_label_df.head()"
   ]
  },
  {
   "cell_type": "code",
   "execution_count": 366,
   "metadata": {},
   "outputs": [
    {
     "data": {
      "text/plain": [
       "3    2833\n",
       "1    1025\n",
       "0     758\n",
       "4     481\n",
       "2     169\n",
       "Name: cluster_label, dtype: int64"
      ]
     },
     "execution_count": 366,
     "metadata": {},
     "output_type": "execute_result"
    }
   ],
   "source": [
    "tweet_label_df.cluster_label.value_counts()"
   ]
  },
  {
   "cell_type": "code",
   "execution_count": 367,
   "metadata": {},
   "outputs": [],
   "source": [
    "depressed_dataset_with_labels = pd.merge(depressed_dataset_10, tweet_label_df, on='cleanData')"
   ]
  },
  {
   "cell_type": "code",
   "execution_count": 368,
   "metadata": {},
   "outputs": [
    {
     "data": {
      "text/html": [
       "<div>\n",
       "<style scoped>\n",
       "    .dataframe tbody tr th:only-of-type {\n",
       "        vertical-align: middle;\n",
       "    }\n",
       "\n",
       "    .dataframe tbody tr th {\n",
       "        vertical-align: top;\n",
       "    }\n",
       "\n",
       "    .dataframe thead th {\n",
       "        text-align: right;\n",
       "    }\n",
       "</style>\n",
       "<table border=\"1\" class=\"dataframe\">\n",
       "  <thead>\n",
       "    <tr style=\"text-align: right;\">\n",
       "      <th></th>\n",
       "      <th>accountname</th>\n",
       "      <th>description</th>\n",
       "      <th>favorite_count</th>\n",
       "      <th>location</th>\n",
       "      <th>masked_user_id</th>\n",
       "      <th>retweet_count</th>\n",
       "      <th>timestamp</th>\n",
       "      <th>tweets</th>\n",
       "      <th>twittername</th>\n",
       "      <th>user_type</th>\n",
       "      <th>format</th>\n",
       "      <th>new_date</th>\n",
       "      <th>time_window</th>\n",
       "      <th>tweets_url_token</th>\n",
       "      <th>cleanData</th>\n",
       "      <th>encode_flag</th>\n",
       "      <th>cluster_label</th>\n",
       "    </tr>\n",
       "  </thead>\n",
       "  <tbody>\n",
       "    <tr>\n",
       "      <th>0</th>\n",
       "      <td>foldedð???</td>\n",
       "      <td>Dead by Daylight affiliated streamer â?¡ Most ...</td>\n",
       "      <td>1</td>\n",
       "      <td></td>\n",
       "      <td>depressed_user_95</td>\n",
       "      <td>0.0</td>\n",
       "      <td>8/26/2020 0:01</td>\n",
       "      <td>@PapiQuentin_ Me ð?¥º</td>\n",
       "      <td>xofolded</td>\n",
       "      <td>1.0</td>\n",
       "      <td>2</td>\n",
       "      <td>2020-08-26 00:01</td>\n",
       "      <td>10</td>\n",
       "      <td>@PapiQuentin_ Me ð?¥º</td>\n",
       "      <td>me</td>\n",
       "      <td>10</td>\n",
       "      <td>3</td>\n",
       "    </tr>\n",
       "    <tr>\n",
       "      <th>1</th>\n",
       "      <td>ipickuppennies</td>\n",
       "      <td>Disability, frugality and other life adventure...</td>\n",
       "      <td>2</td>\n",
       "      <td>Phoenix, AZ</td>\n",
       "      <td>depressed_user_32</td>\n",
       "      <td>0.0</td>\n",
       "      <td>8/26/2020 0:04</td>\n",
       "      <td>@amandadashpage Sorry things are so hard right...</td>\n",
       "      <td>ipickuppennies</td>\n",
       "      <td>1.0</td>\n",
       "      <td>2</td>\n",
       "      <td>2020-08-26 00:04</td>\n",
       "      <td>10</td>\n",
       "      <td>@amandadashpage Sorry things are so hard right...</td>\n",
       "      <td>sorry things are so hard right now  i   m glad...</td>\n",
       "      <td>10</td>\n",
       "      <td>0</td>\n",
       "    </tr>\n",
       "    <tr>\n",
       "      <th>2</th>\n",
       "      <td>Zero (they/their)</td>\n",
       "      <td>Autistic. ADHD. NB. \\r\\r\\r\\nExtra. Compulsivel...</td>\n",
       "      <td>1</td>\n",
       "      <td></td>\n",
       "      <td>depressed_user_100</td>\n",
       "      <td>0.0</td>\n",
       "      <td>8/26/2020 0:10</td>\n",
       "      <td>@DEITY_OF_CRINGE Enunciation is a killer.</td>\n",
       "      <td>ZeroWrites</td>\n",
       "      <td>1.0</td>\n",
       "      <td>2</td>\n",
       "      <td>2020-08-26 00:10</td>\n",
       "      <td>10</td>\n",
       "      <td>@DEITY_OF_CRINGE Enunciation is a killer.</td>\n",
       "      <td>enunciation is a killer</td>\n",
       "      <td>10</td>\n",
       "      <td>3</td>\n",
       "    </tr>\n",
       "    <tr>\n",
       "      <th>3</th>\n",
       "      <td>Jason Custer, PhD</td>\n",
       "      <td>Rhet/Comp PhD from @fsu_englishdept // Academi...</td>\n",
       "      <td>77</td>\n",
       "      <td>Here and There Along the Echo</td>\n",
       "      <td>depressed_user_35</td>\n",
       "      <td>0.0</td>\n",
       "      <td>8/26/2020 0:11</td>\n",
       "      <td>I think I'm finally working through the wave o...</td>\n",
       "      <td>JasonCusterPhD</td>\n",
       "      <td>1.0</td>\n",
       "      <td>2</td>\n",
       "      <td>2020-08-26 00:11</td>\n",
       "      <td>10</td>\n",
       "      <td>I think I'm finally working through the wave o...</td>\n",
       "      <td>i think i m finally working through the wave o...</td>\n",
       "      <td>10</td>\n",
       "      <td>0</td>\n",
       "    </tr>\n",
       "    <tr>\n",
       "      <th>4</th>\n",
       "      <td>ipickuppennies</td>\n",
       "      <td>Disability, frugality and other life adventure...</td>\n",
       "      <td>2</td>\n",
       "      <td>Phoenix, AZ</td>\n",
       "      <td>depressed_user_32</td>\n",
       "      <td>0.0</td>\n",
       "      <td>8/26/2020 0:12</td>\n",
       "      <td>@dollarrev Oh that wouldâ€™ve been a good coun...</td>\n",
       "      <td>ipickuppennies</td>\n",
       "      <td>1.0</td>\n",
       "      <td>2</td>\n",
       "      <td>2020-08-26 00:12</td>\n",
       "      <td>10</td>\n",
       "      <td>@dollarrev Oh that wouldâ€™ve been a good coun...</td>\n",
       "      <td>oh that would   ve been a good counteroffer</td>\n",
       "      <td>10</td>\n",
       "      <td>3</td>\n",
       "    </tr>\n",
       "  </tbody>\n",
       "</table>\n",
       "</div>"
      ],
      "text/plain": [
       "         accountname                                        description  \\\n",
       "0         foldedð???  Dead by Daylight affiliated streamer â?¡ Most ...   \n",
       "1     ipickuppennies  Disability, frugality and other life adventure...   \n",
       "2  Zero (they/their)  Autistic. ADHD. NB. \\r\\r\\r\\nExtra. Compulsivel...   \n",
       "3  Jason Custer, PhD  Rhet/Comp PhD from @fsu_englishdept // Academi...   \n",
       "4     ipickuppennies  Disability, frugality and other life adventure...   \n",
       "\n",
       "  favorite_count                       location      masked_user_id  \\\n",
       "0              1                                  depressed_user_95   \n",
       "1              2                    Phoenix, AZ   depressed_user_32   \n",
       "2              1                                 depressed_user_100   \n",
       "3             77  Here and There Along the Echo   depressed_user_35   \n",
       "4              2                    Phoenix, AZ   depressed_user_32   \n",
       "\n",
       "  retweet_count       timestamp  \\\n",
       "0           0.0  8/26/2020 0:01   \n",
       "1           0.0  8/26/2020 0:04   \n",
       "2           0.0  8/26/2020 0:10   \n",
       "3           0.0  8/26/2020 0:11   \n",
       "4           0.0  8/26/2020 0:12   \n",
       "\n",
       "                                              tweets     twittername  \\\n",
       "0                              @PapiQuentin_ Me ð?¥º        xofolded   \n",
       "1  @amandadashpage Sorry things are so hard right...  ipickuppennies   \n",
       "2          @DEITY_OF_CRINGE Enunciation is a killer.      ZeroWrites   \n",
       "3  I think I'm finally working through the wave o...  JasonCusterPhD   \n",
       "4  @dollarrev Oh that wouldâ€™ve been a good coun...  ipickuppennies   \n",
       "\n",
       "   user_type  format          new_date  time_window  \\\n",
       "0        1.0       2  2020-08-26 00:01           10   \n",
       "1        1.0       2  2020-08-26 00:04           10   \n",
       "2        1.0       2  2020-08-26 00:10           10   \n",
       "3        1.0       2  2020-08-26 00:11           10   \n",
       "4        1.0       2  2020-08-26 00:12           10   \n",
       "\n",
       "                                    tweets_url_token  \\\n",
       "0                              @PapiQuentin_ Me ð?¥º   \n",
       "1  @amandadashpage Sorry things are so hard right...   \n",
       "2          @DEITY_OF_CRINGE Enunciation is a killer.   \n",
       "3  I think I'm finally working through the wave o...   \n",
       "4  @dollarrev Oh that wouldâ€™ve been a good coun...   \n",
       "\n",
       "                                           cleanData  encode_flag  \\\n",
       "0                                            me                10   \n",
       "1  sorry things are so hard right now  i   m glad...           10   \n",
       "2                           enunciation is a killer            10   \n",
       "3  i think i m finally working through the wave o...           10   \n",
       "4        oh that would   ve been a good counteroffer           10   \n",
       "\n",
       "   cluster_label  \n",
       "0              3  \n",
       "1              0  \n",
       "2              3  \n",
       "3              0  \n",
       "4              3  "
      ]
     },
     "execution_count": 368,
     "metadata": {},
     "output_type": "execute_result"
    }
   ],
   "source": [
    "depressed_dataset_with_labels.head()"
   ]
  },
  {
   "cell_type": "code",
   "execution_count": 369,
   "metadata": {},
   "outputs": [
    {
     "data": {
      "text/plain": [
       "Index(['accountname', 'description', 'favorite_count', 'location',\n",
       "       'masked_user_id', 'retweet_count', 'timestamp', 'tweets', 'twittername',\n",
       "       'user_type', 'format', 'new_date', 'time_window', 'tweets_url_token',\n",
       "       'cleanData', 'encode_flag', 'cluster_label'],\n",
       "      dtype='object')"
      ]
     },
     "execution_count": 369,
     "metadata": {},
     "output_type": "execute_result"
    }
   ],
   "source": [
    "depressed_dataset_with_labels.columns"
   ]
  },
  {
   "cell_type": "code",
   "execution_count": 370,
   "metadata": {},
   "outputs": [],
   "source": [
    "writeColumns = ['masked_user_id','new_date', 'time_window','cleanData','cluster_label']"
   ]
  },
  {
   "cell_type": "code",
   "execution_count": 371,
   "metadata": {},
   "outputs": [],
   "source": [
    "output_filename = \"depTweets_window_10_kmeans_withLabel.csv\""
   ]
  },
  {
   "cell_type": "code",
   "execution_count": 372,
   "metadata": {},
   "outputs": [],
   "source": [
    "depressed_dataset_with_labels.to_csv(os.path.join(r\"D:\\Workspace\\OVGU\\SM_Depression\\src\\time_window\\kmeans_cluster\", output_filename),encoding=\"utf-8\",columns = writeColumns,index=False, date_format='%Y-%m-%d %H:%M')"
   ]
  },
  {
   "cell_type": "code",
   "execution_count": 373,
   "metadata": {},
   "outputs": [
    {
     "data": {
      "text/plain": [
       "3    3219\n",
       "1    1027\n",
       "0     799\n",
       "4     482\n",
       "2     169\n",
       "Name: cluster_label, dtype: int64"
      ]
     },
     "execution_count": 373,
     "metadata": {},
     "output_type": "execute_result"
    }
   ],
   "source": [
    "depressed_dataset_with_labels.cluster_label.value_counts()"
   ]
  },
  {
   "cell_type": "code",
   "execution_count": 374,
   "metadata": {},
   "outputs": [],
   "source": [
    "del depressed_data_embed_flag,depressed_data_embedfile,depressed_dataset_with_labels,depressed_embeddings"
   ]
  },
  {
   "cell_type": "code",
   "execution_count": null,
   "metadata": {},
   "outputs": [],
   "source": []
  },
  {
   "cell_type": "markdown",
   "metadata": {},
   "source": [
    "**To check if all tweets are embedded and their corresponding embeddings are available - Time Window 11**"
   ]
  },
  {
   "cell_type": "code",
   "execution_count": 375,
   "metadata": {},
   "outputs": [],
   "source": [
    "\n",
    "\n",
    "depressed_data_embedfile = open(\"D:\\Workspace\\OVGU\\SM_Depression\\scripts\\embeddings_sentences\\depressed_dataset_11_embedding.pkl\",\"rb\")\n",
    "\n",
    "depressed_data_embedfile = pickle.load(depressed_data_embedfile)\n",
    "\n",
    "embed_value = 11"
   ]
  },
  {
   "cell_type": "code",
   "execution_count": 376,
   "metadata": {},
   "outputs": [
    {
     "data": {
      "text/plain": [
       "4125"
      ]
     },
     "execution_count": 376,
     "metadata": {},
     "output_type": "execute_result"
    }
   ],
   "source": [
    "len(depressed_data_embedfile.keys())"
   ]
  },
  {
   "cell_type": "code",
   "execution_count": 377,
   "metadata": {},
   "outputs": [],
   "source": [
    "depressed_data_embedfile = OrderedDict(depressed_data_embedfile)"
   ]
  },
  {
   "cell_type": "code",
   "execution_count": 378,
   "metadata": {},
   "outputs": [],
   "source": [
    "depressed_data_embed_flag = {key:int(embed_value) for key, value in depressed_data_embedfile.items()}"
   ]
  },
  {
   "cell_type": "code",
   "execution_count": 379,
   "metadata": {},
   "outputs": [
    {
     "data": {
      "text/plain": [
       "4125"
      ]
     },
     "execution_count": 379,
     "metadata": {},
     "output_type": "execute_result"
    }
   ],
   "source": [
    "len(depressed_data_embed_flag.keys())"
   ]
  },
  {
   "cell_type": "code",
   "execution_count": 380,
   "metadata": {},
   "outputs": [
    {
     "data": {
      "text/plain": [
       "4408"
      ]
     },
     "execution_count": 380,
     "metadata": {},
     "output_type": "execute_result"
    }
   ],
   "source": [
    "len(depressed_dataset_11)"
   ]
  },
  {
   "cell_type": "code",
   "execution_count": 381,
   "metadata": {},
   "outputs": [
    {
     "name": "stderr",
     "output_type": "stream",
     "text": [
      "D:\\Softwares\\Anaconda\\lib\\site-packages\\ipykernel_launcher.py:1: SettingWithCopyWarning: \n",
      "A value is trying to be set on a copy of a slice from a DataFrame.\n",
      "Try using .loc[row_indexer,col_indexer] = value instead\n",
      "\n",
      "See the caveats in the documentation: https://pandas.pydata.org/pandas-docs/stable/user_guide/indexing.html#returning-a-view-versus-a-copy\n",
      "  \"\"\"Entry point for launching an IPython kernel.\n"
     ]
    }
   ],
   "source": [
    "depressed_dataset_11[\"encode_flag\"] = depressed_dataset_11[\"cleanData\"].apply(lambda x: depressed_data_embed_flag.get(x))\n"
   ]
  },
  {
   "cell_type": "code",
   "execution_count": 382,
   "metadata": {},
   "outputs": [
    {
     "data": {
      "text/plain": [
       "11    4408\n",
       "Name: encode_flag, dtype: int64"
      ]
     },
     "execution_count": 382,
     "metadata": {},
     "output_type": "execute_result"
    }
   ],
   "source": [
    "depressed_dataset_11.encode_flag.value_counts()"
   ]
  },
  {
   "cell_type": "code",
   "execution_count": 383,
   "metadata": {},
   "outputs": [
    {
     "data": {
      "text/plain": [
       "4125"
      ]
     },
     "execution_count": 383,
     "metadata": {},
     "output_type": "execute_result"
    }
   ],
   "source": [
    "depressed_dataset_11.cleanData.nunique()"
   ]
  },
  {
   "cell_type": "markdown",
   "metadata": {},
   "source": [
    "**Clustering on Time window 11 dataset**"
   ]
  },
  {
   "cell_type": "markdown",
   "metadata": {},
   "source": [
    "**Approach 1 - kMeans**"
   ]
  },
  {
   "cell_type": "code",
   "execution_count": 384,
   "metadata": {},
   "outputs": [],
   "source": [
    "from sklearn.cluster import KMeans\n",
    "from yellowbrick.cluster import KElbowVisualizer"
   ]
  },
  {
   "cell_type": "code",
   "execution_count": 385,
   "metadata": {
    "scrolled": true
   },
   "outputs": [
    {
     "data": {
      "text/plain": [
       "4125"
      ]
     },
     "execution_count": 385,
     "metadata": {},
     "output_type": "execute_result"
    }
   ],
   "source": [
    "len(list(depressed_data_embedfile.values()))"
   ]
  },
  {
   "cell_type": "code",
   "execution_count": 386,
   "metadata": {},
   "outputs": [],
   "source": [
    "depressed_embeddings = np.array(list(depressed_data_embedfile.values()))"
   ]
  },
  {
   "cell_type": "code",
   "execution_count": 387,
   "metadata": {},
   "outputs": [
    {
     "name": "stderr",
     "output_type": "stream",
     "text": [
      "D:\\Softwares\\Anaconda\\lib\\site-packages\\sklearn\\cluster\\_kmeans.py:939: FutureWarning: 'n_jobs' was deprecated in version 0.23 and will be removed in 0.25.\n",
      "  \" removed in 0.25.\", FutureWarning)\n",
      "D:\\Softwares\\Anaconda\\lib\\site-packages\\sklearn\\cluster\\_kmeans.py:939: FutureWarning: 'n_jobs' was deprecated in version 0.23 and will be removed in 0.25.\n",
      "  \" removed in 0.25.\", FutureWarning)\n",
      "D:\\Softwares\\Anaconda\\lib\\site-packages\\sklearn\\cluster\\_kmeans.py:939: FutureWarning: 'n_jobs' was deprecated in version 0.23 and will be removed in 0.25.\n",
      "  \" removed in 0.25.\", FutureWarning)\n",
      "D:\\Softwares\\Anaconda\\lib\\site-packages\\sklearn\\cluster\\_kmeans.py:939: FutureWarning: 'n_jobs' was deprecated in version 0.23 and will be removed in 0.25.\n",
      "  \" removed in 0.25.\", FutureWarning)\n",
      "D:\\Softwares\\Anaconda\\lib\\site-packages\\sklearn\\cluster\\_kmeans.py:939: FutureWarning: 'n_jobs' was deprecated in version 0.23 and will be removed in 0.25.\n",
      "  \" removed in 0.25.\", FutureWarning)\n",
      "D:\\Softwares\\Anaconda\\lib\\site-packages\\sklearn\\cluster\\_kmeans.py:939: FutureWarning: 'n_jobs' was deprecated in version 0.23 and will be removed in 0.25.\n",
      "  \" removed in 0.25.\", FutureWarning)\n",
      "D:\\Softwares\\Anaconda\\lib\\site-packages\\sklearn\\cluster\\_kmeans.py:939: FutureWarning: 'n_jobs' was deprecated in version 0.23 and will be removed in 0.25.\n",
      "  \" removed in 0.25.\", FutureWarning)\n",
      "D:\\Softwares\\Anaconda\\lib\\site-packages\\sklearn\\cluster\\_kmeans.py:939: FutureWarning: 'n_jobs' was deprecated in version 0.23 and will be removed in 0.25.\n",
      "  \" removed in 0.25.\", FutureWarning)\n",
      "D:\\Softwares\\Anaconda\\lib\\site-packages\\sklearn\\cluster\\_kmeans.py:939: FutureWarning: 'n_jobs' was deprecated in version 0.23 and will be removed in 0.25.\n",
      "  \" removed in 0.25.\", FutureWarning)\n"
     ]
    },
    {
     "data": {
      "image/png": "[encoded data removed]",
      "text/plain": [
       "<Figure size 576x396 with 2 Axes>"
      ]
     },
     "metadata": {},
     "output_type": "display_data"
    },
    {
     "data": {
      "text/plain": [
       "<matplotlib.axes._subplots.AxesSubplot at 0x15eb4718748>"
      ]
     },
     "execution_count": 387,
     "metadata": {},
     "output_type": "execute_result"
    }
   ],
   "source": [
    "model = KMeans(init='k-means++', n_jobs=4)\n",
    "visualizer = KElbowVisualizer(model, k=(2,11))\n",
    "\n",
    "visualizer.fit(depressed_embeddings)    \n",
    "visualizer.show()  "
   ]
  },
  {
   "cell_type": "code",
   "execution_count": 388,
   "metadata": {},
   "outputs": [
    {
     "name": "stderr",
     "output_type": "stream",
     "text": [
      "D:\\Softwares\\Anaconda\\lib\\site-packages\\sklearn\\cluster\\_kmeans.py:939: FutureWarning: 'n_jobs' was deprecated in version 0.23 and will be removed in 0.25.\n",
      "  \" removed in 0.25.\", FutureWarning)\n"
     ]
    }
   ],
   "source": [
    "kmeans = KMeans(n_clusters=5,init='k-means++', n_jobs=4)\n",
    "kmeans = kmeans.fit(depressed_embeddings)"
   ]
  },
  {
   "cell_type": "code",
   "execution_count": 389,
   "metadata": {},
   "outputs": [
    {
     "data": {
      "text/plain": [
       "4125"
      ]
     },
     "execution_count": 389,
     "metadata": {},
     "output_type": "execute_result"
    }
   ],
   "source": [
    "kmeans_labels = kmeans.labels_\n",
    "\n",
    "len(kmeans_labels)"
   ]
  },
  {
   "cell_type": "code",
   "execution_count": 390,
   "metadata": {},
   "outputs": [],
   "source": [
    "tweet_label_df = pd.DataFrame()\n",
    "tweet_label_df['cleanData'] = depressed_data_embedfile.keys()\n",
    "tweet_label_df['cluster_label'] = kmeans_labels"
   ]
  },
  {
   "cell_type": "code",
   "execution_count": 391,
   "metadata": {},
   "outputs": [
    {
     "data": {
      "text/html": [
       "<div>\n",
       "<style scoped>\n",
       "    .dataframe tbody tr th:only-of-type {\n",
       "        vertical-align: middle;\n",
       "    }\n",
       "\n",
       "    .dataframe tbody tr th {\n",
       "        vertical-align: top;\n",
       "    }\n",
       "\n",
       "    .dataframe thead th {\n",
       "        text-align: right;\n",
       "    }\n",
       "</style>\n",
       "<table border=\"1\" class=\"dataframe\">\n",
       "  <thead>\n",
       "    <tr style=\"text-align: right;\">\n",
       "      <th></th>\n",
       "      <th>cleanData</th>\n",
       "      <th>cluster_label</th>\n",
       "    </tr>\n",
       "  </thead>\n",
       "  <tbody>\n",
       "    <tr>\n",
       "      <th>0</th>\n",
       "      <td>if you are a minor  you need to stay out of ns...</td>\n",
       "      <td>4</td>\n",
       "    </tr>\n",
       "    <tr>\n",
       "      <th>1</th>\n",
       "      <td>long</td>\n",
       "      <td>4</td>\n",
       "    </tr>\n",
       "    <tr>\n",
       "      <th>2</th>\n",
       "      <td>i am just  so tired  [url]</td>\n",
       "      <td>2</td>\n",
       "    </tr>\n",
       "    <tr>\n",
       "      <th>3</th>\n",
       "      <td>do it</td>\n",
       "      <td>4</td>\n",
       "    </tr>\n",
       "    <tr>\n",
       "      <th>4</th>\n",
       "      <td>reminder about this because this isn t fucking...</td>\n",
       "      <td>4</td>\n",
       "    </tr>\n",
       "  </tbody>\n",
       "</table>\n",
       "</div>"
      ],
      "text/plain": [
       "                                           cleanData  cluster_label\n",
       "0  if you are a minor  you need to stay out of ns...              4\n",
       "1                                               long              4\n",
       "2                         i am just  so tired  [url]              2\n",
       "3                                              do it              4\n",
       "4  reminder about this because this isn t fucking...              4"
      ]
     },
     "execution_count": 391,
     "metadata": {},
     "output_type": "execute_result"
    }
   ],
   "source": [
    "tweet_label_df.head()"
   ]
  },
  {
   "cell_type": "code",
   "execution_count": 392,
   "metadata": {},
   "outputs": [
    {
     "data": {
      "text/plain": [
       "4    2153\n",
       "2     800\n",
       "3     600\n",
       "1     407\n",
       "0     165\n",
       "Name: cluster_label, dtype: int64"
      ]
     },
     "execution_count": 392,
     "metadata": {},
     "output_type": "execute_result"
    }
   ],
   "source": [
    "tweet_label_df.cluster_label.value_counts()"
   ]
  },
  {
   "cell_type": "code",
   "execution_count": 393,
   "metadata": {},
   "outputs": [],
   "source": [
    "depressed_dataset_with_labels = pd.merge(depressed_dataset_11, tweet_label_df, on='cleanData')"
   ]
  },
  {
   "cell_type": "code",
   "execution_count": 394,
   "metadata": {},
   "outputs": [
    {
     "data": {
      "text/html": [
       "<div>\n",
       "<style scoped>\n",
       "    .dataframe tbody tr th:only-of-type {\n",
       "        vertical-align: middle;\n",
       "    }\n",
       "\n",
       "    .dataframe tbody tr th {\n",
       "        vertical-align: top;\n",
       "    }\n",
       "\n",
       "    .dataframe thead th {\n",
       "        text-align: right;\n",
       "    }\n",
       "</style>\n",
       "<table border=\"1\" class=\"dataframe\">\n",
       "  <thead>\n",
       "    <tr style=\"text-align: right;\">\n",
       "      <th></th>\n",
       "      <th>accountname</th>\n",
       "      <th>description</th>\n",
       "      <th>favorite_count</th>\n",
       "      <th>location</th>\n",
       "      <th>masked_user_id</th>\n",
       "      <th>retweet_count</th>\n",
       "      <th>timestamp</th>\n",
       "      <th>tweets</th>\n",
       "      <th>twittername</th>\n",
       "      <th>user_type</th>\n",
       "      <th>format</th>\n",
       "      <th>new_date</th>\n",
       "      <th>time_window</th>\n",
       "      <th>tweets_url_token</th>\n",
       "      <th>cleanData</th>\n",
       "      <th>encode_flag</th>\n",
       "      <th>cluster_label</th>\n",
       "    </tr>\n",
       "  </thead>\n",
       "  <tbody>\n",
       "    <tr>\n",
       "      <th>0</th>\n",
       "      <td>mars ðŸŽƒðŸ�‚</td>\n",
       "      <td>oh god, it's raining but i'm not complaining.</td>\n",
       "      <td>4</td>\n",
       "      <td>22 . they/them</td>\n",
       "      <td>depressed_user_15</td>\n",
       "      <td>0.0</td>\n",
       "      <td>9/2/2020 0:05</td>\n",
       "      <td>if you are a minor, you need to stay out of ns...</td>\n",
       "      <td>deltasmachine</td>\n",
       "      <td>1.0</td>\n",
       "      <td>2</td>\n",
       "      <td>2020-09-02 00:05</td>\n",
       "      <td>11</td>\n",
       "      <td>if you are a minor, you need to stay out of ns...</td>\n",
       "      <td>if you are a minor  you need to stay out of ns...</td>\n",
       "      <td>11</td>\n",
       "      <td>4</td>\n",
       "    </tr>\n",
       "    <tr>\n",
       "      <th>1</th>\n",
       "      <td>mars ðŸŽƒðŸ�‚</td>\n",
       "      <td>oh god, it's raining but i'm not complaining.</td>\n",
       "      <td>0</td>\n",
       "      <td>22 . they/them</td>\n",
       "      <td>depressed_user_15</td>\n",
       "      <td>0.0</td>\n",
       "      <td>9/2/2020 0:05</td>\n",
       "      <td>@ufopossum long</td>\n",
       "      <td>deltasmachine</td>\n",
       "      <td>1.0</td>\n",
       "      <td>2</td>\n",
       "      <td>2020-09-02 00:05</td>\n",
       "      <td>11</td>\n",
       "      <td>@ufopossum long</td>\n",
       "      <td>long</td>\n",
       "      <td>11</td>\n",
       "      <td>4</td>\n",
       "    </tr>\n",
       "    <tr>\n",
       "      <th>2</th>\n",
       "      <td>mars ðŸŽƒðŸ�‚</td>\n",
       "      <td>oh god, it's raining but i'm not complaining.</td>\n",
       "      <td>1</td>\n",
       "      <td>22 . they/them</td>\n",
       "      <td>depressed_user_15</td>\n",
       "      <td>0.0</td>\n",
       "      <td>9/2/2020 0:07</td>\n",
       "      <td>i am just. so tired. https://t.co/9Jh3tzTGSr</td>\n",
       "      <td>deltasmachine</td>\n",
       "      <td>1.0</td>\n",
       "      <td>2</td>\n",
       "      <td>2020-09-02 00:07</td>\n",
       "      <td>11</td>\n",
       "      <td>i am just. so tired. [URL]</td>\n",
       "      <td>i am just  so tired  [url]</td>\n",
       "      <td>11</td>\n",
       "      <td>2</td>\n",
       "    </tr>\n",
       "    <tr>\n",
       "      <th>3</th>\n",
       "      <td>mars ðŸŽƒðŸ�‚</td>\n",
       "      <td>oh god, it's raining but i'm not complaining.</td>\n",
       "      <td>1</td>\n",
       "      <td>22 . they/them</td>\n",
       "      <td>depressed_user_15</td>\n",
       "      <td>0.0</td>\n",
       "      <td>9/2/2020 0:09</td>\n",
       "      <td>@ufopossum DO IT</td>\n",
       "      <td>deltasmachine</td>\n",
       "      <td>1.0</td>\n",
       "      <td>2</td>\n",
       "      <td>2020-09-02 00:09</td>\n",
       "      <td>11</td>\n",
       "      <td>@ufopossum DO IT</td>\n",
       "      <td>do it</td>\n",
       "      <td>11</td>\n",
       "      <td>4</td>\n",
       "    </tr>\n",
       "    <tr>\n",
       "      <th>4</th>\n",
       "      <td>mars ðŸŽƒðŸ�‚</td>\n",
       "      <td>oh god, it's raining but i'm not complaining.</td>\n",
       "      <td>0</td>\n",
       "      <td>22 . they/them</td>\n",
       "      <td>depressed_user_15</td>\n",
       "      <td>0.0</td>\n",
       "      <td>9/2/2020 0:10</td>\n",
       "      <td>reminder about this because this isn't fucking...</td>\n",
       "      <td>deltasmachine</td>\n",
       "      <td>1.0</td>\n",
       "      <td>2</td>\n",
       "      <td>2020-09-02 00:10</td>\n",
       "      <td>11</td>\n",
       "      <td>reminder about this because this isn't fucking...</td>\n",
       "      <td>reminder about this because this isn t fucking...</td>\n",
       "      <td>11</td>\n",
       "      <td>4</td>\n",
       "    </tr>\n",
       "  </tbody>\n",
       "</table>\n",
       "</div>"
      ],
      "text/plain": [
       "     accountname                                    description  \\\n",
       "0  mars ðŸŽƒðŸ�‚  oh god, it's raining but i'm not complaining.   \n",
       "1  mars ðŸŽƒðŸ�‚  oh god, it's raining but i'm not complaining.   \n",
       "2  mars ðŸŽƒðŸ�‚  oh god, it's raining but i'm not complaining.   \n",
       "3  mars ðŸŽƒðŸ�‚  oh god, it's raining but i'm not complaining.   \n",
       "4  mars ðŸŽƒðŸ�‚  oh god, it's raining but i'm not complaining.   \n",
       "\n",
       "  favorite_count        location     masked_user_id retweet_count  \\\n",
       "0              4  22 . they/them  depressed_user_15           0.0   \n",
       "1              0  22 . they/them  depressed_user_15           0.0   \n",
       "2              1  22 . they/them  depressed_user_15           0.0   \n",
       "3              1  22 . they/them  depressed_user_15           0.0   \n",
       "4              0  22 . they/them  depressed_user_15           0.0   \n",
       "\n",
       "       timestamp                                             tweets  \\\n",
       "0  9/2/2020 0:05  if you are a minor, you need to stay out of ns...   \n",
       "1  9/2/2020 0:05                                    @ufopossum long   \n",
       "2  9/2/2020 0:07       i am just. so tired. https://t.co/9Jh3tzTGSr   \n",
       "3  9/2/2020 0:09                                   @ufopossum DO IT   \n",
       "4  9/2/2020 0:10  reminder about this because this isn't fucking...   \n",
       "\n",
       "     twittername  user_type  format          new_date  time_window  \\\n",
       "0  deltasmachine        1.0       2  2020-09-02 00:05           11   \n",
       "1  deltasmachine        1.0       2  2020-09-02 00:05           11   \n",
       "2  deltasmachine        1.0       2  2020-09-02 00:07           11   \n",
       "3  deltasmachine        1.0       2  2020-09-02 00:09           11   \n",
       "4  deltasmachine        1.0       2  2020-09-02 00:10           11   \n",
       "\n",
       "                                    tweets_url_token  \\\n",
       "0  if you are a minor, you need to stay out of ns...   \n",
       "1                                    @ufopossum long   \n",
       "2                         i am just. so tired. [URL]   \n",
       "3                                   @ufopossum DO IT   \n",
       "4  reminder about this because this isn't fucking...   \n",
       "\n",
       "                                           cleanData  encode_flag  \\\n",
       "0  if you are a minor  you need to stay out of ns...           11   \n",
       "1                                               long           11   \n",
       "2                         i am just  so tired  [url]           11   \n",
       "3                                              do it           11   \n",
       "4  reminder about this because this isn t fucking...           11   \n",
       "\n",
       "   cluster_label  \n",
       "0              4  \n",
       "1              4  \n",
       "2              2  \n",
       "3              4  \n",
       "4              4  "
      ]
     },
     "execution_count": 394,
     "metadata": {},
     "output_type": "execute_result"
    }
   ],
   "source": [
    "depressed_dataset_with_labels.head()"
   ]
  },
  {
   "cell_type": "code",
   "execution_count": 395,
   "metadata": {},
   "outputs": [
    {
     "data": {
      "text/plain": [
       "Index(['accountname', 'description', 'favorite_count', 'location',\n",
       "       'masked_user_id', 'retweet_count', 'timestamp', 'tweets', 'twittername',\n",
       "       'user_type', 'format', 'new_date', 'time_window', 'tweets_url_token',\n",
       "       'cleanData', 'encode_flag', 'cluster_label'],\n",
       "      dtype='object')"
      ]
     },
     "execution_count": 395,
     "metadata": {},
     "output_type": "execute_result"
    }
   ],
   "source": [
    "depressed_dataset_with_labels.columns"
   ]
  },
  {
   "cell_type": "code",
   "execution_count": 396,
   "metadata": {},
   "outputs": [],
   "source": [
    "writeColumns = ['masked_user_id','new_date', 'time_window','cleanData','cluster_label']"
   ]
  },
  {
   "cell_type": "code",
   "execution_count": 397,
   "metadata": {},
   "outputs": [],
   "source": [
    "output_filename = \"depTweets_window_11_kmeans_withLabel.csv\""
   ]
  },
  {
   "cell_type": "code",
   "execution_count": 398,
   "metadata": {},
   "outputs": [],
   "source": [
    "depressed_dataset_with_labels.to_csv(os.path.join(r\"D:\\Workspace\\OVGU\\SM_Depression\\src\\time_window\\kmeans_cluster\", output_filename),encoding=\"utf-8\",columns = writeColumns,index=False, date_format='%Y-%m-%d %H:%M')"
   ]
  },
  {
   "cell_type": "code",
   "execution_count": 399,
   "metadata": {},
   "outputs": [
    {
     "data": {
      "text/plain": [
       "4    2426\n",
       "2     800\n",
       "3     606\n",
       "1     411\n",
       "0     165\n",
       "Name: cluster_label, dtype: int64"
      ]
     },
     "execution_count": 399,
     "metadata": {},
     "output_type": "execute_result"
    }
   ],
   "source": [
    "depressed_dataset_with_labels.cluster_label.value_counts()"
   ]
  },
  {
   "cell_type": "code",
   "execution_count": 400,
   "metadata": {},
   "outputs": [],
   "source": [
    "del depressed_data_embed_flag,depressed_data_embedfile,depressed_dataset_with_labels,depressed_embeddings"
   ]
  },
  {
   "cell_type": "code",
   "execution_count": null,
   "metadata": {},
   "outputs": [],
   "source": []
  },
  {
   "cell_type": "markdown",
   "metadata": {},
   "source": [
    "**To check if all tweets are embedded and their corresponding embeddings are available - Time Window 12**"
   ]
  },
  {
   "cell_type": "code",
   "execution_count": 401,
   "metadata": {},
   "outputs": [],
   "source": [
    "\n",
    "\n",
    "depressed_data_embedfile = open(\"D:\\Workspace\\OVGU\\SM_Depression\\scripts\\embeddings_sentences\\depressed_dataset_12_embedding.pkl\",\"rb\")\n",
    "\n",
    "depressed_data_embedfile = pickle.load(depressed_data_embedfile)\n",
    "\n",
    "embed_value = 12"
   ]
  },
  {
   "cell_type": "code",
   "execution_count": 402,
   "metadata": {},
   "outputs": [
    {
     "data": {
      "text/plain": [
       "2577"
      ]
     },
     "execution_count": 402,
     "metadata": {},
     "output_type": "execute_result"
    }
   ],
   "source": [
    "len(depressed_data_embedfile.keys())"
   ]
  },
  {
   "cell_type": "code",
   "execution_count": 403,
   "metadata": {},
   "outputs": [],
   "source": [
    "depressed_data_embedfile = OrderedDict(depressed_data_embedfile)"
   ]
  },
  {
   "cell_type": "code",
   "execution_count": 404,
   "metadata": {},
   "outputs": [],
   "source": [
    "depressed_data_embed_flag = {key:int(embed_value) for key, value in depressed_data_embedfile.items()}"
   ]
  },
  {
   "cell_type": "code",
   "execution_count": 405,
   "metadata": {},
   "outputs": [
    {
     "data": {
      "text/plain": [
       "2577"
      ]
     },
     "execution_count": 405,
     "metadata": {},
     "output_type": "execute_result"
    }
   ],
   "source": [
    "len(depressed_data_embed_flag.keys())"
   ]
  },
  {
   "cell_type": "code",
   "execution_count": 406,
   "metadata": {},
   "outputs": [
    {
     "data": {
      "text/plain": [
       "2729"
      ]
     },
     "execution_count": 406,
     "metadata": {},
     "output_type": "execute_result"
    }
   ],
   "source": [
    "len(depressed_dataset_12)"
   ]
  },
  {
   "cell_type": "code",
   "execution_count": 407,
   "metadata": {},
   "outputs": [
    {
     "name": "stderr",
     "output_type": "stream",
     "text": [
      "D:\\Softwares\\Anaconda\\lib\\site-packages\\ipykernel_launcher.py:1: SettingWithCopyWarning: \n",
      "A value is trying to be set on a copy of a slice from a DataFrame.\n",
      "Try using .loc[row_indexer,col_indexer] = value instead\n",
      "\n",
      "See the caveats in the documentation: https://pandas.pydata.org/pandas-docs/stable/user_guide/indexing.html#returning-a-view-versus-a-copy\n",
      "  \"\"\"Entry point for launching an IPython kernel.\n"
     ]
    }
   ],
   "source": [
    "depressed_dataset_12[\"encode_flag\"] = depressed_dataset_12[\"cleanData\"].apply(lambda x: depressed_data_embed_flag.get(x))\n"
   ]
  },
  {
   "cell_type": "code",
   "execution_count": 408,
   "metadata": {},
   "outputs": [
    {
     "data": {
      "text/plain": [
       "12    2729\n",
       "Name: encode_flag, dtype: int64"
      ]
     },
     "execution_count": 408,
     "metadata": {},
     "output_type": "execute_result"
    }
   ],
   "source": [
    "depressed_dataset_12.encode_flag.value_counts()"
   ]
  },
  {
   "cell_type": "code",
   "execution_count": 409,
   "metadata": {},
   "outputs": [
    {
     "data": {
      "text/plain": [
       "2577"
      ]
     },
     "execution_count": 409,
     "metadata": {},
     "output_type": "execute_result"
    }
   ],
   "source": [
    "depressed_dataset_12.cleanData.nunique()"
   ]
  },
  {
   "cell_type": "markdown",
   "metadata": {},
   "source": [
    "**Clustering on Time window 12 dataset**"
   ]
  },
  {
   "cell_type": "markdown",
   "metadata": {},
   "source": [
    "**Approach 1 - kMeans**"
   ]
  },
  {
   "cell_type": "code",
   "execution_count": 410,
   "metadata": {},
   "outputs": [],
   "source": [
    "from sklearn.cluster import KMeans\n",
    "from yellowbrick.cluster import KElbowVisualizer"
   ]
  },
  {
   "cell_type": "code",
   "execution_count": 411,
   "metadata": {
    "scrolled": true
   },
   "outputs": [
    {
     "data": {
      "text/plain": [
       "2577"
      ]
     },
     "execution_count": 411,
     "metadata": {},
     "output_type": "execute_result"
    }
   ],
   "source": [
    "len(list(depressed_data_embedfile.values()))"
   ]
  },
  {
   "cell_type": "code",
   "execution_count": 412,
   "metadata": {},
   "outputs": [],
   "source": [
    "depressed_embeddings = np.array(list(depressed_data_embedfile.values()))"
   ]
  },
  {
   "cell_type": "code",
   "execution_count": 413,
   "metadata": {},
   "outputs": [
    {
     "name": "stderr",
     "output_type": "stream",
     "text": [
      "D:\\Softwares\\Anaconda\\lib\\site-packages\\sklearn\\cluster\\_kmeans.py:939: FutureWarning: 'n_jobs' was deprecated in version 0.23 and will be removed in 0.25.\n",
      "  \" removed in 0.25.\", FutureWarning)\n",
      "D:\\Softwares\\Anaconda\\lib\\site-packages\\sklearn\\cluster\\_kmeans.py:939: FutureWarning: 'n_jobs' was deprecated in version 0.23 and will be removed in 0.25.\n",
      "  \" removed in 0.25.\", FutureWarning)\n",
      "D:\\Softwares\\Anaconda\\lib\\site-packages\\sklearn\\cluster\\_kmeans.py:939: FutureWarning: 'n_jobs' was deprecated in version 0.23 and will be removed in 0.25.\n",
      "  \" removed in 0.25.\", FutureWarning)\n",
      "D:\\Softwares\\Anaconda\\lib\\site-packages\\sklearn\\cluster\\_kmeans.py:939: FutureWarning: 'n_jobs' was deprecated in version 0.23 and will be removed in 0.25.\n",
      "  \" removed in 0.25.\", FutureWarning)\n",
      "D:\\Softwares\\Anaconda\\lib\\site-packages\\sklearn\\cluster\\_kmeans.py:939: FutureWarning: 'n_jobs' was deprecated in version 0.23 and will be removed in 0.25.\n",
      "  \" removed in 0.25.\", FutureWarning)\n",
      "D:\\Softwares\\Anaconda\\lib\\site-packages\\sklearn\\cluster\\_kmeans.py:939: FutureWarning: 'n_jobs' was deprecated in version 0.23 and will be removed in 0.25.\n",
      "  \" removed in 0.25.\", FutureWarning)\n",
      "D:\\Softwares\\Anaconda\\lib\\site-packages\\sklearn\\cluster\\_kmeans.py:939: FutureWarning: 'n_jobs' was deprecated in version 0.23 and will be removed in 0.25.\n",
      "  \" removed in 0.25.\", FutureWarning)\n",
      "D:\\Softwares\\Anaconda\\lib\\site-packages\\sklearn\\cluster\\_kmeans.py:939: FutureWarning: 'n_jobs' was deprecated in version 0.23 and will be removed in 0.25.\n",
      "  \" removed in 0.25.\", FutureWarning)\n",
      "D:\\Softwares\\Anaconda\\lib\\site-packages\\sklearn\\cluster\\_kmeans.py:939: FutureWarning: 'n_jobs' was deprecated in version 0.23 and will be removed in 0.25.\n",
      "  \" removed in 0.25.\", FutureWarning)\n"
     ]
    },
    {
     "data": {
      "image/png": "[encoded data removed]",
      "text/plain": [
       "<Figure size 576x396 with 2 Axes>"
      ]
     },
     "metadata": {},
     "output_type": "display_data"
    },
    {
     "data": {
      "text/plain": [
       "<matplotlib.axes._subplots.AxesSubplot at 0x15eb93550c8>"
      ]
     },
     "execution_count": 413,
     "metadata": {},
     "output_type": "execute_result"
    }
   ],
   "source": [
    "model = KMeans(init='k-means++', n_jobs=4)\n",
    "visualizer = KElbowVisualizer(model, k=(2,11))\n",
    "\n",
    "visualizer.fit(depressed_embeddings)    \n",
    "visualizer.show()  "
   ]
  },
  {
   "cell_type": "code",
   "execution_count": 414,
   "metadata": {},
   "outputs": [
    {
     "name": "stderr",
     "output_type": "stream",
     "text": [
      "D:\\Softwares\\Anaconda\\lib\\site-packages\\sklearn\\cluster\\_kmeans.py:939: FutureWarning: 'n_jobs' was deprecated in version 0.23 and will be removed in 0.25.\n",
      "  \" removed in 0.25.\", FutureWarning)\n"
     ]
    }
   ],
   "source": [
    "kmeans = KMeans(n_clusters=5,init='k-means++', n_jobs=4)\n",
    "kmeans = kmeans.fit(depressed_embeddings)"
   ]
  },
  {
   "cell_type": "code",
   "execution_count": 415,
   "metadata": {},
   "outputs": [
    {
     "data": {
      "text/plain": [
       "2577"
      ]
     },
     "execution_count": 415,
     "metadata": {},
     "output_type": "execute_result"
    }
   ],
   "source": [
    "kmeans_labels = kmeans.labels_\n",
    "\n",
    "len(kmeans_labels)"
   ]
  },
  {
   "cell_type": "code",
   "execution_count": 416,
   "metadata": {},
   "outputs": [],
   "source": [
    "tweet_label_df = pd.DataFrame()\n",
    "tweet_label_df['cleanData'] = depressed_data_embedfile.keys()\n",
    "tweet_label_df['cluster_label'] = kmeans_labels"
   ]
  },
  {
   "cell_type": "code",
   "execution_count": 417,
   "metadata": {},
   "outputs": [
    {
     "data": {
      "text/html": [
       "<div>\n",
       "<style scoped>\n",
       "    .dataframe tbody tr th:only-of-type {\n",
       "        vertical-align: middle;\n",
       "    }\n",
       "\n",
       "    .dataframe tbody tr th {\n",
       "        vertical-align: top;\n",
       "    }\n",
       "\n",
       "    .dataframe thead th {\n",
       "        text-align: right;\n",
       "    }\n",
       "</style>\n",
       "<table border=\"1\" class=\"dataframe\">\n",
       "  <thead>\n",
       "    <tr style=\"text-align: right;\">\n",
       "      <th></th>\n",
       "      <th>cleanData</th>\n",
       "      <th>cluster_label</th>\n",
       "    </tr>\n",
       "  </thead>\n",
       "  <tbody>\n",
       "    <tr>\n",
       "      <th>0</th>\n",
       "      <td>there no longer making kuwtk  2020 is official...</td>\n",
       "      <td>0</td>\n",
       "    </tr>\n",
       "    <tr>\n",
       "      <th>1</th>\n",
       "      <td>this was absolutely adorable</td>\n",
       "      <td>0</td>\n",
       "    </tr>\n",
       "    <tr>\n",
       "      <th>2</th>\n",
       "      <td>it gets to absurd levels when you have student...</td>\n",
       "      <td>2</td>\n",
       "    </tr>\n",
       "    <tr>\n",
       "      <th>3</th>\n",
       "      <td>good for you  our    marketing manager        ...</td>\n",
       "      <td>3</td>\n",
       "    </tr>\n",
       "    <tr>\n",
       "      <th>4</th>\n",
       "      <td>worth noting that i even have prescription cov...</td>\n",
       "      <td>2</td>\n",
       "    </tr>\n",
       "  </tbody>\n",
       "</table>\n",
       "</div>"
      ],
      "text/plain": [
       "                                           cleanData  cluster_label\n",
       "0  there no longer making kuwtk  2020 is official...              0\n",
       "1                       this was absolutely adorable              0\n",
       "2  it gets to absurd levels when you have student...              2\n",
       "3  good for you  our    marketing manager        ...              3\n",
       "4  worth noting that i even have prescription cov...              2"
      ]
     },
     "execution_count": 417,
     "metadata": {},
     "output_type": "execute_result"
    }
   ],
   "source": [
    "tweet_label_df.head()"
   ]
  },
  {
   "cell_type": "code",
   "execution_count": 418,
   "metadata": {},
   "outputs": [
    {
     "data": {
      "text/plain": [
       "0    1369\n",
       "2     516\n",
       "3     322\n",
       "4     283\n",
       "1      87\n",
       "Name: cluster_label, dtype: int64"
      ]
     },
     "execution_count": 418,
     "metadata": {},
     "output_type": "execute_result"
    }
   ],
   "source": [
    "tweet_label_df.cluster_label.value_counts()"
   ]
  },
  {
   "cell_type": "code",
   "execution_count": 419,
   "metadata": {},
   "outputs": [],
   "source": [
    "depressed_dataset_with_labels = pd.merge(depressed_dataset_12, tweet_label_df, on='cleanData')"
   ]
  },
  {
   "cell_type": "code",
   "execution_count": 420,
   "metadata": {},
   "outputs": [
    {
     "data": {
      "text/html": [
       "<div>\n",
       "<style scoped>\n",
       "    .dataframe tbody tr th:only-of-type {\n",
       "        vertical-align: middle;\n",
       "    }\n",
       "\n",
       "    .dataframe tbody tr th {\n",
       "        vertical-align: top;\n",
       "    }\n",
       "\n",
       "    .dataframe thead th {\n",
       "        text-align: right;\n",
       "    }\n",
       "</style>\n",
       "<table border=\"1\" class=\"dataframe\">\n",
       "  <thead>\n",
       "    <tr style=\"text-align: right;\">\n",
       "      <th></th>\n",
       "      <th>accountname</th>\n",
       "      <th>description</th>\n",
       "      <th>favorite_count</th>\n",
       "      <th>location</th>\n",
       "      <th>masked_user_id</th>\n",
       "      <th>retweet_count</th>\n",
       "      <th>timestamp</th>\n",
       "      <th>tweets</th>\n",
       "      <th>twittername</th>\n",
       "      <th>user_type</th>\n",
       "      <th>format</th>\n",
       "      <th>new_date</th>\n",
       "      <th>time_window</th>\n",
       "      <th>tweets_url_token</th>\n",
       "      <th>cleanData</th>\n",
       "      <th>encode_flag</th>\n",
       "      <th>cluster_label</th>\n",
       "    </tr>\n",
       "  </thead>\n",
       "  <tbody>\n",
       "    <tr>\n",
       "      <th>0</th>\n",
       "      <td>AlexaJade ð???ð??»ð??»â??ï¸�</td>\n",
       "      <td>creative lifestyle blogger ð??» Disney lover ð...</td>\n",
       "      <td>0</td>\n",
       "      <td>Southampton, England</td>\n",
       "      <td>depressed_user_4</td>\n",
       "      <td>0.0</td>\n",
       "      <td>9/9/2020 0:00</td>\n",
       "      <td>There no longer making KUWTK! 2020 is official...</td>\n",
       "      <td>AlexaJadeBlog</td>\n",
       "      <td>1.0</td>\n",
       "      <td>2</td>\n",
       "      <td>2020-09-09 00:00</td>\n",
       "      <td>12</td>\n",
       "      <td>There no longer making KUWTK! 2020 is official...</td>\n",
       "      <td>there no longer making kuwtk  2020 is official...</td>\n",
       "      <td>12</td>\n",
       "      <td>0</td>\n",
       "    </tr>\n",
       "    <tr>\n",
       "      <th>1</th>\n",
       "      <td>Kaia â˜€ï¸�</td>\n",
       "      <td>Black Lives Matter</td>\n",
       "      <td>0</td>\n",
       "      <td>I travel too much for this</td>\n",
       "      <td>depressed_user_39</td>\n",
       "      <td>0.0</td>\n",
       "      <td>9/9/2020 0:03</td>\n",
       "      <td>@BASED_GOSH This was absolutely adorable</td>\n",
       "      <td>KaiaVictoria</td>\n",
       "      <td>1.0</td>\n",
       "      <td>2</td>\n",
       "      <td>2020-09-09 00:03</td>\n",
       "      <td>12</td>\n",
       "      <td>@BASED_GOSH This was absolutely adorable</td>\n",
       "      <td>this was absolutely adorable</td>\n",
       "      <td>12</td>\n",
       "      <td>0</td>\n",
       "    </tr>\n",
       "    <tr>\n",
       "      <th>2</th>\n",
       "      <td>Zero (they/their)</td>\n",
       "      <td>Autistic. ADHD. NB. \\r\\r\\r\\nExtra. Compulsivel...</td>\n",
       "      <td>0</td>\n",
       "      <td></td>\n",
       "      <td>depressed_user_100</td>\n",
       "      <td>0.0</td>\n",
       "      <td>9/9/2020 0:04</td>\n",
       "      <td>@vrich219 It gets to absurd levels when you ha...</td>\n",
       "      <td>ZeroWrites</td>\n",
       "      <td>1.0</td>\n",
       "      <td>2</td>\n",
       "      <td>2020-09-09 00:04</td>\n",
       "      <td>12</td>\n",
       "      <td>@vrich219 It gets to absurd levels when you ha...</td>\n",
       "      <td>it gets to absurd levels when you have student...</td>\n",
       "      <td>12</td>\n",
       "      <td>2</td>\n",
       "    </tr>\n",
       "    <tr>\n",
       "      <th>3</th>\n",
       "      <td>ð??? I Canâ??t Keep Quiet - Anymore</td>\n",
       "      <td>Unapologetically me. There are times when â??f...</td>\n",
       "      <td>1</td>\n",
       "      <td>NoneYa! ð?¤� PNW, USA</td>\n",
       "      <td>depressed_user_54</td>\n",
       "      <td>0.0</td>\n",
       "      <td>9/9/2020 0:06</td>\n",
       "      <td>@BryanBox7 @libbybakalar Good for you! Our â??...</td>\n",
       "      <td>MichelleECalvin</td>\n",
       "      <td>1.0</td>\n",
       "      <td>2</td>\n",
       "      <td>2020-09-09 00:06</td>\n",
       "      <td>12</td>\n",
       "      <td>@BryanBox7 @libbybakalar Good for you! Our â??...</td>\n",
       "      <td>good for you  our    marketing manager        ...</td>\n",
       "      <td>12</td>\n",
       "      <td>3</td>\n",
       "    </tr>\n",
       "    <tr>\n",
       "      <th>4</th>\n",
       "      <td>ipickuppennies</td>\n",
       "      <td>Disability, frugality and other life adventure...</td>\n",
       "      <td>1</td>\n",
       "      <td>Phoenix, AZ</td>\n",
       "      <td>depressed_user_32</td>\n",
       "      <td>0.0</td>\n",
       "      <td>9/9/2020 0:06</td>\n",
       "      <td>@JasonVitug Worth noting that I even have pres...</td>\n",
       "      <td>ipickuppennies</td>\n",
       "      <td>1.0</td>\n",
       "      <td>2</td>\n",
       "      <td>2020-09-09 00:06</td>\n",
       "      <td>12</td>\n",
       "      <td>@JasonVitug Worth noting that I even have pres...</td>\n",
       "      <td>worth noting that i even have prescription cov...</td>\n",
       "      <td>12</td>\n",
       "      <td>2</td>\n",
       "    </tr>\n",
       "  </tbody>\n",
       "</table>\n",
       "</div>"
      ],
      "text/plain": [
       "                           accountname  \\\n",
       "0         AlexaJade ð???ð??»ð??»â??ï¸�   \n",
       "1                          Kaia â˜€ï¸�   \n",
       "2                    Zero (they/their)   \n",
       "3  ð??? I Canâ??t Keep Quiet - Anymore   \n",
       "4                       ipickuppennies   \n",
       "\n",
       "                                         description favorite_count  \\\n",
       "0  creative lifestyle blogger ð??» Disney lover ð...              0   \n",
       "1                                 Black Lives Matter              0   \n",
       "2  Autistic. ADHD. NB. \\r\\r\\r\\nExtra. Compulsivel...              0   \n",
       "3  Unapologetically me. There are times when â??f...              1   \n",
       "4  Disability, frugality and other life adventure...              1   \n",
       "\n",
       "                     location      masked_user_id retweet_count  \\\n",
       "0        Southampton, England    depressed_user_4           0.0   \n",
       "1  I travel too much for this   depressed_user_39           0.0   \n",
       "2                              depressed_user_100           0.0   \n",
       "3       NoneYa! ð?¤� PNW, USA   depressed_user_54           0.0   \n",
       "4                 Phoenix, AZ   depressed_user_32           0.0   \n",
       "\n",
       "       timestamp                                             tweets  \\\n",
       "0  9/9/2020 0:00  There no longer making KUWTK! 2020 is official...   \n",
       "1  9/9/2020 0:03           @BASED_GOSH This was absolutely adorable   \n",
       "2  9/9/2020 0:04  @vrich219 It gets to absurd levels when you ha...   \n",
       "3  9/9/2020 0:06  @BryanBox7 @libbybakalar Good for you! Our â??...   \n",
       "4  9/9/2020 0:06  @JasonVitug Worth noting that I even have pres...   \n",
       "\n",
       "       twittername  user_type  format          new_date  time_window  \\\n",
       "0    AlexaJadeBlog        1.0       2  2020-09-09 00:00           12   \n",
       "1     KaiaVictoria        1.0       2  2020-09-09 00:03           12   \n",
       "2       ZeroWrites        1.0       2  2020-09-09 00:04           12   \n",
       "3  MichelleECalvin        1.0       2  2020-09-09 00:06           12   \n",
       "4   ipickuppennies        1.0       2  2020-09-09 00:06           12   \n",
       "\n",
       "                                    tweets_url_token  \\\n",
       "0  There no longer making KUWTK! 2020 is official...   \n",
       "1           @BASED_GOSH This was absolutely adorable   \n",
       "2  @vrich219 It gets to absurd levels when you ha...   \n",
       "3  @BryanBox7 @libbybakalar Good for you! Our â??...   \n",
       "4  @JasonVitug Worth noting that I even have pres...   \n",
       "\n",
       "                                           cleanData  encode_flag  \\\n",
       "0  there no longer making kuwtk  2020 is official...           12   \n",
       "1                       this was absolutely adorable           12   \n",
       "2  it gets to absurd levels when you have student...           12   \n",
       "3  good for you  our    marketing manager        ...           12   \n",
       "4  worth noting that i even have prescription cov...           12   \n",
       "\n",
       "   cluster_label  \n",
       "0              0  \n",
       "1              0  \n",
       "2              2  \n",
       "3              3  \n",
       "4              2  "
      ]
     },
     "execution_count": 420,
     "metadata": {},
     "output_type": "execute_result"
    }
   ],
   "source": [
    "depressed_dataset_with_labels.head()"
   ]
  },
  {
   "cell_type": "code",
   "execution_count": 421,
   "metadata": {},
   "outputs": [
    {
     "data": {
      "text/plain": [
       "Index(['accountname', 'description', 'favorite_count', 'location',\n",
       "       'masked_user_id', 'retweet_count', 'timestamp', 'tweets', 'twittername',\n",
       "       'user_type', 'format', 'new_date', 'time_window', 'tweets_url_token',\n",
       "       'cleanData', 'encode_flag', 'cluster_label'],\n",
       "      dtype='object')"
      ]
     },
     "execution_count": 421,
     "metadata": {},
     "output_type": "execute_result"
    }
   ],
   "source": [
    "depressed_dataset_with_labels.columns"
   ]
  },
  {
   "cell_type": "code",
   "execution_count": 422,
   "metadata": {},
   "outputs": [],
   "source": [
    "writeColumns = ['masked_user_id','new_date', 'time_window','cleanData','cluster_label']"
   ]
  },
  {
   "cell_type": "code",
   "execution_count": 423,
   "metadata": {},
   "outputs": [],
   "source": [
    "output_filename = \"depTweets_window_12_kmeans_withLabel.csv\""
   ]
  },
  {
   "cell_type": "code",
   "execution_count": 424,
   "metadata": {},
   "outputs": [],
   "source": [
    "depressed_dataset_with_labels.to_csv(os.path.join(r\"D:\\Workspace\\OVGU\\SM_Depression\\src\\time_window\\kmeans_cluster\", output_filename),encoding=\"utf-8\",columns = writeColumns,index=False, date_format='%Y-%m-%d %H:%M')"
   ]
  },
  {
   "cell_type": "code",
   "execution_count": 425,
   "metadata": {},
   "outputs": [
    {
     "data": {
      "text/plain": [
       "0    1520\n",
       "2     517\n",
       "3     322\n",
       "4     283\n",
       "1      87\n",
       "Name: cluster_label, dtype: int64"
      ]
     },
     "execution_count": 425,
     "metadata": {},
     "output_type": "execute_result"
    }
   ],
   "source": [
    "depressed_dataset_with_labels.cluster_label.value_counts()"
   ]
  },
  {
   "cell_type": "code",
   "execution_count": 426,
   "metadata": {},
   "outputs": [],
   "source": [
    "del depressed_data_embed_flag,depressed_data_embedfile,depressed_dataset_with_labels,depressed_embeddings"
   ]
  },
  {
   "cell_type": "code",
   "execution_count": null,
   "metadata": {},
   "outputs": [],
   "source": []
  },
  {
   "cell_type": "markdown",
   "metadata": {},
   "source": [
    "**To check if all tweets are embedded and their corresponding embeddings are available - Time Window 13**"
   ]
  },
  {
   "cell_type": "code",
   "execution_count": 427,
   "metadata": {},
   "outputs": [],
   "source": [
    "\n",
    "\n",
    "depressed_data_embedfile = open(\"D:\\Workspace\\OVGU\\SM_Depression\\scripts\\embeddings_sentences\\depressed_dataset_13_embedding.pkl\",\"rb\")\n",
    "\n",
    "depressed_data_embedfile = pickle.load(depressed_data_embedfile)\n",
    "\n",
    "embed_value = 13"
   ]
  },
  {
   "cell_type": "code",
   "execution_count": 428,
   "metadata": {},
   "outputs": [
    {
     "data": {
      "text/plain": [
       "1457"
      ]
     },
     "execution_count": 428,
     "metadata": {},
     "output_type": "execute_result"
    }
   ],
   "source": [
    "len(depressed_data_embedfile.keys())"
   ]
  },
  {
   "cell_type": "code",
   "execution_count": 429,
   "metadata": {},
   "outputs": [],
   "source": [
    "depressed_data_embedfile = OrderedDict(depressed_data_embedfile)"
   ]
  },
  {
   "cell_type": "code",
   "execution_count": 430,
   "metadata": {},
   "outputs": [],
   "source": [
    "depressed_data_embed_flag = {key:int(embed_value) for key, value in depressed_data_embedfile.items()}"
   ]
  },
  {
   "cell_type": "code",
   "execution_count": 431,
   "metadata": {},
   "outputs": [
    {
     "data": {
      "text/plain": [
       "1457"
      ]
     },
     "execution_count": 431,
     "metadata": {},
     "output_type": "execute_result"
    }
   ],
   "source": [
    "len(depressed_data_embed_flag.keys())"
   ]
  },
  {
   "cell_type": "code",
   "execution_count": 432,
   "metadata": {},
   "outputs": [
    {
     "data": {
      "text/plain": [
       "2729"
      ]
     },
     "execution_count": 432,
     "metadata": {},
     "output_type": "execute_result"
    }
   ],
   "source": [
    "len(depressed_dataset_13)"
   ]
  },
  {
   "cell_type": "code",
   "execution_count": 433,
   "metadata": {},
   "outputs": [
    {
     "name": "stderr",
     "output_type": "stream",
     "text": [
      "D:\\Softwares\\Anaconda\\lib\\site-packages\\ipykernel_launcher.py:1: SettingWithCopyWarning: \n",
      "A value is trying to be set on a copy of a slice from a DataFrame.\n",
      "Try using .loc[row_indexer,col_indexer] = value instead\n",
      "\n",
      "See the caveats in the documentation: https://pandas.pydata.org/pandas-docs/stable/user_guide/indexing.html#returning-a-view-versus-a-copy\n",
      "  \"\"\"Entry point for launching an IPython kernel.\n"
     ]
    }
   ],
   "source": [
    "depressed_dataset_13[\"encode_flag\"] = depressed_dataset_13[\"cleanData\"].apply(lambda x: depressed_data_embed_flag.get(x))\n"
   ]
  },
  {
   "cell_type": "code",
   "execution_count": 434,
   "metadata": {},
   "outputs": [
    {
     "data": {
      "text/plain": [
       "13    1569\n",
       "Name: encode_flag, dtype: int64"
      ]
     },
     "execution_count": 434,
     "metadata": {},
     "output_type": "execute_result"
    }
   ],
   "source": [
    "depressed_dataset_13.encode_flag.value_counts()"
   ]
  },
  {
   "cell_type": "code",
   "execution_count": 435,
   "metadata": {},
   "outputs": [
    {
     "data": {
      "text/plain": [
       "1457"
      ]
     },
     "execution_count": 435,
     "metadata": {},
     "output_type": "execute_result"
    }
   ],
   "source": [
    "depressed_dataset_13.cleanData.nunique()"
   ]
  },
  {
   "cell_type": "markdown",
   "metadata": {},
   "source": [
    "**Clustering on Time window 13 dataset**"
   ]
  },
  {
   "cell_type": "markdown",
   "metadata": {},
   "source": [
    "**Approach 1 - kMeans**"
   ]
  },
  {
   "cell_type": "code",
   "execution_count": 436,
   "metadata": {},
   "outputs": [],
   "source": [
    "from sklearn.cluster import KMeans\n",
    "from yellowbrick.cluster import KElbowVisualizer"
   ]
  },
  {
   "cell_type": "code",
   "execution_count": 437,
   "metadata": {
    "scrolled": true
   },
   "outputs": [
    {
     "data": {
      "text/plain": [
       "1457"
      ]
     },
     "execution_count": 437,
     "metadata": {},
     "output_type": "execute_result"
    }
   ],
   "source": [
    "len(list(depressed_data_embedfile.values()))"
   ]
  },
  {
   "cell_type": "code",
   "execution_count": 438,
   "metadata": {},
   "outputs": [],
   "source": [
    "depressed_embeddings = np.array(list(depressed_data_embedfile.values()))"
   ]
  },
  {
   "cell_type": "code",
   "execution_count": 439,
   "metadata": {},
   "outputs": [
    {
     "name": "stderr",
     "output_type": "stream",
     "text": [
      "D:\\Softwares\\Anaconda\\lib\\site-packages\\sklearn\\cluster\\_kmeans.py:939: FutureWarning: 'n_jobs' was deprecated in version 0.23 and will be removed in 0.25.\n",
      "  \" removed in 0.25.\", FutureWarning)\n",
      "D:\\Softwares\\Anaconda\\lib\\site-packages\\sklearn\\cluster\\_kmeans.py:939: FutureWarning: 'n_jobs' was deprecated in version 0.23 and will be removed in 0.25.\n",
      "  \" removed in 0.25.\", FutureWarning)\n",
      "D:\\Softwares\\Anaconda\\lib\\site-packages\\sklearn\\cluster\\_kmeans.py:939: FutureWarning: 'n_jobs' was deprecated in version 0.23 and will be removed in 0.25.\n",
      "  \" removed in 0.25.\", FutureWarning)\n",
      "D:\\Softwares\\Anaconda\\lib\\site-packages\\sklearn\\cluster\\_kmeans.py:939: FutureWarning: 'n_jobs' was deprecated in version 0.23 and will be removed in 0.25.\n",
      "  \" removed in 0.25.\", FutureWarning)\n",
      "D:\\Softwares\\Anaconda\\lib\\site-packages\\sklearn\\cluster\\_kmeans.py:939: FutureWarning: 'n_jobs' was deprecated in version 0.23 and will be removed in 0.25.\n",
      "  \" removed in 0.25.\", FutureWarning)\n",
      "D:\\Softwares\\Anaconda\\lib\\site-packages\\sklearn\\cluster\\_kmeans.py:939: FutureWarning: 'n_jobs' was deprecated in version 0.23 and will be removed in 0.25.\n",
      "  \" removed in 0.25.\", FutureWarning)\n",
      "D:\\Softwares\\Anaconda\\lib\\site-packages\\sklearn\\cluster\\_kmeans.py:939: FutureWarning: 'n_jobs' was deprecated in version 0.23 and will be removed in 0.25.\n",
      "  \" removed in 0.25.\", FutureWarning)\n",
      "D:\\Softwares\\Anaconda\\lib\\site-packages\\sklearn\\cluster\\_kmeans.py:939: FutureWarning: 'n_jobs' was deprecated in version 0.23 and will be removed in 0.25.\n",
      "  \" removed in 0.25.\", FutureWarning)\n",
      "D:\\Softwares\\Anaconda\\lib\\site-packages\\sklearn\\cluster\\_kmeans.py:939: FutureWarning: 'n_jobs' was deprecated in version 0.23 and will be removed in 0.25.\n",
      "  \" removed in 0.25.\", FutureWarning)\n"
     ]
    },
    {
     "data": {
      "image/png": "[encoded data removed]",
      "text/plain": [
       "<Figure size 576x396 with 2 Axes>"
      ]
     },
     "metadata": {},
     "output_type": "display_data"
    },
    {
     "data": {
      "text/plain": [
       "<matplotlib.axes._subplots.AxesSubplot at 0x15eb2f2e108>"
      ]
     },
     "execution_count": 439,
     "metadata": {},
     "output_type": "execute_result"
    }
   ],
   "source": [
    "model = KMeans(init='k-means++', n_jobs=4)\n",
    "visualizer = KElbowVisualizer(model, k=(2,11))\n",
    "\n",
    "visualizer.fit(depressed_embeddings)    \n",
    "visualizer.show()  "
   ]
  },
  {
   "cell_type": "code",
   "execution_count": 440,
   "metadata": {},
   "outputs": [
    {
     "name": "stderr",
     "output_type": "stream",
     "text": [
      "D:\\Softwares\\Anaconda\\lib\\site-packages\\sklearn\\cluster\\_kmeans.py:939: FutureWarning: 'n_jobs' was deprecated in version 0.23 and will be removed in 0.25.\n",
      "  \" removed in 0.25.\", FutureWarning)\n"
     ]
    }
   ],
   "source": [
    "kmeans = KMeans(n_clusters=5,init='k-means++', n_jobs=4)\n",
    "kmeans = kmeans.fit(depressed_embeddings)"
   ]
  },
  {
   "cell_type": "code",
   "execution_count": 441,
   "metadata": {},
   "outputs": [
    {
     "data": {
      "text/plain": [
       "1457"
      ]
     },
     "execution_count": 441,
     "metadata": {},
     "output_type": "execute_result"
    }
   ],
   "source": [
    "kmeans_labels = kmeans.labels_\n",
    "\n",
    "len(kmeans_labels)"
   ]
  },
  {
   "cell_type": "code",
   "execution_count": 442,
   "metadata": {},
   "outputs": [],
   "source": [
    "tweet_label_df = pd.DataFrame()\n",
    "tweet_label_df['cleanData'] = depressed_data_embedfile.keys()\n",
    "tweet_label_df['cluster_label'] = kmeans_labels"
   ]
  },
  {
   "cell_type": "code",
   "execution_count": 443,
   "metadata": {},
   "outputs": [
    {
     "data": {
      "text/html": [
       "<div>\n",
       "<style scoped>\n",
       "    .dataframe tbody tr th:only-of-type {\n",
       "        vertical-align: middle;\n",
       "    }\n",
       "\n",
       "    .dataframe tbody tr th {\n",
       "        vertical-align: top;\n",
       "    }\n",
       "\n",
       "    .dataframe thead th {\n",
       "        text-align: right;\n",
       "    }\n",
       "</style>\n",
       "<table border=\"1\" class=\"dataframe\">\n",
       "  <thead>\n",
       "    <tr style=\"text-align: right;\">\n",
       "      <th></th>\n",
       "      <th>cleanData</th>\n",
       "      <th>cluster_label</th>\n",
       "    </tr>\n",
       "  </thead>\n",
       "  <tbody>\n",
       "    <tr>\n",
       "      <th>0</th>\n",
       "      <td>response of trying to argue my case in the lim...</td>\n",
       "      <td>0</td>\n",
       "    </tr>\n",
       "    <tr>\n",
       "      <th>1</th>\n",
       "      <td>agree there   or muffins lol</td>\n",
       "      <td>1</td>\n",
       "    </tr>\n",
       "    <tr>\n",
       "      <th>2</th>\n",
       "      <td>yeah it can be harrowing  but there   s good s...</td>\n",
       "      <td>1</td>\n",
       "    </tr>\n",
       "    <tr>\n",
       "      <th>3</th>\n",
       "      <td>me not knowing chanhee and new are the same pe...</td>\n",
       "      <td>4</td>\n",
       "    </tr>\n",
       "    <tr>\n",
       "      <th>4</th>\n",
       "      <td>yes</td>\n",
       "      <td>1</td>\n",
       "    </tr>\n",
       "  </tbody>\n",
       "</table>\n",
       "</div>"
      ],
      "text/plain": [
       "                                           cleanData  cluster_label\n",
       "0  response of trying to argue my case in the lim...              0\n",
       "1                       agree there   or muffins lol              1\n",
       "2  yeah it can be harrowing  but there   s good s...              1\n",
       "3  me not knowing chanhee and new are the same pe...              4\n",
       "4                                             yes                 1"
      ]
     },
     "execution_count": 443,
     "metadata": {},
     "output_type": "execute_result"
    }
   ],
   "source": [
    "tweet_label_df.head()"
   ]
  },
  {
   "cell_type": "code",
   "execution_count": 444,
   "metadata": {},
   "outputs": [
    {
     "data": {
      "text/plain": [
       "1    755\n",
       "0    257\n",
       "4    221\n",
       "2    157\n",
       "3     67\n",
       "Name: cluster_label, dtype: int64"
      ]
     },
     "execution_count": 444,
     "metadata": {},
     "output_type": "execute_result"
    }
   ],
   "source": [
    "tweet_label_df.cluster_label.value_counts()"
   ]
  },
  {
   "cell_type": "code",
   "execution_count": 445,
   "metadata": {},
   "outputs": [],
   "source": [
    "depressed_dataset_with_labels = pd.merge(depressed_dataset_13, tweet_label_df, on='cleanData')"
   ]
  },
  {
   "cell_type": "code",
   "execution_count": 446,
   "metadata": {},
   "outputs": [
    {
     "data": {
      "text/html": [
       "<div>\n",
       "<style scoped>\n",
       "    .dataframe tbody tr th:only-of-type {\n",
       "        vertical-align: middle;\n",
       "    }\n",
       "\n",
       "    .dataframe tbody tr th {\n",
       "        vertical-align: top;\n",
       "    }\n",
       "\n",
       "    .dataframe thead th {\n",
       "        text-align: right;\n",
       "    }\n",
       "</style>\n",
       "<table border=\"1\" class=\"dataframe\">\n",
       "  <thead>\n",
       "    <tr style=\"text-align: right;\">\n",
       "      <th></th>\n",
       "      <th>accountname</th>\n",
       "      <th>description</th>\n",
       "      <th>favorite_count</th>\n",
       "      <th>location</th>\n",
       "      <th>masked_user_id</th>\n",
       "      <th>retweet_count</th>\n",
       "      <th>timestamp</th>\n",
       "      <th>tweets</th>\n",
       "      <th>twittername</th>\n",
       "      <th>user_type</th>\n",
       "      <th>format</th>\n",
       "      <th>new_date</th>\n",
       "      <th>time_window</th>\n",
       "      <th>tweets_url_token</th>\n",
       "      <th>cleanData</th>\n",
       "      <th>encode_flag</th>\n",
       "      <th>cluster_label</th>\n",
       "    </tr>\n",
       "  </thead>\n",
       "  <tbody>\n",
       "    <tr>\n",
       "      <th>0</th>\n",
       "      <td>Dr. J-Cat...5150ðŸ’€ðŸŒ¹</td>\n",
       "      <td>An open mind. Aspiring for greater knowledge f...</td>\n",
       "      <td>0</td>\n",
       "      <td>your mindðŸ¤”</td>\n",
       "      <td>depressed_user_36</td>\n",
       "      <td>0.0</td>\n",
       "      <td>9/16/2020 0:00</td>\n",
       "      <td>@ByronsShade Response of trying to argue my ca...</td>\n",
       "      <td>jcat_5150</td>\n",
       "      <td>1.0</td>\n",
       "      <td>2</td>\n",
       "      <td>2020-09-16 00:00</td>\n",
       "      <td>13</td>\n",
       "      <td>@ByronsShade Response of trying to argue my ca...</td>\n",
       "      <td>response of trying to argue my case in the lim...</td>\n",
       "      <td>13</td>\n",
       "      <td>0</td>\n",
       "    </tr>\n",
       "    <tr>\n",
       "      <th>1</th>\n",
       "      <td>â?¨ â?¢Â·Ì«â?¢ prÎ¹nceÑ?Ñ? peacÐ½ Ï?Ï?Ï? ð??¿</td>\n",
       "      <td>25. Cannabis Microbiologist . Casual Streamer....</td>\n",
       "      <td>0</td>\n",
       "      <td>New York, USA</td>\n",
       "      <td>depressed_user_46</td>\n",
       "      <td>0.0</td>\n",
       "      <td>9/16/2020 0:00</td>\n",
       "      <td>@thehood1983 Agree there , or muffins lol</td>\n",
       "      <td>lextaliones_</td>\n",
       "      <td>1.0</td>\n",
       "      <td>2</td>\n",
       "      <td>2020-09-16 00:00</td>\n",
       "      <td>13</td>\n",
       "      <td>@thehood1983 Agree there , or muffins lol</td>\n",
       "      <td>agree there   or muffins lol</td>\n",
       "      <td>13</td>\n",
       "      <td>1</td>\n",
       "    </tr>\n",
       "    <tr>\n",
       "      <th>2</th>\n",
       "      <td>ipickuppennies</td>\n",
       "      <td>Disability, frugality and other life adventure...</td>\n",
       "      <td>4</td>\n",
       "      <td>Phoenix, AZ</td>\n",
       "      <td>depressed_user_32</td>\n",
       "      <td>0.0</td>\n",
       "      <td>9/16/2020 0:03</td>\n",
       "      <td>@Jovermyer1 Yeah it can be harrowing. But ther...</td>\n",
       "      <td>ipickuppennies</td>\n",
       "      <td>1.0</td>\n",
       "      <td>2</td>\n",
       "      <td>2020-09-16 00:03</td>\n",
       "      <td>13</td>\n",
       "      <td>@Jovermyer1 Yeah it can be harrowing. But ther...</td>\n",
       "      <td>yeah it can be harrowing  but there   s good s...</td>\n",
       "      <td>13</td>\n",
       "      <td>1</td>\n",
       "    </tr>\n",
       "    <tr>\n",
       "      <th>3</th>\n",
       "      <td>tyler</td>\n",
       "      <td>professional sungchan bark enjoyer</td>\n",
       "      <td>0</td>\n",
       "      <td>he/him 20</td>\n",
       "      <td>depressed_user_3</td>\n",
       "      <td>0.0</td>\n",
       "      <td>9/16/2020 0:03</td>\n",
       "      <td>me not knowing Chanhee and New are the same pe...</td>\n",
       "      <td>420limitless</td>\n",
       "      <td>1.0</td>\n",
       "      <td>2</td>\n",
       "      <td>2020-09-16 00:03</td>\n",
       "      <td>13</td>\n",
       "      <td>me not knowing Chanhee and New are the same pe...</td>\n",
       "      <td>me not knowing chanhee and new are the same pe...</td>\n",
       "      <td>13</td>\n",
       "      <td>4</td>\n",
       "    </tr>\n",
       "    <tr>\n",
       "      <th>4</th>\n",
       "      <td>Dr. J-Cat...5150ðŸ’€ðŸŒ¹</td>\n",
       "      <td>An open mind. Aspiring for greater knowledge f...</td>\n",
       "      <td>0</td>\n",
       "      <td>your mindðŸ¤”</td>\n",
       "      <td>depressed_user_36</td>\n",
       "      <td>0.0</td>\n",
       "      <td>9/16/2020 0:05</td>\n",
       "      <td>@educated_educ8r Yes...</td>\n",
       "      <td>jcat_5150</td>\n",
       "      <td>1.0</td>\n",
       "      <td>2</td>\n",
       "      <td>2020-09-16 00:05</td>\n",
       "      <td>13</td>\n",
       "      <td>@educated_educ8r Yes...</td>\n",
       "      <td>yes</td>\n",
       "      <td>13</td>\n",
       "      <td>1</td>\n",
       "    </tr>\n",
       "  </tbody>\n",
       "</table>\n",
       "</div>"
      ],
      "text/plain": [
       "                                     accountname  \\\n",
       "0                       Dr. J-Cat...5150ðŸ’€ðŸŒ¹   \n",
       "1  â?¨ â?¢Â·Ì«â?¢ prÎ¹nceÑ?Ñ? peacÐ½ Ï?Ï?Ï? ð??¿   \n",
       "2                                 ipickuppennies   \n",
       "3                                          tyler   \n",
       "4                       Dr. J-Cat...5150ðŸ’€ðŸŒ¹   \n",
       "\n",
       "                                         description favorite_count  \\\n",
       "0  An open mind. Aspiring for greater knowledge f...              0   \n",
       "1  25. Cannabis Microbiologist . Casual Streamer....              0   \n",
       "2  Disability, frugality and other life adventure...              4   \n",
       "3                 professional sungchan bark enjoyer              0   \n",
       "4  An open mind. Aspiring for greater knowledge f...              0   \n",
       "\n",
       "        location     masked_user_id retweet_count       timestamp  \\\n",
       "0  your mindðŸ¤”  depressed_user_36           0.0  9/16/2020 0:00   \n",
       "1  New York, USA  depressed_user_46           0.0  9/16/2020 0:00   \n",
       "2    Phoenix, AZ  depressed_user_32           0.0  9/16/2020 0:03   \n",
       "3     he/him 20    depressed_user_3           0.0  9/16/2020 0:03   \n",
       "4  your mindðŸ¤”  depressed_user_36           0.0  9/16/2020 0:05   \n",
       "\n",
       "                                              tweets     twittername  \\\n",
       "0  @ByronsShade Response of trying to argue my ca...       jcat_5150   \n",
       "1          @thehood1983 Agree there , or muffins lol    lextaliones_   \n",
       "2  @Jovermyer1 Yeah it can be harrowing. But ther...  ipickuppennies   \n",
       "3  me not knowing Chanhee and New are the same pe...    420limitless   \n",
       "4                            @educated_educ8r Yes...       jcat_5150   \n",
       "\n",
       "   user_type  format          new_date  time_window  \\\n",
       "0        1.0       2  2020-09-16 00:00           13   \n",
       "1        1.0       2  2020-09-16 00:00           13   \n",
       "2        1.0       2  2020-09-16 00:03           13   \n",
       "3        1.0       2  2020-09-16 00:03           13   \n",
       "4        1.0       2  2020-09-16 00:05           13   \n",
       "\n",
       "                                    tweets_url_token  \\\n",
       "0  @ByronsShade Response of trying to argue my ca...   \n",
       "1          @thehood1983 Agree there , or muffins lol   \n",
       "2  @Jovermyer1 Yeah it can be harrowing. But ther...   \n",
       "3  me not knowing Chanhee and New are the same pe...   \n",
       "4                            @educated_educ8r Yes...   \n",
       "\n",
       "                                           cleanData  encode_flag  \\\n",
       "0  response of trying to argue my case in the lim...           13   \n",
       "1                       agree there   or muffins lol           13   \n",
       "2  yeah it can be harrowing  but there   s good s...           13   \n",
       "3  me not knowing chanhee and new are the same pe...           13   \n",
       "4                                             yes              13   \n",
       "\n",
       "   cluster_label  \n",
       "0              0  \n",
       "1              1  \n",
       "2              1  \n",
       "3              4  \n",
       "4              1  "
      ]
     },
     "execution_count": 446,
     "metadata": {},
     "output_type": "execute_result"
    }
   ],
   "source": [
    "depressed_dataset_with_labels.head()"
   ]
  },
  {
   "cell_type": "code",
   "execution_count": 447,
   "metadata": {},
   "outputs": [
    {
     "data": {
      "text/plain": [
       "Index(['accountname', 'description', 'favorite_count', 'location',\n",
       "       'masked_user_id', 'retweet_count', 'timestamp', 'tweets', 'twittername',\n",
       "       'user_type', 'format', 'new_date', 'time_window', 'tweets_url_token',\n",
       "       'cleanData', 'encode_flag', 'cluster_label'],\n",
       "      dtype='object')"
      ]
     },
     "execution_count": 447,
     "metadata": {},
     "output_type": "execute_result"
    }
   ],
   "source": [
    "depressed_dataset_with_labels.columns"
   ]
  },
  {
   "cell_type": "code",
   "execution_count": 448,
   "metadata": {},
   "outputs": [],
   "source": [
    "writeColumns = ['masked_user_id','new_date', 'time_window','cleanData','cluster_label']"
   ]
  },
  {
   "cell_type": "code",
   "execution_count": 449,
   "metadata": {},
   "outputs": [],
   "source": [
    "output_filename = \"depTweets_window_13_kmeans_withLabel.csv\""
   ]
  },
  {
   "cell_type": "code",
   "execution_count": 450,
   "metadata": {},
   "outputs": [],
   "source": [
    "depressed_dataset_with_labels.to_csv(os.path.join(r\"D:\\Workspace\\OVGU\\SM_Depression\\src\\time_window\\kmeans_cluster\", output_filename),encoding=\"utf-8\",columns = writeColumns,index=False, date_format='%Y-%m-%d %H:%M')"
   ]
  },
  {
   "cell_type": "code",
   "execution_count": 451,
   "metadata": {},
   "outputs": [
    {
     "data": {
      "text/plain": [
       "1    866\n",
       "0    257\n",
       "4    221\n",
       "2    158\n",
       "3     67\n",
       "Name: cluster_label, dtype: int64"
      ]
     },
     "execution_count": 451,
     "metadata": {},
     "output_type": "execute_result"
    }
   ],
   "source": [
    "depressed_dataset_with_labels.cluster_label.value_counts()"
   ]
  },
  {
   "cell_type": "code",
   "execution_count": 452,
   "metadata": {},
   "outputs": [],
   "source": [
    "del depressed_data_embed_flag,depressed_data_embedfile,depressed_dataset_with_labels,depressed_embeddings"
   ]
  },
  {
   "cell_type": "code",
   "execution_count": null,
   "metadata": {},
   "outputs": [],
   "source": []
  },
  {
   "cell_type": "markdown",
   "metadata": {},
   "source": [
    "**To check if all tweets are embedded and their corresponding embeddings are available - Time Window 14**"
   ]
  },
  {
   "cell_type": "code",
   "execution_count": 453,
   "metadata": {},
   "outputs": [],
   "source": [
    "\n",
    "\n",
    "depressed_data_embedfile = open(\"D:\\Workspace\\OVGU\\SM_Depression\\scripts\\embeddings_sentences\\depressed_dataset_14_embedding.pkl\",\"rb\")\n",
    "\n",
    "depressed_data_embedfile = pickle.load(depressed_data_embedfile)\n",
    "\n",
    "embed_value = 14"
   ]
  },
  {
   "cell_type": "code",
   "execution_count": 454,
   "metadata": {},
   "outputs": [
    {
     "data": {
      "text/plain": [
       "833"
      ]
     },
     "execution_count": 454,
     "metadata": {},
     "output_type": "execute_result"
    }
   ],
   "source": [
    "len(depressed_data_embedfile.keys())"
   ]
  },
  {
   "cell_type": "code",
   "execution_count": 455,
   "metadata": {},
   "outputs": [],
   "source": [
    "depressed_data_embedfile = OrderedDict(depressed_data_embedfile)"
   ]
  },
  {
   "cell_type": "code",
   "execution_count": 456,
   "metadata": {},
   "outputs": [],
   "source": [
    "depressed_data_embed_flag = {key:int(embed_value) for key, value in depressed_data_embedfile.items()}"
   ]
  },
  {
   "cell_type": "code",
   "execution_count": 457,
   "metadata": {},
   "outputs": [
    {
     "data": {
      "text/plain": [
       "833"
      ]
     },
     "execution_count": 457,
     "metadata": {},
     "output_type": "execute_result"
    }
   ],
   "source": [
    "len(depressed_data_embed_flag.keys())"
   ]
  },
  {
   "cell_type": "code",
   "execution_count": 458,
   "metadata": {},
   "outputs": [
    {
     "data": {
      "text/plain": [
       "887"
      ]
     },
     "execution_count": 458,
     "metadata": {},
     "output_type": "execute_result"
    }
   ],
   "source": [
    "len(depressed_dataset_14)"
   ]
  },
  {
   "cell_type": "code",
   "execution_count": 459,
   "metadata": {},
   "outputs": [
    {
     "name": "stderr",
     "output_type": "stream",
     "text": [
      "D:\\Softwares\\Anaconda\\lib\\site-packages\\ipykernel_launcher.py:1: SettingWithCopyWarning: \n",
      "A value is trying to be set on a copy of a slice from a DataFrame.\n",
      "Try using .loc[row_indexer,col_indexer] = value instead\n",
      "\n",
      "See the caveats in the documentation: https://pandas.pydata.org/pandas-docs/stable/user_guide/indexing.html#returning-a-view-versus-a-copy\n",
      "  \"\"\"Entry point for launching an IPython kernel.\n"
     ]
    }
   ],
   "source": [
    "depressed_dataset_14[\"encode_flag\"] = depressed_dataset_14[\"cleanData\"].apply(lambda x: depressed_data_embed_flag.get(x))\n"
   ]
  },
  {
   "cell_type": "code",
   "execution_count": 460,
   "metadata": {},
   "outputs": [
    {
     "data": {
      "text/plain": [
       "14    887\n",
       "Name: encode_flag, dtype: int64"
      ]
     },
     "execution_count": 460,
     "metadata": {},
     "output_type": "execute_result"
    }
   ],
   "source": [
    "depressed_dataset_14.encode_flag.value_counts()"
   ]
  },
  {
   "cell_type": "code",
   "execution_count": 461,
   "metadata": {},
   "outputs": [
    {
     "data": {
      "text/plain": [
       "833"
      ]
     },
     "execution_count": 461,
     "metadata": {},
     "output_type": "execute_result"
    }
   ],
   "source": [
    "depressed_dataset_14.cleanData.nunique()"
   ]
  },
  {
   "cell_type": "markdown",
   "metadata": {},
   "source": [
    "**Clustering on Time window 14 dataset**"
   ]
  },
  {
   "cell_type": "markdown",
   "metadata": {},
   "source": [
    "**Approach 1 - kMeans**"
   ]
  },
  {
   "cell_type": "code",
   "execution_count": 462,
   "metadata": {},
   "outputs": [],
   "source": [
    "from sklearn.cluster import KMeans\n",
    "from yellowbrick.cluster import KElbowVisualizer"
   ]
  },
  {
   "cell_type": "code",
   "execution_count": 463,
   "metadata": {
    "scrolled": true
   },
   "outputs": [
    {
     "data": {
      "text/plain": [
       "833"
      ]
     },
     "execution_count": 463,
     "metadata": {},
     "output_type": "execute_result"
    }
   ],
   "source": [
    "len(list(depressed_data_embedfile.values()))"
   ]
  },
  {
   "cell_type": "code",
   "execution_count": 464,
   "metadata": {},
   "outputs": [],
   "source": [
    "depressed_embeddings = np.array(list(depressed_data_embedfile.values()))"
   ]
  },
  {
   "cell_type": "code",
   "execution_count": 465,
   "metadata": {},
   "outputs": [
    {
     "name": "stderr",
     "output_type": "stream",
     "text": [
      "D:\\Softwares\\Anaconda\\lib\\site-packages\\sklearn\\cluster\\_kmeans.py:939: FutureWarning: 'n_jobs' was deprecated in version 0.23 and will be removed in 0.25.\n",
      "  \" removed in 0.25.\", FutureWarning)\n",
      "D:\\Softwares\\Anaconda\\lib\\site-packages\\sklearn\\cluster\\_kmeans.py:939: FutureWarning: 'n_jobs' was deprecated in version 0.23 and will be removed in 0.25.\n",
      "  \" removed in 0.25.\", FutureWarning)\n",
      "D:\\Softwares\\Anaconda\\lib\\site-packages\\sklearn\\cluster\\_kmeans.py:939: FutureWarning: 'n_jobs' was deprecated in version 0.23 and will be removed in 0.25.\n",
      "  \" removed in 0.25.\", FutureWarning)\n",
      "D:\\Softwares\\Anaconda\\lib\\site-packages\\sklearn\\cluster\\_kmeans.py:939: FutureWarning: 'n_jobs' was deprecated in version 0.23 and will be removed in 0.25.\n",
      "  \" removed in 0.25.\", FutureWarning)\n",
      "D:\\Softwares\\Anaconda\\lib\\site-packages\\sklearn\\cluster\\_kmeans.py:939: FutureWarning: 'n_jobs' was deprecated in version 0.23 and will be removed in 0.25.\n",
      "  \" removed in 0.25.\", FutureWarning)\n",
      "D:\\Softwares\\Anaconda\\lib\\site-packages\\sklearn\\cluster\\_kmeans.py:939: FutureWarning: 'n_jobs' was deprecated in version 0.23 and will be removed in 0.25.\n",
      "  \" removed in 0.25.\", FutureWarning)\n",
      "D:\\Softwares\\Anaconda\\lib\\site-packages\\sklearn\\cluster\\_kmeans.py:939: FutureWarning: 'n_jobs' was deprecated in version 0.23 and will be removed in 0.25.\n",
      "  \" removed in 0.25.\", FutureWarning)\n",
      "D:\\Softwares\\Anaconda\\lib\\site-packages\\sklearn\\cluster\\_kmeans.py:939: FutureWarning: 'n_jobs' was deprecated in version 0.23 and will be removed in 0.25.\n",
      "  \" removed in 0.25.\", FutureWarning)\n",
      "D:\\Softwares\\Anaconda\\lib\\site-packages\\sklearn\\cluster\\_kmeans.py:939: FutureWarning: 'n_jobs' was deprecated in version 0.23 and will be removed in 0.25.\n",
      "  \" removed in 0.25.\", FutureWarning)\n"
     ]
    },
    {
     "data": {
      "image/png": "[encoded data removed]",
      "text/plain": [
       "<Figure size 576x396 with 2 Axes>"
      ]
     },
     "metadata": {},
     "output_type": "display_data"
    },
    {
     "data": {
      "text/plain": [
       "<matplotlib.axes._subplots.AxesSubplot at 0x15eb900c488>"
      ]
     },
     "execution_count": 465,
     "metadata": {},
     "output_type": "execute_result"
    }
   ],
   "source": [
    "model = KMeans(init='k-means++', n_jobs=4)\n",
    "visualizer = KElbowVisualizer(model, k=(2,11))\n",
    "\n",
    "visualizer.fit(depressed_embeddings)    \n",
    "visualizer.show()  "
   ]
  },
  {
   "cell_type": "code",
   "execution_count": 466,
   "metadata": {},
   "outputs": [
    {
     "name": "stderr",
     "output_type": "stream",
     "text": [
      "D:\\Softwares\\Anaconda\\lib\\site-packages\\sklearn\\cluster\\_kmeans.py:939: FutureWarning: 'n_jobs' was deprecated in version 0.23 and will be removed in 0.25.\n",
      "  \" removed in 0.25.\", FutureWarning)\n"
     ]
    }
   ],
   "source": [
    "kmeans = KMeans(n_clusters=5,init='k-means++', n_jobs=4)\n",
    "kmeans = kmeans.fit(depressed_embeddings)"
   ]
  },
  {
   "cell_type": "code",
   "execution_count": 467,
   "metadata": {},
   "outputs": [
    {
     "data": {
      "text/plain": [
       "833"
      ]
     },
     "execution_count": 467,
     "metadata": {},
     "output_type": "execute_result"
    }
   ],
   "source": [
    "kmeans_labels = kmeans.labels_\n",
    "\n",
    "len(kmeans_labels)"
   ]
  },
  {
   "cell_type": "code",
   "execution_count": 468,
   "metadata": {},
   "outputs": [],
   "source": [
    "tweet_label_df = pd.DataFrame()\n",
    "tweet_label_df['cleanData'] = depressed_data_embedfile.keys()\n",
    "tweet_label_df['cluster_label'] = kmeans_labels"
   ]
  },
  {
   "cell_type": "code",
   "execution_count": 469,
   "metadata": {},
   "outputs": [
    {
     "data": {
      "text/html": [
       "<div>\n",
       "<style scoped>\n",
       "    .dataframe tbody tr th:only-of-type {\n",
       "        vertical-align: middle;\n",
       "    }\n",
       "\n",
       "    .dataframe tbody tr th {\n",
       "        vertical-align: top;\n",
       "    }\n",
       "\n",
       "    .dataframe thead th {\n",
       "        text-align: right;\n",
       "    }\n",
       "</style>\n",
       "<table border=\"1\" class=\"dataframe\">\n",
       "  <thead>\n",
       "    <tr style=\"text-align: right;\">\n",
       "      <th></th>\n",
       "      <th>cleanData</th>\n",
       "      <th>cluster_label</th>\n",
       "    </tr>\n",
       "  </thead>\n",
       "  <tbody>\n",
       "    <tr>\n",
       "      <th>0</th>\n",
       "      <td>i think i m gonna get it  then  i suspect it s...</td>\n",
       "      <td>3</td>\n",
       "    </tr>\n",
       "    <tr>\n",
       "      <th>1</th>\n",
       "      <td>but there are fine people on both sides       ...</td>\n",
       "      <td>3</td>\n",
       "    </tr>\n",
       "    <tr>\n",
       "      <th>2</th>\n",
       "      <td>what if the mog is out of town</td>\n",
       "      <td>4</td>\n",
       "    </tr>\n",
       "    <tr>\n",
       "      <th>3</th>\n",
       "      <td>tbh i don t even think you re that much of an ...</td>\n",
       "      <td>1</td>\n",
       "    </tr>\n",
       "    <tr>\n",
       "      <th>4</th>\n",
       "      <td>you re a literal child  you shouldn t be invol...</td>\n",
       "      <td>1</td>\n",
       "    </tr>\n",
       "  </tbody>\n",
       "</table>\n",
       "</div>"
      ],
      "text/plain": [
       "                                           cleanData  cluster_label\n",
       "0  i think i m gonna get it  then  i suspect it s...              3\n",
       "1  but there are fine people on both sides       ...              3\n",
       "2                    what if the mog is out of town               4\n",
       "3  tbh i don t even think you re that much of an ...              1\n",
       "4  you re a literal child  you shouldn t be invol...              1"
      ]
     },
     "execution_count": 469,
     "metadata": {},
     "output_type": "execute_result"
    }
   ],
   "source": [
    "tweet_label_df.head()"
   ]
  },
  {
   "cell_type": "code",
   "execution_count": 470,
   "metadata": {},
   "outputs": [
    {
     "data": {
      "text/plain": [
       "1    460\n",
       "3    161\n",
       "4    146\n",
       "0     50\n",
       "2     16\n",
       "Name: cluster_label, dtype: int64"
      ]
     },
     "execution_count": 470,
     "metadata": {},
     "output_type": "execute_result"
    }
   ],
   "source": [
    "tweet_label_df.cluster_label.value_counts()"
   ]
  },
  {
   "cell_type": "code",
   "execution_count": 471,
   "metadata": {},
   "outputs": [],
   "source": [
    "depressed_dataset_with_labels = pd.merge(depressed_dataset_14, tweet_label_df, on='cleanData')"
   ]
  },
  {
   "cell_type": "code",
   "execution_count": 472,
   "metadata": {},
   "outputs": [
    {
     "data": {
      "text/html": [
       "<div>\n",
       "<style scoped>\n",
       "    .dataframe tbody tr th:only-of-type {\n",
       "        vertical-align: middle;\n",
       "    }\n",
       "\n",
       "    .dataframe tbody tr th {\n",
       "        vertical-align: top;\n",
       "    }\n",
       "\n",
       "    .dataframe thead th {\n",
       "        text-align: right;\n",
       "    }\n",
       "</style>\n",
       "<table border=\"1\" class=\"dataframe\">\n",
       "  <thead>\n",
       "    <tr style=\"text-align: right;\">\n",
       "      <th></th>\n",
       "      <th>accountname</th>\n",
       "      <th>description</th>\n",
       "      <th>favorite_count</th>\n",
       "      <th>location</th>\n",
       "      <th>masked_user_id</th>\n",
       "      <th>retweet_count</th>\n",
       "      <th>timestamp</th>\n",
       "      <th>tweets</th>\n",
       "      <th>twittername</th>\n",
       "      <th>user_type</th>\n",
       "      <th>format</th>\n",
       "      <th>new_date</th>\n",
       "      <th>time_window</th>\n",
       "      <th>tweets_url_token</th>\n",
       "      <th>cleanData</th>\n",
       "      <th>encode_flag</th>\n",
       "      <th>cluster_label</th>\n",
       "    </tr>\n",
       "  </thead>\n",
       "  <tbody>\n",
       "    <tr>\n",
       "      <th>0</th>\n",
       "      <td>Jason Custer, PhD</td>\n",
       "      <td>Rhet/Comp PhD from @fsu_englishdept // Academi...</td>\n",
       "      <td>1</td>\n",
       "      <td>Here and There Along the Echo</td>\n",
       "      <td>depressed_user_35</td>\n",
       "      <td>0.0</td>\n",
       "      <td>9/23/2020 0:04</td>\n",
       "      <td>@FeelTheBryn I think I'm gonna get it, then! I...</td>\n",
       "      <td>JasonCusterPhD</td>\n",
       "      <td>1.0</td>\n",
       "      <td>2</td>\n",
       "      <td>2020-09-23 00:04</td>\n",
       "      <td>14</td>\n",
       "      <td>@FeelTheBryn I think I'm gonna get it, then! I...</td>\n",
       "      <td>i think i m gonna get it  then  i suspect it s...</td>\n",
       "      <td>14</td>\n",
       "      <td>3</td>\n",
       "    </tr>\n",
       "    <tr>\n",
       "      <th>1</th>\n",
       "      <td>ipickuppennies</td>\n",
       "      <td>Disability, frugality and other life adventure...</td>\n",
       "      <td>3</td>\n",
       "      <td>Phoenix, AZ</td>\n",
       "      <td>depressed_user_32</td>\n",
       "      <td>0.0</td>\n",
       "      <td>9/23/2020 0:09</td>\n",
       "      <td>@Done_by_Forty But there are fine people on bo...</td>\n",
       "      <td>ipickuppennies</td>\n",
       "      <td>1.0</td>\n",
       "      <td>2</td>\n",
       "      <td>2020-09-23 00:09</td>\n",
       "      <td>14</td>\n",
       "      <td>@Done_by_Forty But there are fine people on bo...</td>\n",
       "      <td>but there are fine people on both sides       ...</td>\n",
       "      <td>14</td>\n",
       "      <td>3</td>\n",
       "    </tr>\n",
       "    <tr>\n",
       "      <th>2</th>\n",
       "      <td>Dr. J-Cat...5150ðŸ’€ðŸŒ¹</td>\n",
       "      <td>An open mind. Aspiring for greater knowledge f...</td>\n",
       "      <td>1</td>\n",
       "      <td>your mindðŸ¤”</td>\n",
       "      <td>depressed_user_36</td>\n",
       "      <td>0.0</td>\n",
       "      <td>9/23/2020 0:25</td>\n",
       "      <td>@AwsumPreacher What if the MOG is out of town?</td>\n",
       "      <td>jcat_5150</td>\n",
       "      <td>1.0</td>\n",
       "      <td>2</td>\n",
       "      <td>2020-09-23 00:25</td>\n",
       "      <td>14</td>\n",
       "      <td>@AwsumPreacher What if the MOG is out of town?</td>\n",
       "      <td>what if the mog is out of town</td>\n",
       "      <td>14</td>\n",
       "      <td>4</td>\n",
       "    </tr>\n",
       "    <tr>\n",
       "      <th>3</th>\n",
       "      <td>THANA says BLACK LIVES MATTER</td>\n",
       "      <td>??NSFW WARNING??\\r\\r\\r\\n20/She/They/Pan/Poly |...</td>\n",
       "      <td>0</td>\n",
       "      <td>Hazmat's lap</td>\n",
       "      <td>depressed_user_25</td>\n",
       "      <td>0.0</td>\n",
       "      <td>9/23/2020 0:31</td>\n",
       "      <td>@CoyoteLovelyYT Tbh I don't even think you're ...</td>\n",
       "      <td>GAMMAHECKER</td>\n",
       "      <td>1.0</td>\n",
       "      <td>2</td>\n",
       "      <td>2020-09-23 00:31</td>\n",
       "      <td>14</td>\n",
       "      <td>@CoyoteLovelyYT Tbh I don't even think you're ...</td>\n",
       "      <td>tbh i don t even think you re that much of an ...</td>\n",
       "      <td>14</td>\n",
       "      <td>1</td>\n",
       "    </tr>\n",
       "    <tr>\n",
       "      <th>4</th>\n",
       "      <td>THANA says BLACK LIVES MATTER</td>\n",
       "      <td>??NSFW WARNING??\\r\\r\\r\\n20/She/They/Pan/Poly |...</td>\n",
       "      <td>1</td>\n",
       "      <td>Hazmat's lap</td>\n",
       "      <td>depressed_user_25</td>\n",
       "      <td>0.0</td>\n",
       "      <td>9/23/2020 0:35</td>\n",
       "      <td>@_jellybeany_ @CoyoteLovelyYT You're a literal...</td>\n",
       "      <td>GAMMAHECKER</td>\n",
       "      <td>1.0</td>\n",
       "      <td>2</td>\n",
       "      <td>2020-09-23 00:35</td>\n",
       "      <td>14</td>\n",
       "      <td>@_jellybeany_ @CoyoteLovelyYT You're a literal...</td>\n",
       "      <td>you re a literal child  you shouldn t be invol...</td>\n",
       "      <td>14</td>\n",
       "      <td>1</td>\n",
       "    </tr>\n",
       "  </tbody>\n",
       "</table>\n",
       "</div>"
      ],
      "text/plain": [
       "                     accountname  \\\n",
       "0              Jason Custer, PhD   \n",
       "1                 ipickuppennies   \n",
       "2       Dr. J-Cat...5150ðŸ’€ðŸŒ¹   \n",
       "3  THANA says BLACK LIVES MATTER   \n",
       "4  THANA says BLACK LIVES MATTER   \n",
       "\n",
       "                                         description favorite_count  \\\n",
       "0  Rhet/Comp PhD from @fsu_englishdept // Academi...              1   \n",
       "1  Disability, frugality and other life adventure...              3   \n",
       "2  An open mind. Aspiring for greater knowledge f...              1   \n",
       "3  ??NSFW WARNING??\\r\\r\\r\\n20/She/They/Pan/Poly |...              0   \n",
       "4  ??NSFW WARNING??\\r\\r\\r\\n20/She/They/Pan/Poly |...              1   \n",
       "\n",
       "                        location     masked_user_id retweet_count  \\\n",
       "0  Here and There Along the Echo  depressed_user_35           0.0   \n",
       "1                    Phoenix, AZ  depressed_user_32           0.0   \n",
       "2                  your mindðŸ¤”  depressed_user_36           0.0   \n",
       "3                   Hazmat's lap  depressed_user_25           0.0   \n",
       "4                   Hazmat's lap  depressed_user_25           0.0   \n",
       "\n",
       "        timestamp                                             tweets  \\\n",
       "0  9/23/2020 0:04  @FeelTheBryn I think I'm gonna get it, then! I...   \n",
       "1  9/23/2020 0:09  @Done_by_Forty But there are fine people on bo...   \n",
       "2  9/23/2020 0:25     @AwsumPreacher What if the MOG is out of town?   \n",
       "3  9/23/2020 0:31  @CoyoteLovelyYT Tbh I don't even think you're ...   \n",
       "4  9/23/2020 0:35  @_jellybeany_ @CoyoteLovelyYT You're a literal...   \n",
       "\n",
       "      twittername  user_type  format          new_date  time_window  \\\n",
       "0  JasonCusterPhD        1.0       2  2020-09-23 00:04           14   \n",
       "1  ipickuppennies        1.0       2  2020-09-23 00:09           14   \n",
       "2       jcat_5150        1.0       2  2020-09-23 00:25           14   \n",
       "3     GAMMAHECKER        1.0       2  2020-09-23 00:31           14   \n",
       "4     GAMMAHECKER        1.0       2  2020-09-23 00:35           14   \n",
       "\n",
       "                                    tweets_url_token  \\\n",
       "0  @FeelTheBryn I think I'm gonna get it, then! I...   \n",
       "1  @Done_by_Forty But there are fine people on bo...   \n",
       "2     @AwsumPreacher What if the MOG is out of town?   \n",
       "3  @CoyoteLovelyYT Tbh I don't even think you're ...   \n",
       "4  @_jellybeany_ @CoyoteLovelyYT You're a literal...   \n",
       "\n",
       "                                           cleanData  encode_flag  \\\n",
       "0  i think i m gonna get it  then  i suspect it s...           14   \n",
       "1  but there are fine people on both sides       ...           14   \n",
       "2                    what if the mog is out of town            14   \n",
       "3  tbh i don t even think you re that much of an ...           14   \n",
       "4  you re a literal child  you shouldn t be invol...           14   \n",
       "\n",
       "   cluster_label  \n",
       "0              3  \n",
       "1              3  \n",
       "2              4  \n",
       "3              1  \n",
       "4              1  "
      ]
     },
     "execution_count": 472,
     "metadata": {},
     "output_type": "execute_result"
    }
   ],
   "source": [
    "depressed_dataset_with_labels.head()"
   ]
  },
  {
   "cell_type": "code",
   "execution_count": 473,
   "metadata": {},
   "outputs": [
    {
     "data": {
      "text/plain": [
       "Index(['accountname', 'description', 'favorite_count', 'location',\n",
       "       'masked_user_id', 'retweet_count', 'timestamp', 'tweets', 'twittername',\n",
       "       'user_type', 'format', 'new_date', 'time_window', 'tweets_url_token',\n",
       "       'cleanData', 'encode_flag', 'cluster_label'],\n",
       "      dtype='object')"
      ]
     },
     "execution_count": 473,
     "metadata": {},
     "output_type": "execute_result"
    }
   ],
   "source": [
    "depressed_dataset_with_labels.columns"
   ]
  },
  {
   "cell_type": "code",
   "execution_count": 474,
   "metadata": {},
   "outputs": [],
   "source": [
    "writeColumns = ['masked_user_id','new_date', 'time_window','cleanData','cluster_label']"
   ]
  },
  {
   "cell_type": "code",
   "execution_count": 475,
   "metadata": {},
   "outputs": [],
   "source": [
    "output_filename = \"depTweets_window_14_kmeans_withLabel.csv\""
   ]
  },
  {
   "cell_type": "code",
   "execution_count": 476,
   "metadata": {},
   "outputs": [],
   "source": [
    "depressed_dataset_with_labels.to_csv(os.path.join(r\"D:\\Workspace\\OVGU\\SM_Depression\\src\\time_window\\kmeans_cluster\", output_filename),encoding=\"utf-8\",columns = writeColumns,index=False, date_format='%Y-%m-%d %H:%M')"
   ]
  },
  {
   "cell_type": "code",
   "execution_count": 477,
   "metadata": {},
   "outputs": [
    {
     "data": {
      "text/plain": [
       "1    514\n",
       "3    161\n",
       "4    146\n",
       "0     50\n",
       "2     16\n",
       "Name: cluster_label, dtype: int64"
      ]
     },
     "execution_count": 477,
     "metadata": {},
     "output_type": "execute_result"
    }
   ],
   "source": [
    "depressed_dataset_with_labels.cluster_label.value_counts()"
   ]
  },
  {
   "cell_type": "code",
   "execution_count": 478,
   "metadata": {},
   "outputs": [],
   "source": [
    "del depressed_data_embed_flag,depressed_data_embedfile,depressed_dataset_with_labels,depressed_embeddings"
   ]
  },
  {
   "cell_type": "code",
   "execution_count": null,
   "metadata": {},
   "outputs": [],
   "source": []
  }
 ],
 "metadata": {
  "kernelspec": {
   "display_name": "Python 3",
   "language": "python",
   "name": "python3"
  },
  "language_info": {
   "codemirror_mode": {
    "name": "ipython",
    "version": 3
   },
   "file_extension": ".py",
   "mimetype": "text/x-python",
   "name": "python",
   "nbconvert_exporter": "python",
   "pygments_lexer": "ipython3",
   "version": "3.7.9"
  }
 },
 "nbformat": 4,
 "nbformat_minor": 4
}
